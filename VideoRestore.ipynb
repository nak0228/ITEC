{
  "nbformat": 4,
  "nbformat_minor": 0,
  "metadata": {
    "colab": {
      "name": "VideoRestore.ipynb",
      "provenance": [],
      "collapsed_sections": [
        "Vkkr1Sq6t2lM"
      ],
      "mount_file_id": "1u5FKUJBq5ooLQP9c49JbPPVlHurwfIei",
      "authorship_tag": "ABX9TyNviC6v591Tc+Wnj+HM2V0T",
      "include_colab_link": true
    },
    "kernelspec": {
      "display_name": "Python 3",
      "name": "python3"
    },
    "language_info": {
      "name": "python"
    },
    "accelerator": "GPU"
  },
  "cells": [
    {
      "cell_type": "markdown",
      "metadata": {
        "id": "view-in-github",
        "colab_type": "text"
      },
      "source": [
        "<a href=\"https://colab.research.google.com/github/nak650228/ITEC/blob/20220101/VideoRestore.ipynb\" target=\"_parent\"><img src=\"https://colab.research.google.com/assets/colab-badge.svg\" alt=\"Open In Colab\"/></a>"
      ]
    },
    {
      "cell_type": "markdown",
      "metadata": {
        "id": "Vkkr1Sq6t2lM"
      },
      "source": [
        "#◢ Video Restoration Project\n",
        "\n",
        "このツールは、Youtubeやローカルファイルから動画をダウンロードし、それをDeepLearningを使って修復します。各処理の修復結果は、ユーザのGoogle Drive上のMovieフォルダに作られます。\n",
        "\n",
        "その他にも以下の修正を施します。\n",
        "\n",
        "　　・DeOldifyによるモノクロ画像のカラー化\n",
        "\n",
        "　　・Deep Remasterによるノイズ等の除去\n",
        "\n",
        "　　・Microsoft Bringing-Old-Photos-Back-to-LifeまたはGFPGANによる顔画像の修復  \n",
        "\n",
        "　　・音声データの抽出し、動画修正時にそれを結合する\n",
        "\n",
        "　　・オリジナル動画と画像処理後の動画を比較した動画ファイルを作成\n",
        "\n",
        "　　・TecoGANを使った超高解像度化\n",
        "\n",
        "　　・シーンの自動分割機能\n",
        "\n",
        "\n",
        "\n",
        "\n",
        "\n",
        "\n",
        "\n",
        "\n"
      ]
    },
    {
      "cell_type": "markdown",
      "metadata": {
        "id": "O1RKQX4WfXdg"
      },
      "source": [
        "#◢ GPUの確認\n",
        "\n",
        "本ツールでフルHDの処理を行うには16GB以上のメモリを搭載したGPUが必要になります。\n",
        "\n",
        "ランタイムに割り当てられたGPUを確認して、メモリ量が少ない場合は、ランタイムを出荷設定時にリセットします。16GB以上のモデルが割り当てられるまで、このリセットを繰り返してください。\n",
        "\n",
        "16GB以上のメモリが割り当てられなかった場合は、解像度を自動的に落として処理を行います。"
      ]
    },
    {
      "cell_type": "code",
      "metadata": {
        "colab": {
          "base_uri": "https://localhost:8080/"
        },
        "id": "7odvNQ3P0KAt",
        "cellView": "form",
        "outputId": "a45531b5-0ed4-4080-e987-83ebb548679c"
      },
      "source": [
        "#@title 割り当てられたGPUの確認\n",
        "# Check your current GPU\n",
        "# If you are lucky, you get 16GB VRAM. If you are not lucky, you get less. VRAM is important. The more VRAM, the higher the maximum resolution will go.\n",
        "\n",
        "# 16GB: Can handle 720p. 1080p will procude an out-of-memory error. \n",
        "# 8GB: Can handle 480p. 720p will produce an out-of-memory error.\n",
        "import subprocess\n",
        "\n",
        "!nvidia-smi --query-gpu=gpu_name,driver_version,memory.total --format=csv\n",
        "gpumem=subprocess.run([\"nvidia-smi\", \"--query-gpu=memory.total\", \"--format=csv,noheader,nounits\"], stdout=subprocess.PIPE, text=True)"
      ],
      "execution_count": 1,
      "outputs": [
        {
          "output_type": "stream",
          "name": "stdout",
          "text": [
            "name, driver_version, memory.total [MiB]\n",
            "Tesla P100-PCIE-16GB, 460.32.03, 16280 MiB\n"
          ]
        }
      ]
    },
    {
      "cell_type": "markdown",
      "metadata": {
        "id": "S0tVaEKkBfg2"
      },
      "source": [
        "#◢ 初期設定"
      ]
    },
    {
      "cell_type": "code",
      "metadata": {
        "id": "Y4HZBs60R08_",
        "colab": {
          "base_uri": "https://localhost:8080/"
        },
        "outputId": "90032169-31d1-444b-ff90-800d9e7b471d"
      },
      "source": [
        "#@title **フラグの設定と最低限必要なライブラリのインポート**\n",
        "IS_DEBUG     = False\n",
        "IS_LIBLOADED = False\n",
        "IS_MSLOADED  = False\n",
        "IS_OLDIFYLOADED  = False\n",
        "IS_GFPGANLOADED  = False\n",
        "IS_DEEPREMASTERLOADED = False\n",
        "IS_TECOGANLOADED = False\n",
        "IS_DAINLOADED = False\n",
        "\n",
        "!pip install youtube_dl\n",
        "import youtube_dl\n",
        "import cv2\n",
        "import os\n",
        "import glob\n",
        "import datetime\n",
        "import logging\n",
        "import shutil\n",
        "from google.colab import files\n",
        "import moviepy.editor as mpy\n",
        "from IPython.display import clear_output"
      ],
      "execution_count": 2,
      "outputs": [
        {
          "output_type": "stream",
          "name": "stdout",
          "text": [
            "Collecting youtube_dl\n",
            "  Downloading youtube_dl-2021.12.17-py2.py3-none-any.whl (1.9 MB)\n",
            "\u001b[K     |████████████████████████████████| 1.9 MB 4.2 MB/s \n",
            "\u001b[?25hInstalling collected packages: youtube-dl\n",
            "Successfully installed youtube-dl-2021.12.17\n",
            "Imageio: 'ffmpeg-linux64-v3.3.1' was not found on your computer; downloading it now.\n",
            "Try 1. Download from https://github.com/imageio/imageio-binaries/raw/master/ffmpeg/ffmpeg-linux64-v3.3.1 (43.8 MB)\n",
            "Downloading: 8192/45929032 bytes (0.0%)\b\b\b\b\b\b\b\b\b\b\b\b\b\b\b\b\b\b\b\b\b\b\b\b\b\b2670592/45929032 bytes (5.8%)\b\b\b\b\b\b\b\b\b\b\b\b\b\b\b\b\b\b\b\b\b\b\b\b\b\b\b\b\b6774784/45929032 bytes (14.8%)\b\b\b\b\b\b\b\b\b\b\b\b\b\b\b\b\b\b\b\b\b\b\b\b\b\b\b\b\b\b11010048/45929032 bytes (24.0%)\b\b\b\b\b\b\b\b\b\b\b\b\b\b\b\b\b\b\b\b\b\b\b\b\b\b\b\b\b\b\b15097856/45929032 bytes (32.9%)\b\b\b\b\b\b\b\b\b\b\b\b\b\b\b\b\b\b\b\b\b\b\b\b\b\b\b\b\b\b\b19251200/45929032 bytes (41.9%)\b\b\b\b\b\b\b\b\b\b\b\b\b\b\b\b\b\b\b\b\b\b\b\b\b\b\b\b\b\b\b23339008/45929032 bytes (50.8%)\b\b\b\b\b\b\b\b\b\b\b\b\b\b\b\b\b\b\b\b\b\b\b\b\b\b\b\b\b\b\b27336704/45929032 bytes (59.5%)\b\b\b\b\b\b\b\b\b\b\b\b\b\b\b\b\b\b\b\b\b\b\b\b\b\b\b\b\b\b\b31383552/45929032 bytes (68.3%)\b\b\b\b\b\b\b\b\b\b\b\b\b\b\b\b\b\b\b\b\b\b\b\b\b\b\b\b\b\b\b35545088/45929032 bytes (77.4%)\b\b\b\b\b\b\b\b\b\b\b\b\b\b\b\b\b\b\b\b\b\b\b\b\b\b\b\b\b\b\b39501824/45929032 bytes (86.0%)\b\b\b\b\b\b\b\b\b\b\b\b\b\b\b\b\b\b\b\b\b\b\b\b\b\b\b\b\b\b\b43581440/45929032 bytes (94.9%)\b\b\b\b\b\b\b\b\b\b\b\b\b\b\b\b\b\b\b\b\b\b\b\b\b\b\b\b\b\b\b45929032/45929032 bytes (100.0%)\n",
            "  Done\n",
            "File saved as /root/.imageio/ffmpeg/ffmpeg-linux64-v3.3.1.\n"
          ]
        }
      ]
    },
    {
      "cell_type": "markdown",
      "metadata": {
        "id": "pL23bEM24R4l"
      },
      "source": [
        "#◢ 動画ファイルのダウンロード"
      ]
    },
    {
      "cell_type": "code",
      "metadata": {
        "colab": {
          "base_uri": "https://localhost:8080/"
        },
        "id": "-pMiFqHO0hpA",
        "outputId": "cbc29319-9418-4a97-c617-8db683d81191"
      },
      "source": [
        "#@title **Googleドライブのマウント**\n",
        "#@markdown Google ドライブを/content/driveにマウントします。\n",
        "#@markdown このディレクトリの下にMyDrive/Movieというディレクトリがない場合は、それを作ります。\n",
        "\n",
        "from google.colab import drive\n",
        "drive.mount('/content/drive', force_remount=True)\n",
        "print('Google Drive connected.')\n",
        "\n",
        "if not os.path.isdir(\"/content/drive/MyDrive/Movie\"):\n",
        "  print(\"Making directory : /content/drive/MyDrive/Movie\")\n",
        "  os.mkdir(\"/content/drive/MyDrive/Movie\")"
      ],
      "execution_count": 5,
      "outputs": [
        {
          "output_type": "stream",
          "name": "stdout",
          "text": [
            "Mounted at /content/drive\n",
            "Google Drive connected.\n"
          ]
        }
      ]
    },
    {
      "cell_type": "code",
      "metadata": {
        "id": "xnbyOuhiPEFE",
        "colab": {
          "base_uri": "https://localhost:8080/"
        },
        "outputId": "1b168502-81e3-4dfd-96eb-9807eb16a63d"
      },
      "source": [
        "#@title ##**プロジェクト名の入力** { display-mode: \"form\" }\n",
        "#@markdown 任意の名前を入力します。ここで指定した名前のディレクトリがGoogle Drive上に作られ、そこに修復した動画がコピーされます。\n",
        "\n",
        "\n",
        "projectname = 'Suna' #@param {type:\"string\"}\n",
        "\n",
        "projectDir = '/content/drive/MyDrive/Movie/' + projectname\n",
        "if os.path.isdir(projectDir):\n",
        "  print(\"Warning: \" + projectDir + \" is still exist.\")\n",
        "  print(\"Warning: Currnet directory and its contents will be deleted.\")"
      ],
      "execution_count": 10,
      "outputs": [
        {
          "output_type": "stream",
          "name": "stdout",
          "text": [
            "Warning: /content/drive/MyDrive/Movie/Suna is still exist.\n",
            "Warning: Currnet directory and its contents will be deleted.\n"
          ]
        }
      ]
    },
    {
      "cell_type": "code",
      "metadata": {
        "id": "eaANNxvjMLUZ",
        "colab": {
          "base_uri": "https://localhost:8080/"
        },
        "outputId": "237b1d77-cf5d-4a8b-94a4-ca9f70e3bbc7"
      },
      "source": [
        "#@title ##**ビデオのダウンロード** { display-mode: \"form\" }\n",
        "#@markdown *source_urlフィールドに編集したいビデオのURL（YouTubeやTwitterなど）を入力してください。このフィールドを空白にした場合、ローカルストレージにあるビデオをアップロードできます*\n",
        "#@markdown *プロジェクト名は任意でOKです。一応最後にGoogle Driveにプロジェクト名で指定したディレクトリが作られて、途中経過も含めて全ての動画ファイルがコピーされます*\n",
        "\n",
        "%cd /content\n",
        "! rm -f /content/*.mp4\n",
        "! rm -f /content/*.aac\n",
        "! rm -f /content/*.log\n",
        "\n",
        "# setup logging\n",
        "logger = logging.getLogger('LoggingTest')\n",
        "logger.setLevel(10)\n",
        "fh = logging.FileHandler('/content/restore.log')\n",
        "logger.addHandler(fh)\n",
        "\n",
        "formatter = logging.Formatter('%(asctime)s  %(message)s')\n",
        "fh.setFormatter(formatter)\n",
        "\n",
        "log_message='Project Name:     '+projectname\n",
        "logger.info(log_message)\n",
        "\n",
        "source_url = 'https://www.youtube.com/watch?v=ZDIgR60V3U0' #@param {type:\"string\"}\n",
        "\n",
        "if source_url == '':\n",
        "  dt_start_download = datetime.datetime.now()\n",
        "  uploaded = files.upload()\n",
        "\n",
        "  dt_end_download = datetime.datetime.now()\n",
        "  for fn in uploaded.keys():\n",
        "    print('User uploaded file \"{name}\" with length {length} bytes'.format(\n",
        "        name=fn, length=len(uploaded[fn])))\n",
        "  os.rename(fn, fn.replace(\" \", \"\"))\n",
        "  fn = fn.replace(\" \", \"\")\n",
        "  file_name = \"downloaded_video.\" + fn.split(\".\")[-1]\n",
        "  os.rename(fn,file_name)\n",
        "#  !mv -f $fn $file_name\n",
        "  log_message='File Name:       '+fn\n",
        "  logger.info(log_message)\n",
        "\n",
        "else:\n",
        "  try:\n",
        "    ydl_opts = {\n",
        "        'format': 'bestvideo[ext=mp4]+bestaudio[ext=m4a]/mp4',\n",
        "        'outtmpl': 'downloaded_video.mp4',\n",
        "        }\n",
        "    dt_start_download = datetime.datetime.now()\n",
        "    with youtube_dl.YoutubeDL(ydl_opts) as ydl:\n",
        "      ydl.download([source_url])\n",
        "    dt_end_download = datetime.datetime.now()\n",
        "    file_name = 'downloaded_video.mp4'\n",
        "  \n",
        "  except BaseException:\n",
        "    !wget $source_url\n",
        "    fn = source_url.split('/')[-1]\n",
        "    os.rename(fn, fn.replace(\" \", \"\"))\n",
        "    fn = fn.replace(\" \", \"\")\n",
        "    !mv -f $fn $file_name\n",
        "\n",
        "  log_message='URL:       '+source_url\n",
        "  logger.info(log_message)\n",
        "\n",
        "\n",
        "logger.info('Source file downloaded')\n",
        "\n",
        "!cp -r /content/downloaded_video.mp4 /content/video.mp4\n",
        "\n",
        "\n",
        "fps_of_video = int(cv2.VideoCapture(file_name).get(cv2.CAP_PROP_FPS))\n",
        "frames_of_video = int(cv2.VideoCapture(file_name).get(cv2.CAP_PROP_FRAME_COUNT))\n",
        "width_of_video = int(cv2.VideoCapture(file_name).get(cv2.CAP_PROP_FRAME_WIDTH))\n",
        "height_of_video = int(cv2.VideoCapture(file_name).get(cv2.CAP_PROP_FRAME_HEIGHT))\n",
        "print (\"FPS of VIDEO: \",fps_of_video)\n",
        "print (\"Frames of VIDEO: \",frames_of_video)\n",
        "print (\"Width of VIDEO: \",width_of_video)\n",
        "print (\"Height of VIDEO: \",height_of_video)\n",
        "\n",
        "logger.info('===== Information of video file =====')\n",
        "log_message='FPS of VIDEO:          '+str(fps_of_video)\n",
        "logger.info(log_message)\n",
        "log_message='Frames of VIDEO:       '+str(frames_of_video)\n",
        "logger.info(log_message)\n",
        "log_message='Width of VIDEO:        '+str(width_of_video)\n",
        "logger.info(log_message)\n",
        "log_message='Height of VIDEO:       '+str(height_of_video)\n",
        "logger.info(log_message)\n",
        "logger.info('=====================================')"
      ],
      "execution_count": null,
      "outputs": [
        {
          "output_type": "stream",
          "name": "stdout",
          "text": [
            "/content\n",
            "[youtube] ZDIgR60V3U0: Downloading webpage\n",
            "[download] Destination: downloaded_video.f134.mp4\n",
            "[download] 100% of 7.28MiB in 01:29\n",
            "[download] Destination: downloaded_video.mp4.f140\n",
            "[download] 100% of 2.44MiB in 00:47\n",
            "[ffmpeg] Merging formats into \"downloaded_video.mp4\"\n",
            "Deleting original file downloaded_video.f134.mp4 (pass -k to keep)\n",
            "Deleting original file downloaded_video.mp4.f140 (pass -k to keep)\n",
            "FPS of VIDEO:  23\n",
            "Frames of VIDEO:  3860\n",
            "Width of VIDEO:  558\n",
            "Height of VIDEO:  360\n"
          ]
        }
      ]
    },
    {
      "cell_type": "code",
      "metadata": {
        "id": "5ObdmOuzz13m"
      },
      "source": [
        "#@title ##**動画の調整** { display-mode: \"form\" }\n",
        "\n",
        "#@markdown *1分以上の動画をダウンロードすることはお勧めできません。また、タイトルに「スペース」や「ドット」が含まれている動画はアップロードしないでください。*\n",
        "#@markdown *実行中にエラーが発生した場合は、このブロックを再度実行します。*\n",
        "#@markdown *動画の長さを変更することができます。*\n",
        "\n",
        "#@markdown **動画の長さを変更する場合は、その開始時間と終了時間を指定して下さい。**\n",
        "target_start = '00:00:12' #@param {type:\"string\"}\n",
        "target_end = '00:00:15' #@param {type:\"string\"}\n",
        "\n",
        "\n",
        "if os.path.isfile(\"/content/cropped_video.mp4\"):\n",
        "    os.remove(\"/content/cropped_video.mp4\")\n",
        "\n",
        "!ffmpeg -i /content/downloaded_video.mp4  -ss $target_start -to $target_end /content/cropped_video.mp4\n",
        "\n",
        "if os.path.isfile(\"/content/video.mp4\"):\n",
        "    os.remove(\"/content/video.mp4\")\n",
        "\n",
        "!cp /content/cropped_video.mp4 /content/video.mp4\n",
        "\n",
        "##@markdown **インターレスを削除する場合に有効にしてください。**\n",
        "#is_deinterlace = False #@param {type:\"boolean\"}\n",
        "\n",
        "#@markdown **モノクロ動画にAIで色を付ける場合は有効にしてください。**\n",
        "is_deoldify = True #@param {type:\"boolean\"}\n",
        "\n",
        "\n",
        "#@markdown **Deoldifyのレンダリングファクターを指定します。(お勧めは10～25）**\n",
        "render_factor = 20  #@param {type: \"slider\", min: 5, max: 44}\n",
        "\n",
        "#@markdown **DeepRemasterを有効にすると、低画質の動画からノイズなどを除去できます。**\n",
        "is_DeepRemaster = False #@param {type:\"boolean\"}\n",
        "\n",
        "\n",
        "#@markdown **GANを使って、動画の顔部分を書き換えます。大体はがっかりしますが、時々きれいに修正されることがあります**\n",
        "\n",
        "#@markdown **Microsoft Bringing-Old-Photos-Back-to-LifeまたはGFPGANを選択して、いずれかの手法で人物の精彩化を試みます。**\n",
        "which_FaceGAN = 'Microsoft' #@param [\"None\", \"GFPGAN\", \"Microsoft\"] {allow-input: true}\n",
        "\n",
        "#@markdown **フレーム補完利用の有無。**\n",
        "#@markdown **フレームの数を倍にすることで、映像の動きをスムーズにします。**\n",
        "is_DAIN = False #@param {type:\"boolean\"}\n",
        "\n",
        "\n",
        "file_name=\"/content/cropped_video.mp4\"\n",
        "fps_of_video = int(cv2.VideoCapture(file_name).get(cv2.CAP_PROP_FPS))\n",
        "frames_of_video = int(cv2.VideoCapture(file_name).get(cv2.CAP_PROP_FRAME_COUNT))\n",
        "width_of_video = int(cv2.VideoCapture(file_name).get(cv2.CAP_PROP_FRAME_WIDTH))\n",
        "height_of_video = int(cv2.VideoCapture(file_name).get(cv2.CAP_PROP_FRAME_HEIGHT))\n",
        "\n",
        "log_message='Start:                       '+target_start\n",
        "logger.info(log_message)\n",
        "log_message='End  :                       '+target_end\n",
        "logger.info(log_message)\n",
        "log_message='Oldify:                      '+str(is_deoldify)\n",
        "logger.info(log_message)\n",
        "log_message='Render Factor:               '+str(render_factor)\n",
        "logger.info(log_message)\n",
        "log_message='Deep Remaster:               '+str(is_DeepRemaster)\n",
        "logger.info(log_message)\n",
        "log_message='Type of Face GAN:            '+str(which_FaceGAN)\n",
        "logger.info(log_message)\n",
        "log_message='DAIN :                       '+str(is_DAIN)\n",
        "logger.info(log_message)\n",
        "\n",
        "clear_output()"
      ],
      "execution_count": null,
      "outputs": []
    },
    {
      "cell_type": "code",
      "metadata": {
        "id": "IqUFrU1vMiXw",
        "colab": {
          "base_uri": "https://localhost:8080/",
          "height": 504
        },
        "outputId": "7e774131-1faa-4362-e846-8e911a63020f"
      },
      "source": [
        "#@title ##**サイズ調整後の動画を表示（修復対象）** { display-mode: \"form\" }\n",
        "\n",
        "what_next = 'play' #@param [\"play\", \"download\"]\n",
        "if what_next == \"play\":\n",
        "#  display(mpy.ipython_display(\"/content/video.mp4\", height=400, autoplay=1, maxduration=600))\n",
        "  display(mpy.ipython_display(\"/content/video.mp4\", autoplay=1, maxduration=600, width=640))\n",
        "else:\n",
        "  files.download('/content/video.mp4')\n",
        "\n",
        "print (\"FPS of VIDEO: \",fps_of_video)\n",
        "print (\"Frames of VIDEO: \",frames_of_video)\n",
        "print (\"Width of VIDEO: \",width_of_video)\n",
        "print (\"Height of VIDEO: \",height_of_video)"
      ],
      "execution_count": null,
      "outputs": [
        {
          "output_type": "display_data",
          "data": {
            "text/html": [
              "<div align=middle><video autoplay='1' width='640'src='data:video/mp4;base64,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' controls>Sorry, seems like your browser doesn't support HTML5 audio/video</video></div>"
            ],
            "text/plain": [
              "<moviepy.video.io.html_tools.HTML2 object>"
            ]
          },
          "metadata": {}
        },
        {
          "output_type": "stream",
          "name": "stdout",
          "text": [
            "FPS of VIDEO:  23\n",
            "Frames of VIDEO:  72\n",
            "Width of VIDEO:  558\n",
            "Height of VIDEO:  360\n"
          ]
        }
      ]
    },
    {
      "cell_type": "markdown",
      "source": [
        "#■メイン処理\n",
        "入力したパラメータが正しいことを確認したら、この行をクリックした後、Runtimeメニューから「以降のセルを実行」を選択してください。"
      ],
      "metadata": {
        "id": "UdfplSz7K5m4"
      }
    },
    {
      "cell_type": "markdown",
      "metadata": {
        "id": "vc25QNoZbviM"
      },
      "source": [
        "#◢ 関数定義"
      ]
    },
    {
      "cell_type": "code",
      "metadata": {
        "id": "I2-LWRT7eo42",
        "cellView": "form"
      },
      "source": [
        "#@title ##**各種関数の定義**\n",
        "#@markdown **decomposit_video(展開先フォルダ, ソースビデオファイル)  　　　　ビデオを静止画フレームに分解する**\n",
        "#@markdown **unsharp_mask(ソースイメージ, 先鋭化の強さ)　　　　　　　　　　静止画のエッジなどを強調する**\n",
        "\n",
        "def decomposit_video(video_folder,video_file, frame_rate):\n",
        "  if os.path.isdir(video_folder):\n",
        "    shutil.rmtree(video_folder)\n",
        "\n",
        "  os.mkdir(video_folder)\n",
        "\n",
        "  os.chdir(video_folder)\n",
        "\n",
        "  decompose_command = 'ffmpeg -i ' + video_file + ' -vf fps=' + str(frame_rate) + ' %09d.png'\n",
        "  subprocess.run(decompose_command, shell=True)\n",
        "  #!ffmpeg -i /content/video.mp4 %09d.png\n",
        "\n",
        "  #clear_output()\n",
        "\n",
        "def composit_video(video_folder, video_file, frame_rate):\n",
        "  if os.path.isfile(video_file):\n",
        "    os.remove(video_file)\n",
        "\n",
        "  compose_command='ffmpeg -f image2 -framerate ' + str(frame_rate) + ' -i ' + video_folder + '/%09d.png -c:v h264_nvenc -preset slow -qp 18 -pix_fmt yuv420p ' + video_file\n",
        "  subprocess.run(compose_command, shell=True)\n",
        "  #clear_output()\n",
        "\n",
        "def UnSharpMask(image_file, k):\n",
        "    kernel = np.array([[-k/9.0, -k/9.0, -k/9.0],\n",
        "                    [-k/9.0, 1 + (8 * k)/9.0, -k/9.0],\n",
        "                    [-k/9.0, -k/9.0, -k/9.0]])\n",
        "    dst = cv2.filter2D(image_file, -1, kernel)\n",
        "    return dst\n",
        "\n",
        "def make_sharp_kernel(k: int):\n",
        "  return np.array([\n",
        "    [-k / 9, -k / 9, -k / 9],\n",
        "    [-k / 9, 1 + 8 * k / 9, k / 9],\n",
        "    [-k / 9, -k / 9, -k / 9]\n",
        "  ], np.float32)\n",
        "\n",
        "def unsharp_mask_movie(video_folder, video_file, k, frame_rate):\n",
        "  decomposit_video(video_folder,video_file, frame_rate)\n",
        "\n",
        "  files = glob.glob(video_folder+'/*.png')\n",
        "  for ifile in files:\n",
        "    print(\"Now processing \",ifile)\n",
        "    imageblur = cv2.imread(ifile, 0)\n",
        "#    imagesharp = UnSharpMask(imageblur,k)\n",
        "\n",
        "    kernel=make_sharp_kernel(1.0)\n",
        "    imagesharp=cv2.filter2D(imageblur,-1,kernel).astype(\"uint8\")\n",
        "    cv2.imwrite(ifile, imagesharp)\n",
        "\n",
        "  composit_video(video_folder, video_file, frame_rate)\n",
        "\n",
        "\n",
        "from PIL import Image\n",
        "import numpy as np\n",
        "import torch\n",
        "import torch.nn.functional as F\n",
        "import torchvision\n",
        "\n",
        "def load_tensor(image_file):\n",
        "    with Image.open(image_file) as img:\n",
        "        array = np.asarray(img, np.float32).transpose([2, 0, 1]) / 255.0\n",
        "        tensor = torch.as_tensor(np.expand_dims(array, axis=0))  # rank 4\n",
        "    return tensor\n",
        "\n",
        "\n",
        "#def sharpen_filter(image_file):\n",
        "#    kernel = np.array([[-2, -2, -2], [-2, 32, -2], [-2, -2, -2]], np.float32) / 16.0  # convolution filter\n",
        "#    with torch.no_grad():\n",
        "#        # [out_ch, in_ch, .., ..] : channel wiseに計算\n",
        "#        sharpen_k = torch.as_tensor(kernel.reshape(1, 1, 3, 3))\n",
        "#\n",
        "#        color = load_tensor(image_file)  # color image [1, 3, H, W]\n",
        "#        # channel-wise conv(大事)　3x3 convなのでPadding=1を入れる\n",
        "#        multiband = [F.conv2d(color[:, i:i + 1,:,:], sharpen_k, padding=1) for i in range(3)]\n",
        "#        sharpened_image = torch.cat(multiband, dim=1)\n",
        "#        torchvision.utils.save_image(sharpened_image, image_file)\n",
        "\n",
        "def sharpen_filter(image_file, k):\n",
        "  kernel = np.array([[-float(k)/9.0, -float(k)/9.0, -float(k)/9.0],\n",
        "                    [-float(k)/9.0, 1 + (8 * float(k))/9.0, -float(k)/9.0],\n",
        "                    [-float(k)/9.0, -float(k)/9.0, -float(k)/9.0]])\n",
        "  gray = cv2.imread(image_file,0)\n",
        "  dst = cv2.filter2D(gray, -1, kernel)\n",
        "  cv2.imwrite(image_file,dst)\n",
        "  return dst\n",
        "\n",
        "\n",
        "def sharpen_movie(video_folder, video_file, k, frame_rate):\n",
        "  decomposit_video(video_folder,video_file, frame_rate)\n",
        "\n",
        "  files = glob.glob(video_folder+'/*.png')\n",
        "  for ifile in files:\n",
        "    print(\"Now processing \",ifile)\n",
        "    sharpen_filter(ifile, k)\n",
        "\n",
        "  composit_video(video_folder, video_file, frame_rate)\n",
        "\n",
        "\n",
        "#def sharpen_movie(video_folder, video_file, k, frame_rate):\n",
        "#  decomposit_video(video_folder,video_file, frame_rate)\n",
        "#\n",
        "#  files = glob.glob(video_folder+'/*.png')\n",
        "#  for ifile in files:\n",
        "#    print(\"Now processing \",ifile)\n",
        "#    sharpen_filter(ifile)\n",
        "\n",
        "#  composit_video(video_folder, video_file, frame_rate)\n",
        "\n",
        "\n",
        "def hist_filter(image_file):\n",
        "    img = cv2.imread(image_file,0)\n",
        "\n",
        "# create a CLAHE object (Arguments are optional).\n",
        "    clahe = cv2.createCLAHE(clipLimit=2.0, tileGridSize=(8,8))\n",
        "    cl1 = clahe.apply(img)\n",
        "\n",
        "    cv2.imwrite(image_file,cl1)\n",
        "\n",
        "\n",
        "def changehistgram_movie(video_folder, video_file, frame_rate):\n",
        "  decomposit_video(video_folder,video_file, frame_rate)\n",
        "\n",
        "  files = glob.glob(video_folder+'/*.png')\n",
        "  for ifile in files:\n",
        "    print(\"Now processing \",ifile)\n",
        "    hist_filter(ifile)\n",
        "\n",
        "  composit_video(video_folder, video_file, frame_rate)\n",
        "\n",
        "def colorize_video(source_video, output_video, render_factor):\n",
        "  print(source_video)\n",
        "  print(output_video)\n",
        "\n",
        "  if os.path.isfile(\"/content/DeOldify/video\"):\n",
        "    shutil.rmtree(\"/content/DeOldify/video\")\n",
        "\n",
        "  !mkdir -p '/content/DeOldify/video/source'\n",
        "\n",
        "  command1=\"cp -r \" + source_video + \" /content/DeOldify/video/source/video.mp4\"\n",
        "  subprocess.run(command1,shell=True)\n",
        "  print(command1)\n",
        "#  !cp -r str(source_video) /content/DeOldify/video/source/video.mp4\n",
        "  video_path = colorizer.colorize_from_file_name('/content/DeOldify/video/source/video.mp4', render_factor)\n",
        " \n",
        "  command2=\"cp -r /content/DeOldify/video/result/video.mp4 \" + output_video\n",
        "  subprocess.run(command2,shell=True)\n",
        "#  !cp -r /content/DeOldify/video/result/video.mp4 str(output_video)\n",
        "  print(command2)\n",
        "  if os.path.isfile(\"/content/DeOldify/video/result/video.mp4\"):\n",
        "    os.remove(\"/content/DeOldify/video/result/video.mp4\")\n",
        "\n",
        "\n",
        "def clear_logs(flag):\n",
        "  if flag != True:\n",
        "    clear_output()\n",
        "\n",
        "\n",
        "!mkdir /content/reference\n",
        "\n"
      ],
      "execution_count": 15,
      "outputs": []
    },
    {
      "cell_type": "code",
      "metadata": {
        "id": "VJ1FPSlRyxXg",
        "colab": {
          "base_uri": "https://localhost:8080/"
        },
        "cellView": "form",
        "outputId": "f813f7e9-3912-4942-bd7f-ed3c761081bb"
      },
      "source": [
        "#@title ##**ライブラリ等のインストール**\n",
        "\n",
        "if IS_LIBLOADED != True:\n",
        "\n",
        "  %cd /content\n",
        "\n",
        "  p = os.getenv('PATH')\n",
        "  ld = os.getenv('LD_LIBRARY_PATH')\n",
        "  os.environ['PATH'] = f\"/usr/local/cuda-10.1/bin:{p}\"\n",
        "  os.environ['LD_LIBRARY_PATH'] = f\"/usr/local/cuda-10.1/lib64:{ld}\"\n",
        "\n",
        "  !pip install ffmpeg\n",
        "  !pip install ffmpeg-python\n",
        "# !pip install torch==1.10.0\n",
        "# !pip install torchvision==0.10.1\n",
        "# !pip install scipy==1.1.0\n",
        "  !pip install torch\n",
        "  !pip install torchvision\n",
        "  !pip install scipy\n",
        "  !pip install imgaug\n",
        "\n",
        "  !pip install tensorflow\n",
        "  #!pip install tensorflow==1.15.5\n",
        "  #!pip install imgaug==0.2.5\n",
        "  #!pip install scipy==1.2.0\n",
        "  #!pip install torch==1.4\n",
        "  #!pip install torchvision==0.5\n",
        "\n",
        "  #シーン分割\n",
        "#  !pip install scenedetect[opencv,progress_bar]\n",
        "  !pip install scenedetect\n",
        "\n",
        "  import tensorflow as tf\n",
        "  import ffmpeg\n",
        "  import numpy as np\n",
        "  import imageio\n",
        "  import cv2\n",
        "  import torch\n",
        "  import glob\n",
        "  import shutil\n",
        "  import time\n",
        "  from IPython.display import clear_output\n",
        "\n",
        "\n",
        "  torch.backends.cudnn.benchmark=True\n",
        "\n",
        "#clear_output()\n",
        "  IS_LIBLOADED = True\n"
      ],
      "execution_count": 17,
      "outputs": [
        {
          "output_type": "stream",
          "name": "stdout",
          "text": [
            "/content\n",
            "Collecting ffmpeg\n",
            "  Downloading ffmpeg-1.4.tar.gz (5.1 kB)\n",
            "Building wheels for collected packages: ffmpeg\n",
            "  Building wheel for ffmpeg (setup.py) ... \u001b[?25l\u001b[?25hdone\n",
            "  Created wheel for ffmpeg: filename=ffmpeg-1.4-py3-none-any.whl size=6083 sha256=02c8669a23d2cbcfbb4be44a10a9ec10a357da1911557d61ff1c6c8e4f20eb6f\n",
            "  Stored in directory: /root/.cache/pip/wheels/64/80/6e/caa3e16deb0267c3cbfd36862058a724144e19fdb9eb03af0f\n",
            "Successfully built ffmpeg\n",
            "Installing collected packages: ffmpeg\n",
            "Successfully installed ffmpeg-1.4\n",
            "Collecting ffmpeg-python\n",
            "  Downloading ffmpeg_python-0.2.0-py3-none-any.whl (25 kB)\n",
            "Requirement already satisfied: future in /usr/local/lib/python3.7/dist-packages (from ffmpeg-python) (0.16.0)\n",
            "Installing collected packages: ffmpeg-python\n",
            "Successfully installed ffmpeg-python-0.2.0\n",
            "Requirement already satisfied: torch in /usr/local/lib/python3.7/dist-packages (1.10.0+cu111)\n",
            "Requirement already satisfied: typing-extensions in /usr/local/lib/python3.7/dist-packages (from torch) (3.10.0.2)\n",
            "Requirement already satisfied: torchvision in /usr/local/lib/python3.7/dist-packages (0.11.1+cu111)\n",
            "Requirement already satisfied: torch==1.10.0 in /usr/local/lib/python3.7/dist-packages (from torchvision) (1.10.0+cu111)\n",
            "Requirement already satisfied: numpy in /usr/local/lib/python3.7/dist-packages (from torchvision) (1.19.5)\n",
            "Requirement already satisfied: pillow!=8.3.0,>=5.3.0 in /usr/local/lib/python3.7/dist-packages (from torchvision) (7.1.2)\n",
            "Requirement already satisfied: typing-extensions in /usr/local/lib/python3.7/dist-packages (from torch==1.10.0->torchvision) (3.10.0.2)\n",
            "Requirement already satisfied: scipy in /usr/local/lib/python3.7/dist-packages (1.4.1)\n",
            "Requirement already satisfied: numpy>=1.13.3 in /usr/local/lib/python3.7/dist-packages (from scipy) (1.19.5)\n",
            "Requirement already satisfied: imgaug in /usr/local/lib/python3.7/dist-packages (0.2.9)\n",
            "Requirement already satisfied: imageio in /usr/local/lib/python3.7/dist-packages (from imgaug) (2.4.1)\n",
            "Requirement already satisfied: opencv-python in /usr/local/lib/python3.7/dist-packages (from imgaug) (4.1.2.30)\n",
            "Requirement already satisfied: Shapely in /usr/local/lib/python3.7/dist-packages (from imgaug) (1.8.0)\n",
            "Requirement already satisfied: six in /usr/local/lib/python3.7/dist-packages (from imgaug) (1.15.0)\n",
            "Requirement already satisfied: numpy>=1.15.0 in /usr/local/lib/python3.7/dist-packages (from imgaug) (1.19.5)\n",
            "Requirement already satisfied: scipy in /usr/local/lib/python3.7/dist-packages (from imgaug) (1.4.1)\n",
            "Requirement already satisfied: Pillow in /usr/local/lib/python3.7/dist-packages (from imgaug) (7.1.2)\n",
            "Requirement already satisfied: scikit-image>=0.11.0 in /usr/local/lib/python3.7/dist-packages (from imgaug) (0.18.3)\n",
            "Requirement already satisfied: matplotlib in /usr/local/lib/python3.7/dist-packages (from imgaug) (3.2.2)\n",
            "Requirement already satisfied: PyWavelets>=1.1.1 in /usr/local/lib/python3.7/dist-packages (from scikit-image>=0.11.0->imgaug) (1.2.0)\n",
            "Requirement already satisfied: tifffile>=2019.7.26 in /usr/local/lib/python3.7/dist-packages (from scikit-image>=0.11.0->imgaug) (2021.11.2)\n",
            "Requirement already satisfied: networkx>=2.0 in /usr/local/lib/python3.7/dist-packages (from scikit-image>=0.11.0->imgaug) (2.6.3)\n",
            "Requirement already satisfied: kiwisolver>=1.0.1 in /usr/local/lib/python3.7/dist-packages (from matplotlib->imgaug) (1.3.2)\n",
            "Requirement already satisfied: cycler>=0.10 in /usr/local/lib/python3.7/dist-packages (from matplotlib->imgaug) (0.11.0)\n",
            "Requirement already satisfied: pyparsing!=2.0.4,!=2.1.2,!=2.1.6,>=2.0.1 in /usr/local/lib/python3.7/dist-packages (from matplotlib->imgaug) (3.0.6)\n",
            "Requirement already satisfied: python-dateutil>=2.1 in /usr/local/lib/python3.7/dist-packages (from matplotlib->imgaug) (2.8.2)\n",
            "Requirement already satisfied: tensorflow in /usr/local/lib/python3.7/dist-packages (2.7.0)\n",
            "Requirement already satisfied: gast<0.5.0,>=0.2.1 in /usr/local/lib/python3.7/dist-packages (from tensorflow) (0.4.0)\n",
            "Requirement already satisfied: termcolor>=1.1.0 in /usr/local/lib/python3.7/dist-packages (from tensorflow) (1.1.0)\n",
            "Requirement already satisfied: h5py>=2.9.0 in /usr/local/lib/python3.7/dist-packages (from tensorflow) (3.1.0)\n",
            "Requirement already satisfied: absl-py>=0.4.0 in /usr/local/lib/python3.7/dist-packages (from tensorflow) (0.12.0)\n",
            "Requirement already satisfied: six>=1.12.0 in /usr/local/lib/python3.7/dist-packages (from tensorflow) (1.15.0)\n",
            "Requirement already satisfied: keras-preprocessing>=1.1.1 in /usr/local/lib/python3.7/dist-packages (from tensorflow) (1.1.2)\n",
            "Requirement already satisfied: libclang>=9.0.1 in /usr/local/lib/python3.7/dist-packages (from tensorflow) (12.0.0)\n",
            "Requirement already satisfied: protobuf>=3.9.2 in /usr/local/lib/python3.7/dist-packages (from tensorflow) (3.17.3)\n",
            "Requirement already satisfied: tensorflow-estimator<2.8,~=2.7.0rc0 in /usr/local/lib/python3.7/dist-packages (from tensorflow) (2.7.0)\n",
            "Requirement already satisfied: keras<2.8,>=2.7.0rc0 in /usr/local/lib/python3.7/dist-packages (from tensorflow) (2.7.0)\n",
            "Requirement already satisfied: tensorflow-io-gcs-filesystem>=0.21.0 in /usr/local/lib/python3.7/dist-packages (from tensorflow) (0.22.0)\n",
            "Requirement already satisfied: astunparse>=1.6.0 in /usr/local/lib/python3.7/dist-packages (from tensorflow) (1.6.3)\n",
            "Requirement already satisfied: wheel<1.0,>=0.32.0 in /usr/local/lib/python3.7/dist-packages (from tensorflow) (0.37.0)\n",
            "Requirement already satisfied: typing-extensions>=3.6.6 in /usr/local/lib/python3.7/dist-packages (from tensorflow) (3.10.0.2)\n",
            "Requirement already satisfied: opt-einsum>=2.3.2 in /usr/local/lib/python3.7/dist-packages (from tensorflow) (3.3.0)\n",
            "Requirement already satisfied: numpy>=1.14.5 in /usr/local/lib/python3.7/dist-packages (from tensorflow) (1.19.5)\n",
            "Requirement already satisfied: tensorboard~=2.6 in /usr/local/lib/python3.7/dist-packages (from tensorflow) (2.7.0)\n",
            "Requirement already satisfied: google-pasta>=0.1.1 in /usr/local/lib/python3.7/dist-packages (from tensorflow) (0.2.0)\n",
            "Requirement already satisfied: flatbuffers<3.0,>=1.12 in /usr/local/lib/python3.7/dist-packages (from tensorflow) (2.0)\n",
            "Requirement already satisfied: grpcio<2.0,>=1.24.3 in /usr/local/lib/python3.7/dist-packages (from tensorflow) (1.42.0)\n",
            "Requirement already satisfied: wrapt>=1.11.0 in /usr/local/lib/python3.7/dist-packages (from tensorflow) (1.13.3)\n",
            "Requirement already satisfied: cached-property in /usr/local/lib/python3.7/dist-packages (from h5py>=2.9.0->tensorflow) (1.5.2)\n",
            "Requirement already satisfied: google-auth-oauthlib<0.5,>=0.4.1 in /usr/local/lib/python3.7/dist-packages (from tensorboard~=2.6->tensorflow) (0.4.6)\n",
            "Requirement already satisfied: werkzeug>=0.11.15 in /usr/local/lib/python3.7/dist-packages (from tensorboard~=2.6->tensorflow) (1.0.1)\n",
            "Requirement already satisfied: markdown>=2.6.8 in /usr/local/lib/python3.7/dist-packages (from tensorboard~=2.6->tensorflow) (3.3.6)\n",
            "Requirement already satisfied: requests<3,>=2.21.0 in /usr/local/lib/python3.7/dist-packages (from tensorboard~=2.6->tensorflow) (2.23.0)\n",
            "Requirement already satisfied: setuptools>=41.0.0 in /usr/local/lib/python3.7/dist-packages (from tensorboard~=2.6->tensorflow) (57.4.0)\n",
            "Requirement already satisfied: tensorboard-plugin-wit>=1.6.0 in /usr/local/lib/python3.7/dist-packages (from tensorboard~=2.6->tensorflow) (1.8.0)\n",
            "Requirement already satisfied: tensorboard-data-server<0.7.0,>=0.6.0 in /usr/local/lib/python3.7/dist-packages (from tensorboard~=2.6->tensorflow) (0.6.1)\n",
            "Requirement already satisfied: google-auth<3,>=1.6.3 in /usr/local/lib/python3.7/dist-packages (from tensorboard~=2.6->tensorflow) (1.35.0)\n",
            "Requirement already satisfied: pyasn1-modules>=0.2.1 in /usr/local/lib/python3.7/dist-packages (from google-auth<3,>=1.6.3->tensorboard~=2.6->tensorflow) (0.2.8)\n",
            "Requirement already satisfied: cachetools<5.0,>=2.0.0 in /usr/local/lib/python3.7/dist-packages (from google-auth<3,>=1.6.3->tensorboard~=2.6->tensorflow) (4.2.4)\n",
            "Requirement already satisfied: rsa<5,>=3.1.4 in /usr/local/lib/python3.7/dist-packages (from google-auth<3,>=1.6.3->tensorboard~=2.6->tensorflow) (4.8)\n",
            "Requirement already satisfied: requests-oauthlib>=0.7.0 in /usr/local/lib/python3.7/dist-packages (from google-auth-oauthlib<0.5,>=0.4.1->tensorboard~=2.6->tensorflow) (1.3.0)\n",
            "Requirement already satisfied: importlib-metadata>=4.4 in /usr/local/lib/python3.7/dist-packages (from markdown>=2.6.8->tensorboard~=2.6->tensorflow) (4.8.2)\n",
            "Requirement already satisfied: zipp>=0.5 in /usr/local/lib/python3.7/dist-packages (from importlib-metadata>=4.4->markdown>=2.6.8->tensorboard~=2.6->tensorflow) (3.6.0)\n",
            "Requirement already satisfied: pyasn1<0.5.0,>=0.4.6 in /usr/local/lib/python3.7/dist-packages (from pyasn1-modules>=0.2.1->google-auth<3,>=1.6.3->tensorboard~=2.6->tensorflow) (0.4.8)\n",
            "Requirement already satisfied: idna<3,>=2.5 in /usr/local/lib/python3.7/dist-packages (from requests<3,>=2.21.0->tensorboard~=2.6->tensorflow) (2.10)\n",
            "Requirement already satisfied: chardet<4,>=3.0.2 in /usr/local/lib/python3.7/dist-packages (from requests<3,>=2.21.0->tensorboard~=2.6->tensorflow) (3.0.4)\n",
            "Requirement already satisfied: urllib3!=1.25.0,!=1.25.1,<1.26,>=1.21.1 in /usr/local/lib/python3.7/dist-packages (from requests<3,>=2.21.0->tensorboard~=2.6->tensorflow) (1.24.3)\n",
            "Requirement already satisfied: certifi>=2017.4.17 in /usr/local/lib/python3.7/dist-packages (from requests<3,>=2.21.0->tensorboard~=2.6->tensorflow) (2021.10.8)\n",
            "Requirement already satisfied: oauthlib>=3.0.0 in /usr/local/lib/python3.7/dist-packages (from requests-oauthlib>=0.7.0->google-auth-oauthlib<0.5,>=0.4.1->tensorboard~=2.6->tensorflow) (3.1.1)\n",
            "Collecting scenedetect\n",
            "  Downloading scenedetect-0.5.6.1-py2.py3-none-any.whl (98 kB)\n",
            "\u001b[K     |████████████████████████████████| 98 kB 3.6 MB/s \n",
            "\u001b[?25hRequirement already satisfied: numpy in /usr/local/lib/python3.7/dist-packages (from scenedetect) (1.19.5)\n",
            "Requirement already satisfied: tqdm in /usr/local/lib/python3.7/dist-packages (from scenedetect) (4.62.3)\n",
            "Requirement already satisfied: Click in /usr/local/lib/python3.7/dist-packages (from scenedetect) (7.1.2)\n",
            "Installing collected packages: scenedetect\n",
            "Successfully installed scenedetect-0.5.6.1\n"
          ]
        }
      ]
    },
    {
      "cell_type": "markdown",
      "metadata": {
        "id": "f8e8z_fE2yLK"
      },
      "source": [
        "# ◢ 音声情報を抽出する"
      ]
    },
    {
      "cell_type": "code",
      "metadata": {
        "id": "jCy-I-yN29Bw"
      },
      "source": [
        "!ffmpeg -i /content/video.mp4 -vn -y -acodec copy output.aac\n",
        "clear_logs(IS_DEBUG)"
      ],
      "execution_count": null,
      "outputs": []
    },
    {
      "cell_type": "markdown",
      "metadata": {
        "id": "f-HjKY3M_NAt"
      },
      "source": [
        "# ◢ 前処理\n",
        "**本来の処理を行う前に、動画の縮小、ヒストグラムの調整、アンシャープマスクの適用、インターレス処理などの前処理を行います。**"
      ]
    },
    {
      "cell_type": "markdown",
      "metadata": {
        "id": "ZMvr2lJHhg1L"
      },
      "source": [
        "# ◢ 動画をアップスケールする"
      ]
    },
    {
      "cell_type": "code",
      "metadata": {
        "id": "1vVjUymwetxa"
      },
      "source": [
        "#@title ##**TecoGANのリポジトリをクローンする** { display-mode: \"form\" }\n",
        "\n",
        "if IS_TECOGANLOADED != True :\n",
        "  log_message='Start cloning TecoGAN Repository'\n",
        "  logger.info(log_message)\n",
        "\n",
        "  %cd /content\n",
        "  !git clone https://github.com/JoeyBallentine/Video-Inference.git\n",
        "  !git clone https://github.com/skycrapers/TecoGAN-PyTorch.git\n",
        "\n",
        "  %cd /content/TecoGAN-PyTorch/\n",
        "  !bash /content/TecoGAN-PyTorch/scripts/download/download_models.sh BD TecoGAN\n",
        "  !bash /content/TecoGAN-PyTorch/scripts/download/download_models.sh BI TecoGAN\n",
        "  !cp /content/TecoGAN-PyTorch/pretrained_models/* /content/Video-Inference/models/\n",
        "\n",
        "  IS_TECOGANLOADED = True\n",
        "\n",
        "  log_message='Finished cloning TecoGAN Repository'\n",
        "  logger.info(log_message)\n",
        "\n",
        "  clear_output()"
      ],
      "execution_count": null,
      "outputs": []
    },
    {
      "cell_type": "code",
      "metadata": {
        "id": "Y8jS-DPT3iq1"
      },
      "source": [
        "#@title ##**TecoGANによる動画のアップスケール** { display-mode: \"form\" }\n",
        "\n",
        "if height_of_video <= 720: \n",
        "  log_message='Start upscaling with TecoGAN'\n",
        "  logger.info(log_message)\n",
        "\n",
        "  %cd /content/Video-Inference/\n",
        "  if os.path.isfile(\"./output/video.mp4\"):\n",
        "      os.remove(\"./output/video.mp4\")\n",
        "\n",
        "  !python run.py ./models/TecoGAN_BD_iter500000.pth --input \"/content/video.mp4\" --output \"/content/Video-Inference/output/video.mp4\"\n",
        "\n",
        "  if (height_of_video * 4) >= 1080:\n",
        "    !ffmpeg -i /content/Video-Inference/output/video.mp4 -vf scale=-1:1080 /content/upscaled_video.mp4\n",
        "  else:\n",
        "    !cp ./output/video.mp4 /content/upscaled_video.mp4\n",
        "\n",
        "  !cp /content/upscaled_video.mp4 /content/video.mp4\n",
        "\n",
        "  log_message='Finish upscaling with TecoGAN'\n",
        "  logger.info(log_message)\n",
        "\n",
        "\n",
        "  compose_command='ffmpeg -f image2 -framerate ' + str(fps_of_video) + ' -i /content/datas/%09d.png -c:v h264_nvenc -preset slow -qp 18 -pix_fmt yuv420p /content/video.mp4'\n",
        "  subprocess.run(compose_command, shell=True)\n",
        "\n",
        "  clear_logs(IS_DEBUG)"
      ],
      "execution_count": null,
      "outputs": []
    },
    {
      "cell_type": "markdown",
      "metadata": {
        "id": "-f1MDliBGGGL"
      },
      "source": [
        "# #◢ モノクロ動画に色を付ける"
      ]
    },
    {
      "cell_type": "code",
      "metadata": {
        "id": "4YQLHR6xZleu",
        "cellView": "form"
      },
      "source": [
        "#@title **DeOldifyのリポジトリをクローンする**\n",
        "if IS_OLDIFYLOADED != True and  is_deoldify == True:\n",
        "  log_message='Start cloning DeOldify Repository'\n",
        "  logger.info(log_message)\n",
        "\n",
        "  %cd /content\n",
        "\n",
        "  !git clone https://github.com/jantic/DeOldify.git DeOldify\n",
        "  %cd DeOldify\n",
        "\n",
        "  #NOTE:  This must be the first call in order to work properly!\n",
        "  from deoldify import device\n",
        "  from deoldify.device_id import DeviceId\n",
        "  #choices:  CPU, GPU0...GPU7\n",
        "  device.set(device=DeviceId.GPU0)\n",
        "\n",
        "  import torch\n",
        "\n",
        "  if not torch.cuda.is_available():\n",
        "    print('GPU not available.')\n",
        "\n",
        "  from os import path\n",
        "\n",
        "  !pip install -r colab_requirements.txt\n",
        "\n",
        "  import fastai\n",
        "  from deoldify.visualize import *\n",
        "  from pathlib import Path\n",
        "  torch.backends.cudnn.benchmark=True\n",
        "  import warnings\n",
        "  warnings.filterwarnings(\"ignore\", category=UserWarning, message=\".*?Your .*? set is empty.*?\")\n",
        "\n",
        "  !mkdir 'models'\n",
        "  !wget https://data.deepai.org/deoldify/ColorizeVideo_gen.pth -O ./models/ColorizeVideo_gen.pth\n",
        "\n",
        "  colorizer = get_video_colorizer()\n",
        "\n",
        "  IS_OLDIFYLOADED = True\n",
        "\n",
        "  log_message='Finish cloning DeOldify Repository'\n",
        "  logger.info(log_message)\n",
        "  clear_output()"
      ],
      "execution_count": null,
      "outputs": []
    },
    {
      "cell_type": "code",
      "metadata": {
        "id": "37yAH_olbROZ",
        "cellView": "form"
      },
      "source": [
        "#@title **Deoldifyによるモノクロ動画のカラー化を行う**\n",
        "if is_deoldify == True:\n",
        "  log_message='Start colorization with DeOldify'\n",
        "  logger.info(log_message)\n",
        "\n",
        "  %cd /content/DeOldify\n",
        "\n",
        "  if os.path.isfile(\"/content/DeOldify/video\"):\n",
        "    shutil.rmtree(\"/content/DeOldify/video\")\n",
        "\n",
        "  !mkdir -p '/content/DeOldify/video/source'\n",
        "\n",
        "  !cp -r /content/video.mp4 /content/DeOldify/video/source/video.mp4\n",
        "  video_path = colorizer.colorize_from_file_name('/content/DeOldify/video/source/video.mp4', render_factor)\n",
        "  !cp -r /content/DeOldify/video/result/video.mp4 /content/colorized_video.mp4\n",
        "  !cp -r /content/colorized_video.mp4 /content/video.mp4\n",
        "  if os.path.isfile(\"/content/DeOldify/video/result/video.mp4\"):\n",
        "    os.remove(\"/content/DeOldify/video/result/video.mp4\")\n",
        "\n",
        "  log_message='Finish colorization with DeOldify'\n",
        "  logger.info(log_message)\n",
        "\n",
        "#colorize_video('/content/video.mp4', '/content/colorized_video.mp4', render_factor)\n",
        "#!cp /content/colorized_video /content/video.mp4\n",
        "clear_logs(IS_DEBUG)"
      ],
      "execution_count": null,
      "outputs": []
    },
    {
      "cell_type": "markdown",
      "metadata": {
        "id": "FakQk0wBE5GS"
      },
      "source": [
        "# ◢ ノイズ除去(Deep Remaster)"
      ]
    },
    {
      "cell_type": "code",
      "metadata": {
        "id": "DqIbGxA_60Oo"
      },
      "source": [
        "#@title ##**DeepRemasterのリポジトリをクローンする** { display-mode: \"form\" }\n",
        "\n",
        "if IS_DEEPREMASTERLOADED != True and is_DeepRemaster == True:\n",
        "  log_message='Start cloning Deep Remaster Repository'\n",
        "  logger.info(log_message)\n",
        "\n",
        "  %cd /content\n",
        "  !git clone https://github.com/satoshiiizuka/siggraphasia2019_remastering.git DeepRemaster\n",
        "  !cp -r /content/video.mp4 /content/DeepRemaster/\n",
        "  %cd /content/DeepRemaster\n",
        "\n",
        "  !wget --continue -O model/remasternet.pth.tar -- http://iizuka.cs.tsukuba.ac.jp/data/remasternet.pth.tar\n",
        "\n",
        "  log_message='Finish cloning Deep Remaster Repository'\n",
        "  logger.info(log_message)\n",
        "\n",
        "  IS_DEEPREMASTERLOADED = True\n",
        "  clear_output()"
      ],
      "execution_count": null,
      "outputs": []
    },
    {
      "cell_type": "code",
      "metadata": {
        "id": "xzu_lk9DKbTO"
      },
      "source": [
        "#@title ##**画像からノイズを除去する** { display-mode: \"form\" }\n",
        "\n",
        "if is_DeepRemaster == True:\n",
        "\n",
        "  log_message='Start denoising with Deep Remaster'\n",
        "  logger.info(log_message)\n",
        "\n",
        "  %cd /content/DeepRemaster\n",
        "\n",
        "  if is_DeepRemaster_color == True:\n",
        "    #command = \"python remaster.py --input /content/video.mp4 --refernce_dir /content/refernce --gpu --mindim \" + str(int(height_of_video) * 2)\n",
        "    !python remaster.py --input /content/video.mp4 --refernce_dir /content/refernce --gpu --mindim 1080\n",
        "  else:\n",
        "    #command = \"python remaster.py --input /content/video.mp4 --disable_colorization --gpu --mindim \" + str(int(height_of_video) * 2)\n",
        "    !python remaster.py --input /content/video.mp4 --disable_colorization --gpu --mindim 1080\n",
        "\n",
        "  #subprocess.run(command,shell=True)\n",
        "\n",
        "  !cp /content/video.mp4 /content/denoised_video.mp4\n",
        "#!python remaster.py --input /content/video.mp4 --disable_colorization --gpu --mindim 1080\n",
        "#!python remaster.py --input /content/video.mp4 --disable_colorization --gpu\n",
        "#clear_output()\n",
        "\n",
        "  log_message='Finish denoising with Deep Remaster'\n",
        "  logger.info(log_message)\n",
        "\n",
        "clear_logs(IS_DEBUG)"
      ],
      "execution_count": null,
      "outputs": []
    },
    {
      "cell_type": "markdown",
      "metadata": {
        "id": "3tKlt3_S9DgG"
      },
      "source": [
        "#◢ Microsoft Bringing-Old-Photos-Back-to-Lifeによる画像修正"
      ]
    },
    {
      "cell_type": "code",
      "metadata": {
        "id": "tHeEUq563BHe",
        "cellView": "form"
      },
      "source": [
        "#@title **Microsoft Bringing-Old-Photos-Back-to-Lifeのリポジトリーをクローンする**\n",
        "\n",
        "if IS_MSLOADED != True and which_FaceGAN == \"Microsoft\":\n",
        "\n",
        "  log_message='Start cloning Microsoft Bringing-Old-Photos-Back-to-Life repository'\n",
        "  logger.info(log_message)\n",
        "\n",
        "  %cd /content\n",
        "  !git clone https://github.com/microsoft/Bringing-Old-Photos-Back-to-Life.git photo_restoration\n",
        "\n",
        "  #@markdown Microsoft Bringing Old-Photos-Back-to-Lifeの学習済みモデルをダウンロード\n",
        "  # pull the syncBN repo\n",
        "  %cd photo_restoration/Face_Enhancement/models/networks\n",
        "  !git clone https://github.com/vacancy/Synchronized-BatchNorm-PyTorch\n",
        "  !cp -rf Synchronized-BatchNorm-PyTorch/sync_batchnorm .\n",
        "  %cd ../../../\n",
        "\n",
        "  %cd Global/detection_models\n",
        "  !git clone https://github.com/vacancy/Synchronized-BatchNorm-PyTorch\n",
        "  !cp -rf Synchronized-BatchNorm-PyTorch/sync_batchnorm .\n",
        "  %cd ../../\n",
        "\n",
        "  # download the landmark detection model\n",
        "  %cd Face_Detection/\n",
        "  !wget http://dlib.net/files/shape_predictor_68_face_landmarks.dat.bz2\n",
        "  !bzip2 -d shape_predictor_68_face_landmarks.dat.bz2\n",
        "  %cd ../\n",
        "\n",
        "  # download the pretrained model\n",
        "  %cd Face_Enhancement/\n",
        "  !wget https://facevc.blob.core.windows.net/zhanbo/old_photo/pretrain/Face_Enhancement/checkpoints.zip\n",
        "  !unzip -o checkpoints.zip\n",
        "  %cd ../\n",
        "\n",
        "  %cd Global/\n",
        "  !wget https://facevc.blob.core.windows.net/zhanbo/old_photo/pretrain/Global/checkpoints.zip\n",
        "  !unzip -o checkpoints.zip\n",
        "  %cd ../\n",
        "\n",
        "  ! pip install -r requirements.txt\n",
        "  \n",
        "  log_message='Finish cloning Microsoft Bringing-Old-Photos-Back-to-Life repository'\n",
        "  logger.info(log_message)\n",
        "\n",
        "  IS_MSLOADED = True\n",
        "\n",
        "  clear_output()"
      ],
      "execution_count": null,
      "outputs": []
    },
    {
      "cell_type": "code",
      "metadata": {
        "id": "qTmlNEoU-END",
        "cellView": "form"
      },
      "source": [
        "#@title **顔画像の修復修復**\n",
        "# ffmpeg extract - Generating individual frame PNGs from the source file.\n",
        "\n",
        "if which_FaceGAN == \"Microsoft\":\n",
        "  log_message='Start face restoration with Microsoft Bringing-Old-Photos-Back-to-Life'\n",
        "  logger.info(log_message)\n",
        "\n",
        "  %cd /content/photo_restoration\n",
        "\n",
        "  FRAME_INPUT_DIR = \"/content/photo_restoration/input_frames\"\n",
        "  FRAME_OUTPUT_DIR = \"/content/photo_restoration/output_frames\"\n",
        "  INPUT_FILEPATH = \"/content/video.mp4\"\n",
        "\n",
        "  if os.path.exists(FRAME_INPUT_DIR):\n",
        "    shutil.rmtree(FRAME_INPUT_DIR)\n",
        "\n",
        "  %shell mkdir -p '{FRAME_INPUT_DIR}'\n",
        "  command = \"ffmpeg -i \" + INPUT_FILEPATH + \" -vf framerate=\" + str(fps_of_video) + \" \" +  FRAME_INPUT_DIR + \"/%05d.png\"\n",
        "  subprocess.run(command,shell=True)\n",
        "\n",
        "#  %shell ffmpeg -i '{INPUT_FILEPATH}' '{FRAME_INPUT_DIR}/%05d.png'\n",
        "\n",
        "  if os.path.isfile(FRAME_OUTPUT_DIR):\n",
        "    shutil.rmtree(FRAME_OUTPUT_DIR)\n",
        "  \n",
        "  %shell mkdir -p '{FRAME_OUTPUT_DIR}'\n",
        "\n",
        "\n",
        "  png_generated_count_command_result = %shell ls '{FRAME_INPUT_DIR}' | wc -l\n",
        "  from IPython.display import clear_output\n",
        "\n",
        "  pngs_generated_count = int(png_generated_count_command_result.output.strip())\n",
        "\n",
        "\n",
        "  #print(f\"Input FPS: {fps}\")\n",
        "  print(f\"{pngs_generated_count} frame PNGs generated.\")\n",
        "\n",
        "  # Checking if PNG do have alpha\n",
        "  import subprocess as sp\n",
        "  %cd {FRAME_INPUT_DIR}\n",
        "  channels = sp.getoutput('identify -format %[channels] 00001.png')\n",
        "  print (f\"{channels} detected\")\n",
        "\n",
        "  # Removing alpha if detected\n",
        "  if \"a\" in channels:\n",
        "    print(\"Alpha detected and will be removed.\")\n",
        "    print(sp.getoutput('find . -name \"*.png\" -exec convert \"{}\" -alpha off PNG24:\"{}\" \\;'))\n",
        "\n",
        "  %cd /content/photo_restoration\n",
        "  input_folder = FRAME_INPUT_DIR\n",
        "  output_folder = FRAME_OUTPUT_DIR\n",
        "\n",
        "  !rm -rf /content/photo_restoration/output_frames/*\n",
        "\n",
        "  print (input_folder)\n",
        "  print (output_folder)\n",
        "\n",
        "  import os\n",
        "  basepath = os.getcwd()\n",
        "  #input_path = os.path.join(basepath, input_folder)\n",
        "  #output_path = os.path.join(basepath, output_folder)\n",
        "  #os.mkdir(output_path)\n",
        "  #!rm -rf output_folder\n",
        "  #os.mkdir(output_folder)\n",
        "\n",
        "  !python run.py --HR --input_folder /content/photo_restoration/input_frames --output_folder /content/photo_restoration/output_frames --GPU 0\n",
        "\n",
        "#create video\n",
        "\n",
        "  %cd /content/photo_restoration/output_frames/final_output\n",
        "  command=\"ffmpeg  -pattern_type glob -i '*.png' -c:v h264_nvenc -pix_fmt yuv420p -framerate \" + str(fps_of_video) + \" /content/beautified_video.mp4\"\n",
        "  #!ffmpeg  -pattern_type glob -i '*.png' -c:v h264_nvenc -pix_fmt yuv420p /content/beautified_video.mp4\n",
        "  subprocess.run(command,shell=True)\n",
        "  !rm -f /content/video.mp4\n",
        "  !cp /content/beautified_video.mp4 /content/video.mp4\n",
        "  #clear_output()\n",
        "\n",
        "  log_message='Finish face restoration with Microsoft Bringing-Old-Photos-Back-to-Life'\n",
        "  logger.info(log_message)\n",
        "\n",
        "  clear_logs(IS_DEBUG)"
      ],
      "execution_count": null,
      "outputs": []
    },
    {
      "cell_type": "code",
      "metadata": {
        "id": "gbNt7wx9lkd1",
        "cellView": "form"
      },
      "source": [
        "#@title **動画のフレームレートを修正する（MS Bring-Old-Photos-Back-to-Lifeがデフォルトで25FPSであるため）**\n",
        "# Microsoft Bringing-Old-Photos-Back-to-Life では動画をデフォルトで25FPSで作ってしまうため、オリジナルのFPSに変換\n",
        "if which_FaceGAN == \"Microsoft\":\n",
        "  decomposit_video(\"/content/datas\",\"/content/beautified_video.mp4\", 25)\n",
        "  \n",
        "  composit_video(\"/content/datas\",\"/content/adjusted_video.mp4\",fps_of_video)\n",
        "\n",
        "  !cp /content/adjusted_video.mp4 /content/video.mp4\n",
        "  clear_logs(IS_DEBUG)"
      ],
      "execution_count": null,
      "outputs": []
    },
    {
      "cell_type": "markdown",
      "metadata": {
        "id": "smSeEdA4Mv5X"
      },
      "source": [
        "#◢ GFPGANによる顔画像の修復"
      ]
    },
    {
      "cell_type": "code",
      "metadata": {
        "id": "ZwH2ifWEYEfJ",
        "cellView": "form"
      },
      "source": [
        "#@title ##**GFPGANのリポジトリをクローンする**\n",
        "if IS_GFPGANLOADED != True and which_FaceGAN == \"GFPGAN\":\n",
        "\n",
        "  log_message='Start cloning GFPGAN repository'\n",
        "  logger.info(log_message)\n",
        "\n",
        "  # Clone GFPGAN and enter the GFPGAN folder\n",
        "  %cd /content\n",
        "  !rm -rf GFPGAN\n",
        "  !git clone https://github.com/TencentARC/GFPGAN.git\n",
        "  %cd GFPGAN\n",
        "\n",
        "  # Set up the environment\n",
        "  # Install basicsr - https://github.com/xinntao/BasicSR\n",
        "  # We use BasicSR for both training and inference\n",
        "  !pip install basicsr\n",
        "  # Install facexlib - https://github.com/xinntao/facexlib\n",
        "  # We use face detection and face restoration helper in the facexlib package\n",
        "  !pip install facexlib\n",
        "  # Install other depencencies\n",
        "  !pip install -r requirements.txt\n",
        "  !python setup.py develop\n",
        "  !pip install realesrgan  # used for enhancing the background (non-face) regions\n",
        "  # Download the pre-trained model\n",
        "  !wget https://github.com/TencentARC/GFPGAN/releases/download/v0.2.0/GFPGANCleanv1-NoCE-C2.pth -P experiments/pretrained_models\n",
        "  \n",
        "  log_message='Stop cloning GFPGAN repository'\n",
        "  logger.info(log_message)\n",
        "\n",
        "  IS_GFPGANLOADED = True\n",
        "  \n",
        "  clear_output()"
      ],
      "execution_count": null,
      "outputs": []
    },
    {
      "cell_type": "code",
      "metadata": {
        "id": "OzlCT4FRGrGt"
      },
      "source": [
        "#@title ##**GFPGANを使って動画ファイル中の顔画像を修復** { display-mode: \"form\" }\n",
        "\n",
        "if which_FaceGAN == \"GFPGAN\":\n",
        "  log_message='Start face restoration with GFPGAN'\n",
        "  logger.info(log_message)\n",
        "\n",
        "  !pip install torch==1.10.0 \n",
        "  !pip install torchvision==0.10.1\n",
        "\n",
        "  import os\n",
        "  p = os.getenv('PATH')\n",
        "  ld = os.getenv('LD_LIBRARY_PATH')\n",
        "  os.environ['PATH'] = f\"/usr/local/cuda-10.1/bin:{p}\"\n",
        "  os.environ['LD_LIBRARY_PATH'] = f\"/usr/local/cuda-10.1/lib64:{ld}\"\n",
        "\n",
        "  upload_folder = \"/content/GFPGAN/inputs/upload\"\n",
        "  if os.path.isdir(upload_folder):\n",
        "    shutil.rmtree(upload_folder)\n",
        "\n",
        "  os.mkdir(upload_folder)\n",
        "\n",
        "  %cd /content/GFPGAN/inputs/upload\n",
        "\n",
        "  !ffmpeg -i /content/video.mp4 %09d.png\n",
        "\n",
        "# Now we use the GFPGAN to restore the above low-quality images\n",
        "# We use [Real-ESRGAN](https://github.com/xinntao/Real-ESRGAN) for enhancing the background (non-face) regions\n",
        "\n",
        "  %cd /content/GFPGAN\n",
        "  !rm -rf results\n",
        "  !python inference_gfpgan.py --upscale 2 --test_path inputs/upload --save_root results --model_path experiments/pretrained_models/GFPGANCleanv1-NoCE-C2.pth --bg_upsampler realesrgan\n",
        "\n",
        "  if os.path.isfile(\"/content/restored_video.mp4\") :\n",
        "    !rm -f /content/restored_video.mp4\n",
        "\n",
        "  command=\"ffmpeg -f image2 -framerate \" + str(fps_of_video) + \" -i /content/GFPGAN/results/restored_imgs/%09d.png -c:v h264_nvenc -preset slow -qp 18 -pix_fmt yuv420p /content/beautified_video.mp4 \"\n",
        "  subprocess.run(command,shell=True)\n",
        "  #!ffmpeg -f image2 -framerate 30 -i /content/GFPGAN/results/restored_imgs/%09d.png -c:v h264_nvenc -preset slow -qp 18 -pix_fmt yuv420p /content/beautified_video.mp4\n",
        "  !rm -f /content/video.mp4\n",
        "  !cp /content/beautified_video.mp4 /content/video.mp4\n",
        "\n",
        "  log_message='Finish face restoration with GFPGAN'\n",
        "  logger.info(log_message)\n",
        " \n",
        "  clear_logs(IS_DEBUG)"
      ],
      "execution_count": null,
      "outputs": []
    },
    {
      "cell_type": "markdown",
      "metadata": {
        "id": "UYIwa40dJgO4"
      },
      "source": [
        "# ◢ DAINによるフレーム補完\n"
      ]
    },
    {
      "cell_type": "code",
      "metadata": {
        "id": "enAdgSPUgf7J"
      },
      "source": [
        "#@title ##**DAINのリポジトリをクローンする** { display-mode: \"form\" }\n",
        "\n",
        "if IS_DAINLOADED != True and is_DAIN == True:\n",
        "\n",
        "  log_message='Start cloning DAIN repository'\n",
        "  logger.info(log_message)\n",
        "\n",
        "  %cd /content\n",
        "  !git clone https://github.com/HeylonNHP/Dain-App.git\n",
        "  !pip install ninja\n",
        " # !wget https://developer.download.nvidia.com/compute/cuda/10.2/Prod/local_installers/cuda-repo-ubuntu1804-10-2-local-10.2.89-440.33.01_1.0-1_amd64.deb\n",
        " # !dpkg -i cuda-repo-ubuntu1804-10-2-local-10.2.89-440.33.01_1.0-1_amd64.deb\n",
        "\n",
        "  import os\n",
        "  p = os.getenv('PATH')\n",
        "  ld = os.getenv('LD_LIBRARY_PATH')\n",
        "  os.environ['PATH'] = f\"/usr/local/cuda-10.1/bin:{p}\"\n",
        "  os.environ['LD_LIBRARY_PATH'] = f\"/usr/local/cuda-10.1/lib64:{ld}\"\n",
        "\n",
        "\n",
        "  %cd /content/Dain-App/my_package\n",
        "  !sh build.sh\n",
        "  %cd /content/Dain-App/PWCNet/correlation_package_pytorch1_0\n",
        "  !sh build.sh\n",
        "\n",
        "  !pip install PyQt5\n",
        "  #!sudo add-apt-repository -y ppa:jonathonf/ffmpeg-4\n",
        "  #!sudo apt update\n",
        "  #!sudo apt -y install ffmpeg\n",
        "\n",
        "  log_message='Stop cloning DAIN repository'\n",
        "  logger.info(log_message)\n",
        "\n",
        "  IS_DAINLOADED = True\n",
        "\n",
        "  clear_output()"
      ],
      "execution_count": null,
      "outputs": []
    },
    {
      "cell_type": "code",
      "metadata": {
        "id": "WmSHHkFXnKUE",
        "colab": {
          "base_uri": "https://localhost:8080/"
        },
        "outputId": "ba2adedc-99ad-4a8e-ec45-4c7e54370605"
      },
      "source": [
        "#@title ##**DAINによるフレーム補完の実行** { display-mode: \"form\" }\n",
        "%cd /content\n",
        "if is_DAIN == True:\n",
        "\n",
        "  log_message='Start frame interporation with DAIN'\n",
        "  logger.info(log_message)\n",
        "\n",
        "  %cd /content/Dain-App\n",
        "\n",
        "  ##!python  my_design.py -cli -h\n",
        "  !cp /content/video.mp4 /content/Dain-App/video.mp4\n",
        "\n",
        "  !python  my_design.py -cli --input \"/content/Dain-App/video.mp4\" -o \"/content/Dain-App/example_folder/\" -on \"/content/interpolated_video.mp4\" -m \"model_weights/best.pth\" -fh 2 --interpolations 2 --depth_awarenes 0 --loop 0 -p 0 --alpha 0 --check_scene_change 10 --png_compress 0 --crf 1 --pixel_upscale_downscale_before 1 --pixel_downscale_upscale_after 1 --pixel_upscale_after 1 --mute_ffmpeg 0 --split_size_x -1 --split_size_y -1 --split_pad 150 --half 0 --step_extract 1 --step_interpolate 1 --batch_size 1 --use_benchmark 0 --force_flow 1 --smooth_flow 0 --downscale -1 --fast_mode 0 -cif 1 -cof 1 -cc 1 -csc 1\n",
        "  ##!python  my_design.py -cli --input \"/content/Dain-App/video.mp4\" -o \"/content/Dain-App/example_folder/\" -on \"interpolated.mp4\" -m \"model_weights/best.pth\" -fh 2 --interpolations 2 --depth_awarenes 0 --loop 0 -p 0 --alpha 0 --check_scene_change 10 --png_compress 0 --crf 1 --pixel_upscale_downscale_before 1 --pixel_downscale_upscale_after 1 --pixel_upscale_after 1 --mute_ffmpeg 0 --split_size_x -1 --split_size_y -1 --split_pad 150 --half 0 --step_extract 1 --step_interpolate 1 --batch_size 1 --use_benchmark 0 --force_flow 1 --smooth_flow 0 --downscale -1 --fast_mode 0\n",
        "  !cp /content/Dain-App/example_folder/output_videos/*.mp4 /content/interpolated_video.mp4\n",
        "  !cp /content/interpolated_video.mp4 /content/video.mp4\n",
        "\n",
        "  log_message='Finish frame interporation with DAIN'\n",
        "  logger.info(log_message)\n",
        "\n",
        "  clear_logs(IS_DEBUG)"
      ],
      "execution_count": null,
      "outputs": [
        {
          "output_type": "stream",
          "name": "stdout",
          "text": [
            "/content\n"
          ]
        }
      ]
    },
    {
      "cell_type": "markdown",
      "metadata": {
        "id": "hZt66u2BwrCg"
      },
      "source": [
        "# ◢ 動画をシーンごとに分割する"
      ]
    },
    {
      "cell_type": "code",
      "metadata": {
        "id": "TXnweFAqiLuF"
      },
      "source": [
        "#@title ##**動画をシーンごとに分割する** { display-mode: \"form\" }\n",
        "\n",
        "log_message='Start splitting scenes'\n",
        "logger.info(log_message)\n",
        "\n",
        "splitted_folder=\"/content/scenes\"\n",
        "source_video=\"/content/video.mp4\"\n",
        "if os.path.isdir(splitted_folder):\n",
        "    shutil.rmtree(splitted_folder)\n",
        "os.mkdir(splitted_folder)\n",
        "\n",
        "#シーンごとに動画を分割する\n",
        "split_command=\"scenedetect -i \" + source_video + \" -o \" + splitted_folder + \" detect-content -t 27 list-scenes save-images split-video\"\n",
        "subprocess.run(split_command,shell=True)\n",
        "\n",
        "log_message='Finish splitting scenes'\n",
        "logger.info(log_message)\n",
        "\n",
        "clear_logs(IS_DEBUG)"
      ],
      "execution_count": null,
      "outputs": []
    },
    {
      "cell_type": "markdown",
      "metadata": {
        "id": "x1Yy74PQnWUE"
      },
      "source": [
        "#◢ 最終処理"
      ]
    },
    {
      "cell_type": "code",
      "metadata": {
        "id": "051WE5ys5SNy"
      },
      "source": [
        "#@title ##**動画ファイルに音声を追加する** { display-mode: \"form\" }\n",
        "%cd /content\n",
        "!ffmpeg -i /content/video.mp4 -i /content/output.aac -c:v copy -c:a aac /content/final_output.mp4\n",
        "#!cp /content/final_output.mp4 /content/video.mp4\n",
        "\n",
        "clear_logs(IS_DEBUG)"
      ],
      "execution_count": null,
      "outputs": []
    },
    {
      "cell_type": "code",
      "metadata": {
        "id": "-8VC7h_9NkQ0"
      },
      "source": [
        "#@title ##**比較動画を作成する（DAINを有効にした場合を除く）** { display-mode: \"form\" }\n",
        "if is_DAIN != True:\n",
        "  log_message='Start making comparison video'\n",
        "  logger.info(log_message)\n",
        "\n",
        "  !ffmpeg -i /content/cropped_video.mp4 \\\n",
        "       -i /content/final_output.mp4 \\\n",
        "       -filter_complex \"[0:v]scale=720:-2[v0];[1:v]scale=720:-2[v1];[v0][v1]hstack=inputs=2\" \\\n",
        "       -vcodec libx264 -crf 23 /content/comparison_output.mp4\n",
        "\n",
        "  log_message='Finish making comparison video'\n",
        "  logger.info(log_message)\n",
        "\n",
        "  clear_logs(IS_DEBUG)"
      ],
      "execution_count": null,
      "outputs": []
    },
    {
      "cell_type": "code",
      "metadata": {
        "id": "9Cj0Kxnzi_ah",
        "colab": {
          "base_uri": "https://localhost:8080/",
          "height": 240
        },
        "outputId": "a24a3ac2-c26d-497f-d722-d8e46aac873e"
      },
      "source": [
        "#@title ##**ファイルのバックアップ** { display-mode: \"form\" }\n",
        "log_message='Start copying results in Google Drive'\n",
        "logger.info(log_message)\n",
        "\n",
        "if os.path.isdir(projectDir):\n",
        "    shutil.rmtree(projectDir)\n",
        "\n",
        "os.mkdir(projectDir)\n",
        "os.chdir(projectDir)\n",
        "!cp /content/*.mp4 .\n",
        "!cp /content/output.aac .\n",
        "!cp -rf /content/scenes .\n",
        "!cp /content/restore.log .\n",
        "\n",
        "log_message='Finish copying results in Google Drive'\n",
        "logger.info(log_message)\n",
        "\n",
        "clear_logs(IS_DEBUG)"
      ],
      "execution_count": 21,
      "outputs": [
        {
          "output_type": "error",
          "ename": "NameError",
          "evalue": "ignored",
          "traceback": [
            "\u001b[0;31m---------------------------------------------------------------------------\u001b[0m",
            "\u001b[0;31mNameError\u001b[0m                                 Traceback (most recent call last)",
            "\u001b[0;32m<ipython-input-21-abff6d8ca485>\u001b[0m in \u001b[0;36m<module>\u001b[0;34m()\u001b[0m\n\u001b[1;32m      7\u001b[0m     \u001b[0mshutil\u001b[0m\u001b[0;34m.\u001b[0m\u001b[0mrmtree\u001b[0m\u001b[0;34m(\u001b[0m\u001b[0mprojectDir\u001b[0m\u001b[0;34m)\u001b[0m\u001b[0;34m\u001b[0m\u001b[0;34m\u001b[0m\u001b[0m\n\u001b[1;32m      8\u001b[0m \u001b[0;34m\u001b[0m\u001b[0m\n\u001b[0;32m----> 9\u001b[0;31m \u001b[0mos\u001b[0m\u001b[0;34m.\u001b[0m\u001b[0mmkdir\u001b[0m\u001b[0;34m(\u001b[0m\u001b[0mProjectDir\u001b[0m\u001b[0;34m)\u001b[0m\u001b[0;34m\u001b[0m\u001b[0;34m\u001b[0m\u001b[0m\n\u001b[0m\u001b[1;32m     10\u001b[0m \u001b[0mos\u001b[0m\u001b[0;34m.\u001b[0m\u001b[0mchdir\u001b[0m\u001b[0;34m(\u001b[0m\u001b[0mProjectDir\u001b[0m\u001b[0;34m)\u001b[0m\u001b[0;34m\u001b[0m\u001b[0;34m\u001b[0m\u001b[0m\n\u001b[1;32m     11\u001b[0m \u001b[0mget_ipython\u001b[0m\u001b[0;34m(\u001b[0m\u001b[0;34m)\u001b[0m\u001b[0;34m.\u001b[0m\u001b[0msystem\u001b[0m\u001b[0;34m(\u001b[0m\u001b[0;34m'cp /content/*.mp4 .'\u001b[0m\u001b[0;34m)\u001b[0m\u001b[0;34m\u001b[0m\u001b[0;34m\u001b[0m\u001b[0m\n",
            "\u001b[0;31mNameError\u001b[0m: name 'ProjectDir' is not defined"
          ]
        }
      ]
    }
  ]
}