{
  "nbformat": 4,
  "nbformat_minor": 0,
  "metadata": {
    "colab": {
      "name": "VideoRestore.ipynb",
      "provenance": [],
      "collapsed_sections": [
        "Vkkr1Sq6t2lM"
      ],
      "include_colab_link": true
    },
    "kernelspec": {
      "display_name": "Python 3",
      "name": "python3"
    },
    "language_info": {
      "name": "python"
    },
    "accelerator": "GPU"
  },
  "cells": [
    {
      "cell_type": "markdown",
      "metadata": {
        "id": "view-in-github",
        "colab_type": "text"
      },
      "source": [
        "<a href=\"https://colab.research.google.com/github/nak650228/ITEC/blob/20220105/VideoRestore.ipynb\" target=\"_parent\"><img src=\"https://colab.research.google.com/assets/colab-badge.svg\" alt=\"Open In Colab\"/></a>"
      ]
    },
    {
      "cell_type": "markdown",
      "metadata": {
        "id": "Vkkr1Sq6t2lM"
      },
      "source": [
        "#◢ Video Restoration Project\n",
        "\n",
        "---\n",
        "\n",
        "\n",
        "このツールは、Youtubeやローカルファイルから動画をダウンロードし、それをDeepLearningを使って修復します。各処理の修復結果は、ユーザのGoogle Drive上のMovieフォルダに作られます。\n",
        "\n",
        "このツールでは動画に対して以下の修正を試みます。\n",
        "\n",
        "　　・DeOldifyによるモノクロ画像のカラー化\n",
        "\n",
        "　　・Deep Remasterによるノイズ等の除去\n",
        "\n",
        "　　・Microsoft Bringing-Old-Photos-Back-to-LifeまたはGFPGANによる顔画像の修復  \n",
        "\n",
        "　　・音声データの抽出し、動画修正時にそれを結合する\n",
        "\n",
        "　　・オリジナル動画と画像処理後の動画を比較した動画ファイルを作成\n",
        "\n",
        "　　・TecoGANを使った超高解像度化\n",
        "\n",
        "\n",
        "\n",
        "\n",
        "\n",
        "\n",
        "\n"
      ]
    },
    {
      "cell_type": "markdown",
      "metadata": {
        "id": "O1RKQX4WfXdg"
      },
      "source": [
        "#◢ GPUの確認\n",
        "\n",
        "\n",
        "---\n",
        "\n",
        "\n",
        "本処理には16GB以上のメモリを搭載したGPUが必要になります。\n",
        "\n",
        "ランタイムに割り当てられたGPUを確認して、メモリ量が少ない場合は、ランタイムを出荷設定時にリセットします。16GB以上のモデルが割り当てられるまで、このリセットを繰り返してください。"
      ]
    },
    {
      "cell_type": "code",
      "metadata": {
        "id": "7odvNQ3P0KAt",
        "cellView": "form",
        "outputId": "97425dc9-c65d-4467-b7c9-d8dc148cffe7",
        "colab": {
          "base_uri": "https://localhost:8080/"
        }
      },
      "source": [
        "#@title 割り当てられたGPUの確認\n",
        "# Check your current GPU\n",
        "# If you are lucky, you get 16GB VRAM. If you are not lucky, you get less. VRAM is important. The more VRAM, the higher the maximum resolution will go.\n",
        "\n",
        "# 16GB: Can handle 720p. 1080p will procude an out-of-memory error. \n",
        "# 8GB: Can handle 480p. 720p will produce an out-of-memory error.\n",
        "import subprocess\n",
        "\n",
        "!nvidia-smi --query-gpu=gpu_name,driver_version,memory.total --format=csv\n",
        "gpumem=subprocess.run([\"nvidia-smi\", \"--query-gpu=memory.total\", \"--format=csv,noheader,nounits\"], stdout=subprocess.PIPE, text=True)"
      ],
      "execution_count": 1,
      "outputs": [
        {
          "output_type": "stream",
          "name": "stdout",
          "text": [
            "name, driver_version, memory.total [MiB]\n",
            "Tesla K80, 460.32.03, 11441 MiB\n"
          ]
        }
      ]
    },
    {
      "cell_type": "markdown",
      "metadata": {
        "id": "S0tVaEKkBfg2"
      },
      "source": [
        "#◢ 初期設定\n",
        "\n",
        "\n",
        "---\n",
        "\n"
      ]
    },
    {
      "cell_type": "code",
      "metadata": {
        "id": "Y4HZBs60R08_",
        "cellView": "form",
        "outputId": "980f58af-2cd8-47ba-f24a-d7ef75c9633d",
        "colab": {
          "base_uri": "https://localhost:8080/"
        }
      },
      "source": [
        "#@title **フラグの設定と最低限必要なライブラリのインポート**\n",
        "IS_DEBUG     = True\n",
        "IS_LIBLOADED = False\n",
        "IS_MSLOADED  = False\n",
        "IS_OLDIFYLOADED  = False\n",
        "IS_GFPGANLOADED  = False\n",
        "IS_DEEPREMASTERLOADED = False\n",
        "IS_TECOGANLOADED = False\n",
        "IS_DAINLOADED = False\n",
        "\n",
        "!pip install youtube_dl\n",
        "import youtube_dl\n",
        "import cv2\n",
        "import os\n",
        "import glob\n",
        "import datetime\n",
        "import logging\n",
        "import shutil\n",
        "from google.colab import files\n",
        "import moviepy.editor as mpy\n",
        "from IPython.display import clear_output"
      ],
      "execution_count": 2,
      "outputs": [
        {
          "output_type": "stream",
          "name": "stdout",
          "text": [
            "Collecting youtube_dl\n",
            "  Downloading youtube_dl-2021.12.17-py2.py3-none-any.whl (1.9 MB)\n",
            "\u001b[K     |████████████████████████████████| 1.9 MB 5.2 MB/s \n",
            "\u001b[?25hInstalling collected packages: youtube-dl\n",
            "Successfully installed youtube-dl-2021.12.17\n",
            "Imageio: 'ffmpeg-linux64-v3.3.1' was not found on your computer; downloading it now.\n",
            "Try 1. Download from https://github.com/imageio/imageio-binaries/raw/master/ffmpeg/ffmpeg-linux64-v3.3.1 (43.8 MB)\n",
            "Downloading: 8192/45929032 bytes (0.0%)\b\b\b\b\b\b\b\b\b\b\b\b\b\b\b\b\b\b\b\b\b\b\b\b\b\b2867200/45929032 bytes (6.2%)\b\b\b\b\b\b\b\b\b\b\b\b\b\b\b\b\b\b\b\b\b\b\b\b\b\b\b\b\b6463488/45929032 bytes (14.1%)\b\b\b\b\b\b\b\b\b\b\b\b\b\b\b\b\b\b\b\b\b\b\b\b\b\b\b\b\b\b9814016/45929032 bytes (21.4%)\b\b\b\b\b\b\b\b\b\b\b\b\b\b\b\b\b\b\b\b\b\b\b\b\b\b\b\b\b\b13205504/45929032 bytes (28.8%)\b\b\b\b\b\b\b\b\b\b\b\b\b\b\b\b\b\b\b\b\b\b\b\b\b\b\b\b\b\b\b16687104/45929032 bytes (36.3%)\b\b\b\b\b\b\b\b\b\b\b\b\b\b\b\b\b\b\b\b\b\b\b\b\b\b\b\b\b\b\b20283392/45929032 bytes (44.2%)\b\b\b\b\b\b\b\b\b\b\b\b\b\b\b\b\b\b\b\b\b\b\b\b\b\b\b\b\b\b\b23961600/45929032 bytes (52.2%)\b\b\b\b\b\b\b\b\b\b\b\b\b\b\b\b\b\b\b\b\b\b\b\b\b\b\b\b\b\b\b27222016/45929032 bytes (59.3%)\b\b\b\b\b\b\b\b\b\b\b\b\b\b\b\b\b\b\b\b\b\b\b\b\b\b\b\b\b\b\b30867456/45929032 bytes (67.2%)\b\b\b\b\b\b\b\b\b\b\b\b\b\b\b\b\b\b\b\b\b\b\b\b\b\b\b\b\b\b\b34480128/45929032 bytes (75.1%)\b\b\b\b\b\b\b\b\b\b\b\b\b\b\b\b\b\b\b\b\b\b\b\b\b\b\b\b\b\b\b38182912/45929032 bytes (83.1%)\b\b\b\b\b\b\b\b\b\b\b\b\b\b\b\b\b\b\b\b\b\b\b\b\b\b\b\b\b\b\b41918464/45929032 bytes (91.3%)\b\b\b\b\b\b\b\b\b\b\b\b\b\b\b\b\b\b\b\b\b\b\b\b\b\b\b\b\b\b\b45588480/45929032 bytes (99.3%)\b\b\b\b\b\b\b\b\b\b\b\b\b\b\b\b\b\b\b\b\b\b\b\b\b\b\b\b\b\b\b45929032/45929032 bytes (100.0%)\n",
            "  Done\n",
            "File saved as /root/.imageio/ffmpeg/ffmpeg-linux64-v3.3.1.\n"
          ]
        }
      ]
    },
    {
      "cell_type": "markdown",
      "metadata": {
        "id": "pL23bEM24R4l"
      },
      "source": [
        "#◢ 動画ファイルのダウンロード"
      ]
    },
    {
      "cell_type": "code",
      "metadata": {
        "id": "-pMiFqHO0hpA",
        "cellView": "form",
        "outputId": "1cf58eeb-df13-43cd-86bd-e7f923601424",
        "colab": {
          "base_uri": "https://localhost:8080/"
        }
      },
      "source": [
        "#@title **Googleドライブのマウント**\n",
        "#@markdown Google ドライブを/content/driveにマウントします。\n",
        "#@markdown このディレクトリの下にMyDrive/Movieというディレクトリがない場合は、それを作ります。\n",
        "\n",
        "from google.colab import drive\n",
        "drive.mount('/content/drive', force_remount=True)\n",
        "print('Google Drive connected.')\n",
        "\n",
        "if not os.path.isdir(\"/content/drive/MyDrive/Movie\"):\n",
        "  print(\"Making directory : /content/drive/MyDrive/Movie\")\n",
        "  os.mkdir(\"/content/drive/MyDrive/Movie\")"
      ],
      "execution_count": 3,
      "outputs": [
        {
          "output_type": "stream",
          "name": "stdout",
          "text": [
            "Mounted at /content/drive\n",
            "Google Drive connected.\n"
          ]
        }
      ]
    },
    {
      "cell_type": "code",
      "metadata": {
        "id": "xnbyOuhiPEFE"
      },
      "source": [
        "#@title ##**プロジェクト名の入力** { display-mode: \"form\" }\n",
        "#@markdown 任意の名前を入力します。ここで指定した名前のディレクトリがGoogle Drive上に作られ、そこに修復した動画がコピーされます。\n",
        "\n",
        "\n",
        "projectname = 'Othello' #@param {type:\"string\"}\n",
        "\n",
        "projectDir = '/content/drive/MyDrive/Movie/' + projectname\n",
        "if os.path.isdir(projectDir):\n",
        "  print(\"Warning: \" + projectDir + \" is still exist.\")\n",
        "  print(\"Warning: Currnet directory and its contents will be deleted.\")"
      ],
      "execution_count": 4,
      "outputs": []
    },
    {
      "cell_type": "code",
      "metadata": {
        "id": "eaANNxvjMLUZ",
        "outputId": "9bdeea2d-3430-450d-e310-70802b24f2ae",
        "colab": {
          "base_uri": "https://localhost:8080/"
        }
      },
      "source": [
        "#@title ##**ビデオのダウンロード** { display-mode: \"form\" }\n",
        "#@markdown *source_urlフィールドに編集したいビデオのURL（YouTubeやTwitterなど）を入力してください。このフィールドを空白にした場合、ローカルストレージにあるビデオをアップロードできます*\n",
        "#@markdown *プロジェクト名は任意でOKです。一応最後にGoogle Driveにプロジェクト名で指定したディレクトリが作られて、途中経過も含めて全ての動画ファイルがコピーされます*\n",
        "\n",
        "%cd /content\n",
        "! rm -f /content/*.mp4\n",
        "! rm -f /content/*.aac\n",
        "! rm -f /content/*.log\n",
        "\n",
        "# setup logging\n",
        "logger = logging.getLogger('LoggingTest')\n",
        "logger.setLevel(10)\n",
        "fh = logging.FileHandler('/content/restore.log')\n",
        "logger.addHandler(fh)\n",
        "\n",
        "formatter = logging.Formatter('%(asctime)s  %(message)s')\n",
        "fh.setFormatter(formatter)\n",
        "\n",
        "log_message='Project Name:     '+projectname\n",
        "logger.info(log_message)\n",
        "\n",
        "source_url = 'https://www.youtube.com/watch?v=Ib5ASid4fkE' #@param {type:\"string\"}\n",
        "\n",
        "if source_url == '':\n",
        "  dt_start_download = datetime.datetime.now()\n",
        "  uploaded = files.upload()\n",
        "\n",
        "  dt_end_download = datetime.datetime.now()\n",
        "  for fn in uploaded.keys():\n",
        "    print('User uploaded file \"{name}\" with length {length} bytes'.format(\n",
        "        name=fn, length=len(uploaded[fn])))\n",
        "  os.rename(fn, fn.replace(\" \", \"\"))\n",
        "  fn = fn.replace(\" \", \"\")\n",
        "  file_name = \"downloaded_video.\" + fn.split(\".\")[-1]\n",
        "  os.rename(fn,file_name)\n",
        "#  !mv -f $fn $file_name\n",
        "  log_message='File Name:       '+fn\n",
        "  logger.info(log_message)\n",
        "\n",
        "else:\n",
        "  try:\n",
        "    ydl_opts = {\n",
        "        'format': 'bestvideo[ext=mp4]+bestaudio[ext=m4a]/mp4',\n",
        "        'outtmpl': 'downloaded_video.mp4',\n",
        "        }\n",
        "    dt_start_download = datetime.datetime.now()\n",
        "    with youtube_dl.YoutubeDL(ydl_opts) as ydl:\n",
        "      ydl.download([source_url])\n",
        "    dt_end_download = datetime.datetime.now()\n",
        "    file_name = 'downloaded_video.mp4'\n",
        "  \n",
        "  except BaseException:\n",
        "    !wget $source_url\n",
        "    fn = source_url.split('/')[-1]\n",
        "    os.rename(fn, fn.replace(\" \", \"\"))\n",
        "    fn = fn.replace(\" \", \"\")\n",
        "    !mv -f $fn $file_name\n",
        "\n",
        "  log_message='URL:       '+source_url\n",
        "  logger.info(log_message)\n",
        "\n",
        "\n",
        "logger.info('Source file downloaded')\n",
        "\n",
        "!cp -r /content/downloaded_video.mp4 /content/video.mp4\n",
        "\n",
        "\n",
        "fps_of_video = int(cv2.VideoCapture(file_name).get(cv2.CAP_PROP_FPS))\n",
        "frames_of_video = int(cv2.VideoCapture(file_name).get(cv2.CAP_PROP_FRAME_COUNT))\n",
        "width_of_video = int(cv2.VideoCapture(file_name).get(cv2.CAP_PROP_FRAME_WIDTH))\n",
        "height_of_video = int(cv2.VideoCapture(file_name).get(cv2.CAP_PROP_FRAME_HEIGHT))\n",
        "print (\"FPS of VIDEO: \",fps_of_video)\n",
        "print (\"Frames of VIDEO: \",frames_of_video)\n",
        "print (\"Width of VIDEO: \",width_of_video)\n",
        "print (\"Height of VIDEO: \",height_of_video)\n",
        "\n",
        "logger.info('===== Information of video file =====')\n",
        "log_message='FPS of VIDEO:          '+str(fps_of_video)\n",
        "logger.info(log_message)\n",
        "log_message='Frames of VIDEO:       '+str(frames_of_video)\n",
        "logger.info(log_message)\n",
        "log_message='Width of VIDEO:        '+str(width_of_video)\n",
        "logger.info(log_message)\n",
        "log_message='Height of VIDEO:       '+str(height_of_video)\n",
        "logger.info(log_message)\n",
        "logger.info('=====================================')"
      ],
      "execution_count": 5,
      "outputs": [
        {
          "output_type": "stream",
          "name": "stdout",
          "text": [
            "/content\n",
            "[youtube] Ib5ASid4fkE: Downloading webpage\n",
            "[download] Destination: downloaded_video.f133.mp4\n",
            "[download] 100% of 695.77KiB in 00:28\n",
            "[download] Destination: downloaded_video.mp4.f140\n",
            "[download] 100% of 358.90KiB in 00:04\n",
            "[ffmpeg] Merging formats into \"downloaded_video.mp4\"\n",
            "Deleting original file downloaded_video.f133.mp4 (pass -k to keep)\n",
            "Deleting original file downloaded_video.mp4.f140 (pass -k to keep)\n",
            "FPS of VIDEO:  10\n",
            "Frames of VIDEO:  299\n",
            "Width of VIDEO:  320\n",
            "Height of VIDEO:  240\n"
          ]
        }
      ]
    },
    {
      "cell_type": "code",
      "metadata": {
        "id": "5ObdmOuzz13m"
      },
      "source": [
        "#@title ##**動画の調整** { display-mode: \"form\" }\n",
        "\n",
        "#@markdown *1分以上の動画をダウンロードすることはお勧めできません。また、タイトルに「スペース」や「ドット」が含まれている動画はアップロードしないでください。*\n",
        "#@markdown *実行中にエラーが発生した場合は、このブロックを再度実行します。*\n",
        "#@markdown *動画の長さを変更することができます。*\n",
        "\n",
        "#@markdown **動画の長さを変更する場合は、その開始時間と終了時間を指定して下さい。**\n",
        "target_start = '00:00:00' #@param {type:\"string\"}\n",
        "target_end = '00:00:03' #@param {type:\"string\"}\n",
        "\n",
        "\n",
        "if os.path.isfile(\"/content/cropped_video.mp4\"):\n",
        "    os.remove(\"/content/cropped_video.mp4\")\n",
        "\n",
        "!ffmpeg -i /content/downloaded_video.mp4  -ss $target_start -to $target_end /content/cropped_video.mp4\n",
        "\n",
        "if os.path.isfile(\"/content/video.mp4\"):\n",
        "    os.remove(\"/content/video.mp4\")\n",
        "\n",
        "!cp /content/cropped_video.mp4 /content/video.mp4\n",
        "\n",
        "##@markdown **インターレスを削除する場合に有効にしてください。**\n",
        "#is_deinterlace = False #@param {type:\"boolean\"}\n",
        "\n",
        "#@markdown **モノクロ動画にAIで色を付ける場合は有効にしてください。**\n",
        "is_deoldify = False #@param {type:\"boolean\"}\n",
        "\n",
        "\n",
        "#@markdown **Deoldifyのレンダリングファクターを指定します。(お勧めは10～25）**\n",
        "render_factor = 20  #@param {type: \"slider\", min: 5, max: 44}\n",
        "\n",
        "#@markdown **DeepRemasterを有効にすると、低画質の動画からノイズなどを除去できます。**\n",
        "is_DeepRemaster = True #@param {type:\"boolean\"}\n",
        "\n",
        "\n",
        "#@markdown **GANを使って、動画の顔部分を書き換えます。大体はがっかりしますが、時々きれいに修正されることがあります**\n",
        "\n",
        "#@markdown **Microsoft Bringing-Old-Photos-Back-to-LifeまたはGFPGANを選択して、いずれかの手法で人物の精彩化を試みます。**\n",
        "which_FaceGAN = 'Microsoft' #@param [\"None\", \"GFPGAN\", \"Microsoft\"] {allow-input: true}\n",
        "\n",
        "#@markdown **フレーム補完利用の有無。**\n",
        "#@markdown **フレームの数を倍にすることで、映像の動きをスムーズにします。**\n",
        "is_DAIN = False #@param {type:\"boolean\"}\n",
        "\n",
        "\n",
        "file_name=\"/content/cropped_video.mp4\"\n",
        "fps_of_video = int(cv2.VideoCapture(file_name).get(cv2.CAP_PROP_FPS))\n",
        "frames_of_video = int(cv2.VideoCapture(file_name).get(cv2.CAP_PROP_FRAME_COUNT))\n",
        "width_of_video = int(cv2.VideoCapture(file_name).get(cv2.CAP_PROP_FRAME_WIDTH))\n",
        "height_of_video = int(cv2.VideoCapture(file_name).get(cv2.CAP_PROP_FRAME_HEIGHT))\n",
        "\n",
        "log_message='Start:                       '+target_start\n",
        "logger.info(log_message)\n",
        "log_message='End  :                       '+target_end\n",
        "logger.info(log_message)\n",
        "log_message='Oldify:                      '+str(is_deoldify)\n",
        "logger.info(log_message)\n",
        "log_message='Render Factor:               '+str(render_factor)\n",
        "logger.info(log_message)\n",
        "log_message='Deep Remaster:               '+str(is_DeepRemaster)\n",
        "logger.info(log_message)\n",
        "log_message='Type of Face GAN:            '+str(which_FaceGAN)\n",
        "logger.info(log_message)\n",
        "log_message='DAIN :                       '+str(is_DAIN)\n",
        "logger.info(log_message)\n",
        "\n",
        "clear_output()"
      ],
      "execution_count": 6,
      "outputs": []
    },
    {
      "cell_type": "code",
      "metadata": {
        "id": "IqUFrU1vMiXw",
        "colab": {
          "base_uri": "https://localhost:8080/",
          "height": 571
        },
        "outputId": "95d13ef7-6ece-4911-fbe9-a9ad2a6e51cc"
      },
      "source": [
        "#@title ##**サイズ調整後の動画を表示（修復対象）** { display-mode: \"form\" }\n",
        "\n",
        "what_next = 'play' #@param [\"play\", \"download\"]\n",
        "if what_next == \"play\":\n",
        "#  display(mpy.ipython_display(\"/content/video.mp4\", height=400, autoplay=1, maxduration=600))\n",
        "  display(mpy.ipython_display(\"/content/video.mp4\", autoplay=1, maxduration=600, width=640))\n",
        "else:\n",
        "  files.download('/content/video.mp4')\n",
        "\n",
        "print (\"FPS of VIDEO: \",fps_of_video)\n",
        "print (\"Frames of VIDEO: \",frames_of_video)\n",
        "print (\"Width of VIDEO: \",width_of_video)\n",
        "print (\"Height of VIDEO: \",height_of_video)"
      ],
      "execution_count": 7,
      "outputs": [
        {
          "output_type": "display_data",
          "data": {
            "text/html": [
              "<div align=middle><video autoplay='1' width='640'src='data:video/mp4;base64,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' controls>Sorry, seems like your browser doesn't support HTML5 audio/video</video></div>"
            ],
            "text/plain": [
              "<moviepy.video.io.html_tools.HTML2 object>"
            ]
          },
          "metadata": {}
        },
        {
          "output_type": "stream",
          "name": "stdout",
          "text": [
            "FPS of VIDEO:  10\n",
            "Frames of VIDEO:  30\n",
            "Width of VIDEO:  320\n",
            "Height of VIDEO:  240\n"
          ]
        }
      ]
    },
    {
      "cell_type": "markdown",
      "source": [
        "#■メイン処理\n",
        "入力したパラメータが正しいことを確認したら、この行をクリックした後、Runtimeメニューから「以降のセルを実行」を選択してください。"
      ],
      "metadata": {
        "id": "UdfplSz7K5m4"
      }
    },
    {
      "cell_type": "markdown",
      "metadata": {
        "id": "vc25QNoZbviM"
      },
      "source": [
        "#◢ 関数定義"
      ]
    },
    {
      "cell_type": "code",
      "metadata": {
        "id": "I2-LWRT7eo42",
        "cellView": "form"
      },
      "source": [
        "#@title 各種関数の定義\n",
        "#@markdown **decomposit_video(展開先フォルダ, ソースビデオファイル)  　　　　ビデオを静止画フレームに分解する**\n",
        "#@markdown **unsharp_mask(ソースイメージ, 先鋭化の強さ)　　　　　　　　　　静止画のエッジなどを強調する**\n",
        "\n",
        "def decomposit_video(video_folder,video_file, frame_rate):\n",
        "  if os.path.isdir(video_folder):\n",
        "    shutil.rmtree(video_folder)\n",
        "\n",
        "  os.mkdir(video_folder)\n",
        "\n",
        "  os.chdir(video_folder)\n",
        "\n",
        "  decompose_command = 'ffmpeg -i ' + video_file + ' -vf fps=' + str(frame_rate) + ' %09d.png'\n",
        "  subprocess.run(decompose_command, shell=True)\n",
        "  #!ffmpeg -i /content/video.mp4 %09d.png\n",
        "\n",
        "  #clear_output()\n",
        "\n",
        "def composit_video(video_folder, video_file, frame_rate):\n",
        "  if os.path.isfile(video_file):\n",
        "    os.remove(video_file)\n",
        "\n",
        "  compose_command='ffmpeg -f image2 -framerate ' + str(frame_rate) + ' -i ' + video_folder + '/%09d.png -c:v h264_nvenc -preset slow -qp 18 -pix_fmt yuv420p ' + video_file\n",
        "  subprocess.run(compose_command, shell=True)\n",
        "  #clear_output()\n",
        "\n",
        "def UnSharpMask(image_file, k):\n",
        "    kernel = np.array([[-k/9.0, -k/9.0, -k/9.0],\n",
        "                    [-k/9.0, 1 + (8 * k)/9.0, -k/9.0],\n",
        "                    [-k/9.0, -k/9.0, -k/9.0]])\n",
        "    dst = cv2.filter2D(image_file, -1, kernel)\n",
        "    return dst\n",
        "\n",
        "def make_sharp_kernel(k: int):\n",
        "  return np.array([\n",
        "    [-k / 9, -k / 9, -k / 9],\n",
        "    [-k / 9, 1 + 8 * k / 9, k / 9],\n",
        "    [-k / 9, -k / 9, -k / 9]\n",
        "  ], np.float32)\n",
        "\n",
        "def unsharp_mask_movie(video_folder, video_file, k, frame_rate):\n",
        "  decomposit_video(video_folder,video_file, frame_rate)\n",
        "\n",
        "  files = glob.glob(video_folder+'/*.png')\n",
        "  for ifile in files:\n",
        "    print(\"Now processing \",ifile)\n",
        "    imageblur = cv2.imread(ifile, 0)\n",
        "#    imagesharp = UnSharpMask(imageblur,k)\n",
        "\n",
        "    kernel=make_sharp_kernel(1.0)\n",
        "    imagesharp=cv2.filter2D(imageblur,-1,kernel).astype(\"uint8\")\n",
        "    cv2.imwrite(ifile, imagesharp)\n",
        "\n",
        "  composit_video(video_folder, video_file, frame_rate)\n",
        "\n",
        "\n",
        "from PIL import Image\n",
        "import numpy as np\n",
        "import torch\n",
        "import torch.nn.functional as F\n",
        "import torchvision\n",
        "\n",
        "def load_tensor(image_file):\n",
        "    with Image.open(image_file) as img:\n",
        "        array = np.asarray(img, np.float32).transpose([2, 0, 1]) / 255.0\n",
        "        tensor = torch.as_tensor(np.expand_dims(array, axis=0))  # rank 4\n",
        "    return tensor\n",
        "\n",
        "\n",
        "#def sharpen_filter(image_file):\n",
        "#    kernel = np.array([[-2, -2, -2], [-2, 32, -2], [-2, -2, -2]], np.float32) / 16.0  # convolution filter\n",
        "#    with torch.no_grad():\n",
        "#        # [out_ch, in_ch, .., ..] : channel wiseに計算\n",
        "#        sharpen_k = torch.as_tensor(kernel.reshape(1, 1, 3, 3))\n",
        "#\n",
        "#        color = load_tensor(image_file)  # color image [1, 3, H, W]\n",
        "#        # channel-wise conv(大事)　3x3 convなのでPadding=1を入れる\n",
        "#        multiband = [F.conv2d(color[:, i:i + 1,:,:], sharpen_k, padding=1) for i in range(3)]\n",
        "#        sharpened_image = torch.cat(multiband, dim=1)\n",
        "#        torchvision.utils.save_image(sharpened_image, image_file)\n",
        "\n",
        "def sharpen_filter(image_file, k):\n",
        "  kernel = np.array([[-float(k)/9.0, -float(k)/9.0, -float(k)/9.0],\n",
        "                    [-float(k)/9.0, 1 + (8 * float(k))/9.0, -float(k)/9.0],\n",
        "                    [-float(k)/9.0, -float(k)/9.0, -float(k)/9.0]])\n",
        "  gray = cv2.imread(image_file,0)\n",
        "  dst = cv2.filter2D(gray, -1, kernel)\n",
        "  cv2.imwrite(image_file,dst)\n",
        "  return dst\n",
        "\n",
        "\n",
        "def sharpen_movie(video_folder, video_file, k, frame_rate):\n",
        "  decomposit_video(video_folder,video_file, frame_rate)\n",
        "\n",
        "  files = glob.glob(video_folder+'/*.png')\n",
        "  for ifile in files:\n",
        "    print(\"Now processing \",ifile)\n",
        "    sharpen_filter(ifile, k)\n",
        "\n",
        "  composit_video(video_folder, video_file, frame_rate)\n",
        "\n",
        "\n",
        "#def sharpen_movie(video_folder, video_file, k, frame_rate):\n",
        "#  decomposit_video(video_folder,video_file, frame_rate)\n",
        "#\n",
        "#  files = glob.glob(video_folder+'/*.png')\n",
        "#  for ifile in files:\n",
        "#    print(\"Now processing \",ifile)\n",
        "#    sharpen_filter(ifile)\n",
        "\n",
        "#  composit_video(video_folder, video_file, frame_rate)\n",
        "\n",
        "\n",
        "def hist_filter(image_file):\n",
        "    img = cv2.imread(image_file,0)\n",
        "\n",
        "# create a CLAHE object (Arguments are optional).\n",
        "    clahe = cv2.createCLAHE(clipLimit=2.0, tileGridSize=(8,8))\n",
        "    cl1 = clahe.apply(img)\n",
        "\n",
        "    cv2.imwrite(image_file,cl1)\n",
        "\n",
        "\n",
        "def changehistgram_movie(video_folder, video_file, frame_rate):\n",
        "  decomposit_video(video_folder,video_file, frame_rate)\n",
        "\n",
        "  files = glob.glob(video_folder+'/*.png')\n",
        "  for ifile in files:\n",
        "    print(\"Now processing \",ifile)\n",
        "    hist_filter(ifile)\n",
        "\n",
        "  composit_video(video_folder, video_file, frame_rate)\n",
        "\n",
        "def colorize_video(source_video, output_video, render_factor):\n",
        "  print(source_video)\n",
        "  print(output_video)\n",
        "\n",
        "  if os.path.isfile(\"/content/DeOldify/video\"):\n",
        "    shutil.rmtree(\"/content/DeOldify/video\")\n",
        "\n",
        "  !mkdir -p '/content/DeOldify/video/source'\n",
        "\n",
        "  command1=\"cp -r \" + source_video + \" /content/DeOldify/video/source/video.mp4\"\n",
        "  subprocess.run(command1,shell=True)\n",
        "  print(command1)\n",
        "#  !cp -r str(source_video) /content/DeOldify/video/source/video.mp4\n",
        "  video_path = colorizer.colorize_from_file_name('/content/DeOldify/video/source/video.mp4', render_factor)\n",
        " \n",
        "  command2=\"cp -r /content/DeOldify/video/result/video.mp4 \" + output_video\n",
        "  subprocess.run(command2,shell=True)\n",
        "#  !cp -r /content/DeOldify/video/result/video.mp4 str(output_video)\n",
        "  print(command2)\n",
        "  if os.path.isfile(\"/content/DeOldify/video/result/video.mp4\"):\n",
        "    os.remove(\"/content/DeOldify/video/result/video.mp4\")\n",
        "\n",
        "\n",
        "def clear_logs(flag):\n",
        "  if flag != True:\n",
        "    clear_output()\n",
        "\n",
        "\n",
        "!mkdir /content/reference\n",
        "\n"
      ],
      "execution_count": 8,
      "outputs": []
    },
    {
      "cell_type": "code",
      "metadata": {
        "id": "VJ1FPSlRyxXg",
        "outputId": "33a98d54-2423-45c9-a1eb-3459a721b970",
        "colab": {
          "base_uri": "https://localhost:8080/",
          "height": 1000
        }
      },
      "source": [
        "#@title ライブラリ等のインストール\n",
        "\n",
        "if IS_LIBLOADED != True:\n",
        "\n",
        "  %cd /content\n",
        "\n",
        "  p = os.getenv('PATH')\n",
        "  ld = os.getenv('LD_LIBRARY_PATH')\n",
        "  os.environ['PATH'] = f\"/usr/local/cuda-10.1/bin:{p}\"\n",
        "  os.environ['LD_LIBRARY_PATH'] = f\"/usr/local/cuda-10.1/lib64:{ld}\"\n",
        "\n",
        "  !pip install ffmpeg\n",
        "  !pip install ffmpeg-python\n",
        "  !pip install torch==1.10.0\n",
        "  !pip install torchvision==0.10.1\n",
        "  !pip install scipy\n",
        "  !pip install imgaug\n",
        "\n",
        "  !pip install tensorflow\n",
        "  #!pip install tensorflow==1.15.5\n",
        "  #!pip install imgaug==0.2.5\n",
        "  #!pip install scipy==1.2.0\n",
        "  #!pip install torch==1.4\n",
        "  #!pip install torchvision==0.5\n",
        "\n",
        "  #シーン分割\n",
        "  #!pip install scenedetect[opencv,progress_bar]\n",
        "  #!pip install subprocess\n",
        "\n",
        "  import subprocess\n",
        "  import tensorflow as tf\n",
        "  import ffmpeg\n",
        "  import numpy as np\n",
        "  import imageio\n",
        "  import cv2\n",
        "  import torch\n",
        "  import glob\n",
        "  import shutil\n",
        "  import time\n",
        "  from IPython.display import clear_output\n",
        "\n",
        "\n",
        "  torch.backends.cudnn.benchmark=True\n",
        "\n",
        "#clear_output()\n",
        "  IS_LIBLOADED = True\n"
      ],
      "execution_count": 9,
      "outputs": [
        {
          "output_type": "stream",
          "name": "stdout",
          "text": [
            "/content\n",
            "Collecting ffmpeg\n",
            "  Downloading ffmpeg-1.4.tar.gz (5.1 kB)\n",
            "Building wheels for collected packages: ffmpeg\n",
            "  Building wheel for ffmpeg (setup.py) ... \u001b[?25l\u001b[?25hdone\n",
            "  Created wheel for ffmpeg: filename=ffmpeg-1.4-py3-none-any.whl size=6083 sha256=ca2e7332c5e3258b12eff99349d93849ea07cd849c4c347f168cbec26a73f425\n",
            "  Stored in directory: /root/.cache/pip/wheels/64/80/6e/caa3e16deb0267c3cbfd36862058a724144e19fdb9eb03af0f\n",
            "Successfully built ffmpeg\n",
            "Installing collected packages: ffmpeg\n",
            "Successfully installed ffmpeg-1.4\n",
            "Collecting ffmpeg-python\n",
            "  Downloading ffmpeg_python-0.2.0-py3-none-any.whl (25 kB)\n",
            "Requirement already satisfied: future in /usr/local/lib/python3.7/dist-packages (from ffmpeg-python) (0.16.0)\n",
            "Installing collected packages: ffmpeg-python\n",
            "Successfully installed ffmpeg-python-0.2.0\n",
            "Requirement already satisfied: torch==1.10.0 in /usr/local/lib/python3.7/dist-packages (1.10.0+cu111)\n",
            "Requirement already satisfied: typing-extensions in /usr/local/lib/python3.7/dist-packages (from torch==1.10.0) (3.10.0.2)\n",
            "Collecting torchvision==0.10.1\n",
            "  Downloading torchvision-0.10.1-cp37-cp37m-manylinux1_x86_64.whl (22.1 MB)\n",
            "\u001b[K     |████████████████████████████████| 22.1 MB 1.3 MB/s \n",
            "\u001b[?25hRequirement already satisfied: numpy in /usr/local/lib/python3.7/dist-packages (from torchvision==0.10.1) (1.19.5)\n",
            "Requirement already satisfied: pillow>=5.3.0 in /usr/local/lib/python3.7/dist-packages (from torchvision==0.10.1) (7.1.2)\n",
            "Collecting torch==1.9.1\n",
            "  Downloading torch-1.9.1-cp37-cp37m-manylinux1_x86_64.whl (831.4 MB)\n",
            "\u001b[K     |████████████████████████████████| 831.4 MB 6.9 kB/s \n",
            "\u001b[?25hRequirement already satisfied: typing-extensions in /usr/local/lib/python3.7/dist-packages (from torch==1.9.1->torchvision==0.10.1) (3.10.0.2)\n",
            "Installing collected packages: torch, torchvision\n",
            "  Attempting uninstall: torch\n",
            "    Found existing installation: torch 1.10.0+cu111\n",
            "    Uninstalling torch-1.10.0+cu111:\n",
            "      Successfully uninstalled torch-1.10.0+cu111\n",
            "  Attempting uninstall: torchvision\n",
            "    Found existing installation: torchvision 0.11.1+cu111\n",
            "    Uninstalling torchvision-0.11.1+cu111:\n",
            "      Successfully uninstalled torchvision-0.11.1+cu111\n",
            "\u001b[31mERROR: pip's dependency resolver does not currently take into account all the packages that are installed. This behaviour is the source of the following dependency conflicts.\n",
            "torchtext 0.11.0 requires torch==1.10.0, but you have torch 1.9.1 which is incompatible.\n",
            "torchaudio 0.10.0+cu111 requires torch==1.10.0, but you have torch 1.9.1 which is incompatible.\u001b[0m\n",
            "Successfully installed torch-1.9.1 torchvision-0.10.1\n"
          ]
        },
        {
          "output_type": "display_data",
          "data": {
            "application/vnd.colab-display-data+json": {
              "pip_warning": {
                "packages": [
                  "torch",
                  "torchvision"
                ]
              }
            }
          },
          "metadata": {}
        },
        {
          "output_type": "stream",
          "name": "stdout",
          "text": [
            "Requirement already satisfied: scipy in /usr/local/lib/python3.7/dist-packages (1.4.1)\n",
            "Requirement already satisfied: numpy>=1.13.3 in /usr/local/lib/python3.7/dist-packages (from scipy) (1.19.5)\n",
            "Requirement already satisfied: imgaug in /usr/local/lib/python3.7/dist-packages (0.2.9)\n",
            "Requirement already satisfied: matplotlib in /usr/local/lib/python3.7/dist-packages (from imgaug) (3.2.2)\n",
            "Requirement already satisfied: scipy in /usr/local/lib/python3.7/dist-packages (from imgaug) (1.4.1)\n",
            "Requirement already satisfied: imageio in /usr/local/lib/python3.7/dist-packages (from imgaug) (2.4.1)\n",
            "Requirement already satisfied: opencv-python in /usr/local/lib/python3.7/dist-packages (from imgaug) (4.1.2.30)\n",
            "Requirement already satisfied: Shapely in /usr/local/lib/python3.7/dist-packages (from imgaug) (1.8.0)\n",
            "Requirement already satisfied: scikit-image>=0.11.0 in /usr/local/lib/python3.7/dist-packages (from imgaug) (0.18.3)\n",
            "Requirement already satisfied: numpy>=1.15.0 in /usr/local/lib/python3.7/dist-packages (from imgaug) (1.19.5)\n",
            "Requirement already satisfied: Pillow in /usr/local/lib/python3.7/dist-packages (from imgaug) (7.1.2)\n",
            "Requirement already satisfied: six in /usr/local/lib/python3.7/dist-packages (from imgaug) (1.15.0)\n",
            "Requirement already satisfied: tifffile>=2019.7.26 in /usr/local/lib/python3.7/dist-packages (from scikit-image>=0.11.0->imgaug) (2021.11.2)\n",
            "Requirement already satisfied: networkx>=2.0 in /usr/local/lib/python3.7/dist-packages (from scikit-image>=0.11.0->imgaug) (2.6.3)\n",
            "Requirement already satisfied: PyWavelets>=1.1.1 in /usr/local/lib/python3.7/dist-packages (from scikit-image>=0.11.0->imgaug) (1.2.0)\n",
            "Requirement already satisfied: pyparsing!=2.0.4,!=2.1.2,!=2.1.6,>=2.0.1 in /usr/local/lib/python3.7/dist-packages (from matplotlib->imgaug) (3.0.6)\n",
            "Requirement already satisfied: python-dateutil>=2.1 in /usr/local/lib/python3.7/dist-packages (from matplotlib->imgaug) (2.8.2)\n",
            "Requirement already satisfied: kiwisolver>=1.0.1 in /usr/local/lib/python3.7/dist-packages (from matplotlib->imgaug) (1.3.2)\n",
            "Requirement already satisfied: cycler>=0.10 in /usr/local/lib/python3.7/dist-packages (from matplotlib->imgaug) (0.11.0)\n",
            "Requirement already satisfied: tensorflow in /usr/local/lib/python3.7/dist-packages (2.7.0)\n",
            "Requirement already satisfied: keras<2.8,>=2.7.0rc0 in /usr/local/lib/python3.7/dist-packages (from tensorflow) (2.7.0)\n",
            "Requirement already satisfied: keras-preprocessing>=1.1.1 in /usr/local/lib/python3.7/dist-packages (from tensorflow) (1.1.2)\n",
            "Requirement already satisfied: google-pasta>=0.1.1 in /usr/local/lib/python3.7/dist-packages (from tensorflow) (0.2.0)\n",
            "Requirement already satisfied: h5py>=2.9.0 in /usr/local/lib/python3.7/dist-packages (from tensorflow) (3.1.0)\n",
            "Requirement already satisfied: tensorflow-io-gcs-filesystem>=0.21.0 in /usr/local/lib/python3.7/dist-packages (from tensorflow) (0.22.0)\n",
            "Requirement already satisfied: grpcio<2.0,>=1.24.3 in /usr/local/lib/python3.7/dist-packages (from tensorflow) (1.42.0)\n",
            "Requirement already satisfied: gast<0.5.0,>=0.2.1 in /usr/local/lib/python3.7/dist-packages (from tensorflow) (0.4.0)\n",
            "Requirement already satisfied: numpy>=1.14.5 in /usr/local/lib/python3.7/dist-packages (from tensorflow) (1.19.5)\n",
            "Requirement already satisfied: termcolor>=1.1.0 in /usr/local/lib/python3.7/dist-packages (from tensorflow) (1.1.0)\n",
            "Requirement already satisfied: flatbuffers<3.0,>=1.12 in /usr/local/lib/python3.7/dist-packages (from tensorflow) (2.0)\n",
            "Requirement already satisfied: tensorflow-estimator<2.8,~=2.7.0rc0 in /usr/local/lib/python3.7/dist-packages (from tensorflow) (2.7.0)\n",
            "Requirement already satisfied: opt-einsum>=2.3.2 in /usr/local/lib/python3.7/dist-packages (from tensorflow) (3.3.0)\n",
            "Requirement already satisfied: absl-py>=0.4.0 in /usr/local/lib/python3.7/dist-packages (from tensorflow) (0.12.0)\n",
            "Requirement already satisfied: protobuf>=3.9.2 in /usr/local/lib/python3.7/dist-packages (from tensorflow) (3.17.3)\n",
            "Requirement already satisfied: wrapt>=1.11.0 in /usr/local/lib/python3.7/dist-packages (from tensorflow) (1.13.3)\n",
            "Requirement already satisfied: astunparse>=1.6.0 in /usr/local/lib/python3.7/dist-packages (from tensorflow) (1.6.3)\n",
            "Requirement already satisfied: typing-extensions>=3.6.6 in /usr/local/lib/python3.7/dist-packages (from tensorflow) (3.10.0.2)\n",
            "Requirement already satisfied: six>=1.12.0 in /usr/local/lib/python3.7/dist-packages (from tensorflow) (1.15.0)\n",
            "Requirement already satisfied: wheel<1.0,>=0.32.0 in /usr/local/lib/python3.7/dist-packages (from tensorflow) (0.37.0)\n",
            "Requirement already satisfied: tensorboard~=2.6 in /usr/local/lib/python3.7/dist-packages (from tensorflow) (2.7.0)\n",
            "Requirement already satisfied: libclang>=9.0.1 in /usr/local/lib/python3.7/dist-packages (from tensorflow) (12.0.0)\n",
            "Requirement already satisfied: cached-property in /usr/local/lib/python3.7/dist-packages (from h5py>=2.9.0->tensorflow) (1.5.2)\n",
            "Requirement already satisfied: google-auth-oauthlib<0.5,>=0.4.1 in /usr/local/lib/python3.7/dist-packages (from tensorboard~=2.6->tensorflow) (0.4.6)\n",
            "Requirement already satisfied: google-auth<3,>=1.6.3 in /usr/local/lib/python3.7/dist-packages (from tensorboard~=2.6->tensorflow) (1.35.0)\n",
            "Requirement already satisfied: setuptools>=41.0.0 in /usr/local/lib/python3.7/dist-packages (from tensorboard~=2.6->tensorflow) (57.4.0)\n",
            "Requirement already satisfied: markdown>=2.6.8 in /usr/local/lib/python3.7/dist-packages (from tensorboard~=2.6->tensorflow) (3.3.6)\n",
            "Requirement already satisfied: requests<3,>=2.21.0 in /usr/local/lib/python3.7/dist-packages (from tensorboard~=2.6->tensorflow) (2.23.0)\n",
            "Requirement already satisfied: werkzeug>=0.11.15 in /usr/local/lib/python3.7/dist-packages (from tensorboard~=2.6->tensorflow) (1.0.1)\n",
            "Requirement already satisfied: tensorboard-plugin-wit>=1.6.0 in /usr/local/lib/python3.7/dist-packages (from tensorboard~=2.6->tensorflow) (1.8.0)\n",
            "Requirement already satisfied: tensorboard-data-server<0.7.0,>=0.6.0 in /usr/local/lib/python3.7/dist-packages (from tensorboard~=2.6->tensorflow) (0.6.1)\n",
            "Requirement already satisfied: rsa<5,>=3.1.4 in /usr/local/lib/python3.7/dist-packages (from google-auth<3,>=1.6.3->tensorboard~=2.6->tensorflow) (4.8)\n",
            "Requirement already satisfied: pyasn1-modules>=0.2.1 in /usr/local/lib/python3.7/dist-packages (from google-auth<3,>=1.6.3->tensorboard~=2.6->tensorflow) (0.2.8)\n",
            "Requirement already satisfied: cachetools<5.0,>=2.0.0 in /usr/local/lib/python3.7/dist-packages (from google-auth<3,>=1.6.3->tensorboard~=2.6->tensorflow) (4.2.4)\n",
            "Requirement already satisfied: requests-oauthlib>=0.7.0 in /usr/local/lib/python3.7/dist-packages (from google-auth-oauthlib<0.5,>=0.4.1->tensorboard~=2.6->tensorflow) (1.3.0)\n",
            "Requirement already satisfied: importlib-metadata>=4.4 in /usr/local/lib/python3.7/dist-packages (from markdown>=2.6.8->tensorboard~=2.6->tensorflow) (4.8.2)\n",
            "Requirement already satisfied: zipp>=0.5 in /usr/local/lib/python3.7/dist-packages (from importlib-metadata>=4.4->markdown>=2.6.8->tensorboard~=2.6->tensorflow) (3.6.0)\n",
            "Requirement already satisfied: pyasn1<0.5.0,>=0.4.6 in /usr/local/lib/python3.7/dist-packages (from pyasn1-modules>=0.2.1->google-auth<3,>=1.6.3->tensorboard~=2.6->tensorflow) (0.4.8)\n",
            "Requirement already satisfied: certifi>=2017.4.17 in /usr/local/lib/python3.7/dist-packages (from requests<3,>=2.21.0->tensorboard~=2.6->tensorflow) (2021.10.8)\n",
            "Requirement already satisfied: chardet<4,>=3.0.2 in /usr/local/lib/python3.7/dist-packages (from requests<3,>=2.21.0->tensorboard~=2.6->tensorflow) (3.0.4)\n",
            "Requirement already satisfied: idna<3,>=2.5 in /usr/local/lib/python3.7/dist-packages (from requests<3,>=2.21.0->tensorboard~=2.6->tensorflow) (2.10)\n",
            "Requirement already satisfied: urllib3!=1.25.0,!=1.25.1,<1.26,>=1.21.1 in /usr/local/lib/python3.7/dist-packages (from requests<3,>=2.21.0->tensorboard~=2.6->tensorflow) (1.24.3)\n",
            "Requirement already satisfied: oauthlib>=3.0.0 in /usr/local/lib/python3.7/dist-packages (from requests-oauthlib>=0.7.0->google-auth-oauthlib<0.5,>=0.4.1->tensorboard~=2.6->tensorflow) (3.1.1)\n",
            "Collecting scenedetect[opencv,progress_bar]\n",
            "  Downloading scenedetect-0.5.6.1-py2.py3-none-any.whl (98 kB)\n",
            "\u001b[K     |████████████████████████████████| 98 kB 3.0 MB/s \n",
            "\u001b[33mWARNING: scenedetect 0.5.6.1 does not provide the extra 'progress_bar'\u001b[0m\n",
            "\u001b[?25hRequirement already satisfied: Click in /usr/local/lib/python3.7/dist-packages (from scenedetect[opencv,progress_bar]) (7.1.2)\n",
            "Requirement already satisfied: numpy in /usr/local/lib/python3.7/dist-packages (from scenedetect[opencv,progress_bar]) (1.19.5)\n",
            "Requirement already satisfied: tqdm in /usr/local/lib/python3.7/dist-packages (from scenedetect[opencv,progress_bar]) (4.62.3)\n",
            "Requirement already satisfied: opencv-python in /usr/local/lib/python3.7/dist-packages (from scenedetect[opencv,progress_bar]) (4.1.2.30)\n",
            "Installing collected packages: scenedetect\n",
            "Successfully installed scenedetect-0.5.6.1\n"
          ]
        }
      ]
    },
    {
      "cell_type": "markdown",
      "metadata": {
        "id": "f8e8z_fE2yLK"
      },
      "source": [
        "# ◢ 音声情報を抽出する"
      ]
    },
    {
      "cell_type": "code",
      "metadata": {
        "id": "jCy-I-yN29Bw",
        "outputId": "3ba18f3a-87d6-4cb5-aab3-69ad70dc7ccb",
        "colab": {
          "base_uri": "https://localhost:8080/"
        }
      },
      "source": [
        "!ffmpeg -i /content/video.mp4 -vn -y -acodec copy output.aac\n",
        "clear_logs(IS_DEBUG)"
      ],
      "execution_count": 10,
      "outputs": [
        {
          "output_type": "stream",
          "name": "stdout",
          "text": [
            "ffmpeg version 3.4.8-0ubuntu0.2 Copyright (c) 2000-2020 the FFmpeg developers\n",
            "  built with gcc 7 (Ubuntu 7.5.0-3ubuntu1~18.04)\n",
            "  configuration: --prefix=/usr --extra-version=0ubuntu0.2 --toolchain=hardened --libdir=/usr/lib/x86_64-linux-gnu --incdir=/usr/include/x86_64-linux-gnu --enable-gpl --disable-stripping --enable-avresample --enable-avisynth --enable-gnutls --enable-ladspa --enable-libass --enable-libbluray --enable-libbs2b --enable-libcaca --enable-libcdio --enable-libflite --enable-libfontconfig --enable-libfreetype --enable-libfribidi --enable-libgme --enable-libgsm --enable-libmp3lame --enable-libmysofa --enable-libopenjpeg --enable-libopenmpt --enable-libopus --enable-libpulse --enable-librubberband --enable-librsvg --enable-libshine --enable-libsnappy --enable-libsoxr --enable-libspeex --enable-libssh --enable-libtheora --enable-libtwolame --enable-libvorbis --enable-libvpx --enable-libwavpack --enable-libwebp --enable-libx265 --enable-libxml2 --enable-libxvid --enable-libzmq --enable-libzvbi --enable-omx --enable-openal --enable-opengl --enable-sdl2 --enable-libdc1394 --enable-libdrm --enable-libiec61883 --enable-chromaprint --enable-frei0r --enable-libopencv --enable-libx264 --enable-shared\n",
            "  libavutil      55. 78.100 / 55. 78.100\n",
            "  libavcodec     57.107.100 / 57.107.100\n",
            "  libavformat    57. 83.100 / 57. 83.100\n",
            "  libavdevice    57. 10.100 / 57. 10.100\n",
            "  libavfilter     6.107.100 /  6.107.100\n",
            "  libavresample   3.  7.  0 /  3.  7.  0\n",
            "  libswscale      4.  8.100 /  4.  8.100\n",
            "  libswresample   2.  9.100 /  2.  9.100\n",
            "  libpostproc    54.  7.100 / 54.  7.100\n",
            "Input #0, mov,mp4,m4a,3gp,3g2,mj2, from '/content/video.mp4':\n",
            "  Metadata:\n",
            "    major_brand     : isom\n",
            "    minor_version   : 512\n",
            "    compatible_brands: isomiso2avc1mp41\n",
            "    encoder         : Lavf57.83.100\n",
            "  Duration: 00:00:03.02, start: 0.000000, bitrate: 232 kb/s\n",
            "    Stream #0:0(und): Video: h264 (High) (avc1 / 0x31637661), yuv420p, 320x240 [SAR 1:1 DAR 4:3], 155 kb/s, 10 fps, 10 tbr, 10240 tbn, 20 tbc (default)\n",
            "    Metadata:\n",
            "      handler_name    : VideoHandler\n",
            "    Stream #0:1(und): Audio: aac (LC) (mp4a / 0x6134706D), 44100 Hz, mono, fltp, 70 kb/s (default)\n",
            "    Metadata:\n",
            "      handler_name    : SoundHandler\n",
            "Output #0, adts, to 'output.aac':\n",
            "  Metadata:\n",
            "    major_brand     : isom\n",
            "    minor_version   : 512\n",
            "    compatible_brands: isomiso2avc1mp41\n",
            "    encoder         : Lavf57.83.100\n",
            "    Stream #0:0(und): Audio: aac (LC) (mp4a / 0x6134706D), 44100 Hz, mono, fltp, 70 kb/s (default)\n",
            "    Metadata:\n",
            "      handler_name    : SoundHandler\n",
            "Stream mapping:\n",
            "  Stream #0:1 -> #0:0 (copy)\n",
            "Press [q] to stop, [?] for help\n",
            "size=      27kB time=00:00:02.99 bitrate=  73.6kbits/s speed= 946x    \n",
            "video:0kB audio:26kB subtitle:0kB other streams:0kB global headers:0kB muxing overhead: 3.442838%\n"
          ]
        }
      ]
    },
    {
      "cell_type": "markdown",
      "metadata": {
        "id": "ZMvr2lJHhg1L"
      },
      "source": [
        "# ◢ 動画をアップスケールする"
      ]
    },
    {
      "cell_type": "code",
      "metadata": {
        "id": "1vVjUymwetxa"
      },
      "source": [
        "#@title ##**TecoGANのリポジトリをクローンする** { display-mode: \"form\" }\n",
        "\n",
        "if IS_TECOGANLOADED != True :\n",
        "  log_message='Start cloning TecoGAN Repository'\n",
        "  logger.info(log_message)\n",
        "\n",
        "  %cd /content\n",
        "  !git clone https://github.com/JoeyBallentine/Video-Inference.git\n",
        "  !git clone https://github.com/skycrapers/TecoGAN-PyTorch.git\n",
        "\n",
        "  %cd /content/TecoGAN-PyTorch/\n",
        "  !bash /content/TecoGAN-PyTorch/scripts/download/download_models.sh BD TecoGAN\n",
        "  !bash /content/TecoGAN-PyTorch/scripts/download/download_models.sh BI TecoGAN\n",
        "  !cp /content/TecoGAN-PyTorch/pretrained_models/* /content/Video-Inference/models/\n",
        "\n",
        "  IS_TECOGANLOADED = True\n",
        "\n",
        "  log_message='Finished cloning TecoGAN Repository'\n",
        "  logger.info(log_message)\n",
        "\n",
        "  clear_output()"
      ],
      "execution_count": 11,
      "outputs": []
    },
    {
      "cell_type": "code",
      "metadata": {
        "id": "Y8jS-DPT3iq1",
        "outputId": "3e400756-b0da-4d4f-bd22-a4a2741a86a3",
        "colab": {
          "base_uri": "https://localhost:8080/"
        }
      },
      "source": [
        "#@title ##**TecoGANによる動画のアップスケール** { display-mode: \"form\" }\n",
        "\n",
        "if height_of_video <= 720: \n",
        "  log_message='Start upscaling with TecoGAN'\n",
        "  logger.info(log_message)\n",
        "\n",
        "  %cd /content/Video-Inference/\n",
        "  if os.path.isfile(\"./output/video.mp4\"):\n",
        "      os.remove(\"./output/video.mp4\")\n",
        "\n",
        "  !python run.py ./models/TecoGAN_BD_iter500000.pth --input \"/content/video.mp4\" --output \"/content/Video-Inference/output/video.mp4\"\n",
        "\n",
        "  if (height_of_video * 4) >= 1080:\n",
        "    !ffmpeg -i /content/Video-Inference/output/video.mp4 -vf scale=-1:1080 /content/upscaled_video.mp4\n",
        "  else:\n",
        "    !cp ./output/video.mp4 /content/upscaled_video.mp4\n",
        "\n",
        "  !cp /content/upscaled_video.mp4 /content/video.mp4\n",
        "\n",
        "  log_message='Finish upscaling with TecoGAN'\n",
        "  logger.info(log_message)\n",
        "\n",
        "  clear_logs(IS_DEBUG)"
      ],
      "execution_count": 12,
      "outputs": [
        {
          "output_type": "stream",
          "name": "stdout",
          "text": [
            "/content/Video-Inference\n",
            "100% (30 of 30) |#########################| Elapsed Time: 0:00:10 Time:  0:00:10\n"
          ]
        }
      ]
    },
    {
      "cell_type": "code",
      "metadata": {
        "id": "q3EOaE4hFprx",
        "outputId": "acb7223b-ec4b-49ac-fc91-120457de78a4",
        "colab": {
          "base_uri": "https://localhost:8080/"
        }
      },
      "source": [
        "\n",
        "compose_command='ffmpeg -f image2 -framerate ' + str(fps_of_video) + ' -i /content/datas/%09d.png -c:v h264_nvenc -preset slow -qp 18 -pix_fmt yuv420p /content/video.mp4'\n",
        "subprocess.run(compose_command, shell=True)"
      ],
      "execution_count": 13,
      "outputs": [
        {
          "output_type": "execute_result",
          "data": {
            "text/plain": [
              "CompletedProcess(args='ffmpeg -f image2 -framerate 10 -i /content/datas/%09d.png -c:v h264_nvenc -preset slow -qp 18 -pix_fmt yuv420p /content/video.mp4', returncode=1)"
            ]
          },
          "metadata": {},
          "execution_count": 13
        }
      ]
    },
    {
      "cell_type": "markdown",
      "metadata": {
        "id": "-f1MDliBGGGL"
      },
      "source": [
        "# #◢ モノクロ動画に色を付ける"
      ]
    },
    {
      "cell_type": "code",
      "metadata": {
        "id": "4YQLHR6xZleu"
      },
      "source": [
        "#@title **DeOldifyのリポジトリをクローンする**\n",
        "if IS_OLDIFYLOADED != True and  is_deoldify == True:\n",
        "  log_message='Start cloning DeOldify Repository'\n",
        "  logger.info(log_message)\n",
        "\n",
        "  %cd /content\n",
        "\n",
        "  !git clone https://github.com/jantic/DeOldify.git DeOldify\n",
        "  %cd DeOldify\n",
        "\n",
        "  #NOTE:  This must be the first call in order to work properly!\n",
        "  from deoldify import device\n",
        "  from deoldify.device_id import DeviceId\n",
        "  #choices:  CPU, GPU0...GPU7\n",
        "  device.set(device=DeviceId.GPU0)\n",
        "\n",
        "  import torch\n",
        "\n",
        "  if not torch.cuda.is_available():\n",
        "    print('GPU not available.')\n",
        "\n",
        "  from os import path\n",
        "\n",
        "  !pip install -r colab_requirements.txt\n",
        "\n",
        "  import fastai\n",
        "  from deoldify.visualize import *\n",
        "  from pathlib import Path\n",
        "  torch.backends.cudnn.benchmark=True\n",
        "  import warnings\n",
        "  warnings.filterwarnings(\"ignore\", category=UserWarning, message=\".*?Your .*? set is empty.*?\")\n",
        "\n",
        "  !mkdir 'models'\n",
        "  !wget https://data.deepai.org/deoldify/ColorizeVideo_gen.pth -O ./models/ColorizeVideo_gen.pth\n",
        "\n",
        "  colorizer = get_video_colorizer()\n",
        "\n",
        "  IS_OLDIFYLOADED = True\n",
        "\n",
        "  log_message='Finish cloning DeOldify Repository'\n",
        "  logger.info(log_message)\n",
        "  clear_output()"
      ],
      "execution_count": 14,
      "outputs": []
    },
    {
      "cell_type": "code",
      "metadata": {
        "id": "37yAH_olbROZ"
      },
      "source": [
        "#@title **Deoldifyによるモノクロ動画のカラー化を行う**\n",
        "if is_deoldify == True:\n",
        "  log_message='Start colorization with DeOldify'\n",
        "  logger.info(log_message)\n",
        "\n",
        "  %cd /content/DeOldify\n",
        "\n",
        "  if os.path.isfile(\"/content/DeOldify/video\"):\n",
        "    shutil.rmtree(\"/content/DeOldify/video\")\n",
        "\n",
        "  !mkdir -p '/content/DeOldify/video/source'\n",
        "\n",
        "  !cp -r /content/video.mp4 /content/DeOldify/video/source/video.mp4\n",
        "  video_path = colorizer.colorize_from_file_name('/content/DeOldify/video/source/video.mp4', render_factor)\n",
        "  !cp -r /content/DeOldify/video/result/video.mp4 /content/colorized_video.mp4\n",
        "  !cp -r /content/colorized_video.mp4 /content/video.mp4\n",
        "  if os.path.isfile(\"/content/DeOldify/video/result/video.mp4\"):\n",
        "    os.remove(\"/content/DeOldify/video/result/video.mp4\")\n",
        "\n",
        "  log_message='Finish colorization with DeOldify'\n",
        "  logger.info(log_message)\n",
        "\n",
        "#colorize_video('/content/video.mp4', '/content/colorized_video.mp4', render_factor)\n",
        "#!cp /content/colorized_video /content/video.mp4\n",
        "clear_logs(IS_DEBUG)"
      ],
      "execution_count": 15,
      "outputs": []
    },
    {
      "cell_type": "markdown",
      "metadata": {
        "id": "FakQk0wBE5GS"
      },
      "source": [
        "# ◢ ノイズ除去(Deep Remaster)"
      ]
    },
    {
      "cell_type": "code",
      "metadata": {
        "id": "DqIbGxA_60Oo"
      },
      "source": [
        "#@title ##**DeepRemasterのリポジトリをクローンする** { display-mode: \"form\" }\n",
        "\n",
        "if IS_DEEPREMASTERLOADED != True and is_DeepRemaster == True:\n",
        "  log_message='Start cloning Deep Remaster Repository'\n",
        "  logger.info(log_message)\n",
        "\n",
        "  %cd /content\n",
        "  !git clone https://github.com/satoshiiizuka/siggraphasia2019_remastering.git DeepRemaster\n",
        "  !cp -r /content/video.mp4 /content/DeepRemaster/\n",
        "  %cd /content/DeepRemaster\n",
        "\n",
        "  !wget --continue -O model/remasternet.pth.tar -- http://iizuka.cs.tsukuba.ac.jp/data/remasternet.pth.tar\n",
        "\n",
        "  log_message='Finish cloning Deep Remaster Repository'\n",
        "  logger.info(log_message)\n",
        "\n",
        "  IS_DEEPREMASTERLOADED = True\n",
        "  clear_output()"
      ],
      "execution_count": 16,
      "outputs": []
    },
    {
      "cell_type": "code",
      "metadata": {
        "id": "xzu_lk9DKbTO",
        "outputId": "532e165e-176d-49de-a965-f2eacd8d2b6f",
        "colab": {
          "base_uri": "https://localhost:8080/"
        }
      },
      "source": [
        "#@title ##**画像からノイズを除去する** { display-mode: \"form\" }\n",
        "\n",
        "if is_DeepRemaster == True:\n",
        "\n",
        "  log_message='Start denoising with Deep Remaster'\n",
        "  logger.info(log_message)\n",
        "\n",
        "  %cd /content/DeepRemaster\n",
        "\n",
        "\n",
        "  #command = \"python remaster.py --input /content/video.mp4 --disable_colorization --gpu --mindim \" + str(int(height_of_video) * 2)\n",
        "  !python remaster.py --input /content/video.mp4 --disable_colorization --gpu --mindim 1080\n",
        "\n",
        "  #subprocess.run(command,shell=True)\n",
        "\n",
        "  !cp /content/video.mp4 /content/denoised_video.mp4\n",
        "#!python remaster.py --input /content/video.mp4 --disable_colorization --gpu --mindim 1080\n",
        "#!python remaster.py --input /content/video.mp4 --disable_colorization --gpu\n",
        "#clear_output()\n",
        "\n",
        "  log_message='Finish denoising with Deep Remaster'\n",
        "  logger.info(log_message)\n",
        "\n",
        "clear_logs(IS_DEBUG)"
      ],
      "execution_count": null,
      "outputs": [
        {
          "output_type": "stream",
          "name": "stdout",
          "text": [
            "/content/DeepRemaster\n",
            "Processing video.mp4...\n",
            " 67% 20/30 [01:51<00:55,  5.58s/it]"
          ]
        }
      ]
    },
    {
      "cell_type": "markdown",
      "metadata": {
        "id": "3tKlt3_S9DgG"
      },
      "source": [
        "#◢ Microsoft Bringing-Old-Photos-Back-to-Lifeによる画像修正"
      ]
    },
    {
      "cell_type": "code",
      "metadata": {
        "id": "tHeEUq563BHe",
        "cellView": "form"
      },
      "source": [
        "#@title **Microsoft Bringing-Old-Photos-Back-to-Lifeのリポジトリーをクローンする**\n",
        "\n",
        "if IS_MSLOADED != True and which_FaceGAN == \"Microsoft\":\n",
        "\n",
        "  log_message='Start cloning Microsoft Bringing-Old-Photos-Back-to-Life repository'\n",
        "  logger.info(log_message)\n",
        "\n",
        "  %cd /content\n",
        "  !git clone https://github.com/microsoft/Bringing-Old-Photos-Back-to-Life.git photo_restoration\n",
        "\n",
        "  #@markdown Microsoft Bringing Old-Photos-Back-to-Lifeの学習済みモデルをダウンロード\n",
        "  # pull the syncBN repo\n",
        "  %cd photo_restoration/Face_Enhancement/models/networks\n",
        "  !git clone https://github.com/vacancy/Synchronized-BatchNorm-PyTorch\n",
        "  !cp -rf Synchronized-BatchNorm-PyTorch/sync_batchnorm .\n",
        "  %cd ../../../\n",
        "\n",
        "  %cd Global/detection_models\n",
        "  !git clone https://github.com/vacancy/Synchronized-BatchNorm-PyTorch\n",
        "  !cp -rf Synchronized-BatchNorm-PyTorch/sync_batchnorm .\n",
        "  %cd ../../\n",
        "\n",
        "  # download the landmark detection model\n",
        "  %cd Face_Detection/\n",
        "  !wget http://dlib.net/files/shape_predictor_68_face_landmarks.dat.bz2\n",
        "  !bzip2 -d shape_predictor_68_face_landmarks.dat.bz2\n",
        "  %cd ../\n",
        "\n",
        "  # download the pretrained model\n",
        "  %cd Face_Enhancement/\n",
        "  !wget https://facevc.blob.core.windows.net/zhanbo/old_photo/pretrain/Face_Enhancement/checkpoints.zip\n",
        "  !unzip -o checkpoints.zip\n",
        "  %cd ../\n",
        "\n",
        "  %cd Global/\n",
        "  !wget https://facevc.blob.core.windows.net/zhanbo/old_photo/pretrain/Global/checkpoints.zip\n",
        "  !unzip -o checkpoints.zip\n",
        "  %cd ../\n",
        "\n",
        "  ! pip install -r requirements.txt\n",
        "  \n",
        "  log_message='Finish cloning Microsoft Bringing-Old-Photos-Back-to-Life repository'\n",
        "  logger.info(log_message)\n",
        "\n",
        "  IS_MSLOADED = True\n",
        "\n",
        "  clear_output()"
      ],
      "execution_count": null,
      "outputs": []
    },
    {
      "cell_type": "code",
      "metadata": {
        "id": "qTmlNEoU-END",
        "cellView": "form"
      },
      "source": [
        "#@title **顔画像の修復修復**\n",
        "# ffmpeg extract - Generating individual frame PNGs from the source file.\n",
        "\n",
        "if which_FaceGAN == \"Microsoft\":\n",
        "  log_message='Start face restoration with Microsoft Bringing-Old-Photos-Back-to-Life'\n",
        "  logger.info(log_message)\n",
        "\n",
        "  %cd /content/photo_restoration\n",
        "\n",
        "  FRAME_INPUT_DIR = \"/content/photo_restoration/input_frames\"\n",
        "  FRAME_OUTPUT_DIR = \"/content/photo_restoration/output_frames\"\n",
        "  INPUT_FILEPATH = \"/content/video.mp4\"\n",
        "\n",
        "  if os.path.isfile(FRAME_INPUT_DIR):\n",
        "    shutil.rmtree(FRAME_INPUT_DIR)\n",
        "\n",
        "  %shell mkdir -p '{FRAME_INPUT_DIR}'\n",
        "  command = \"ffmpeg -i \" + INPUT_FILEPATH + \" -vf framerate=\" + str(fps_of_video) + \" \" +  FRAME_INPUT_DIR + \"/%05d.png\"\n",
        "  subprocess.run(command,shell=True)\n",
        "\n",
        "#  %shell ffmpeg -i '{INPUT_FILEPATH}' '{FRAME_INPUT_DIR}/%05d.png'\n",
        "\n",
        "  if os.path.isfile(FRAME_OUTPUT_DIR):\n",
        "    shutil.rmtree(FRAME_OUTPUT_DIR)\n",
        "  \n",
        "  %shell mkdir -p '{FRAME_OUTPUT_DIR}'\n",
        "\n",
        "\n",
        "  png_generated_count_command_result = %shell ls '{FRAME_INPUT_DIR}' | wc -l\n",
        "  from IPython.display import clear_output\n",
        "\n",
        "  pngs_generated_count = int(png_generated_count_command_result.output.strip())\n",
        "\n",
        "\n",
        "  #print(f\"Input FPS: {fps}\")\n",
        "  print(f\"{pngs_generated_count} frame PNGs generated.\")\n",
        "\n",
        "  # Checking if PNG do have alpha\n",
        "  import subprocess as sp\n",
        "  %cd {FRAME_INPUT_DIR}\n",
        "  channels = sp.getoutput('identify -format %[channels] 00001.png')\n",
        "  print (f\"{channels} detected\")\n",
        "\n",
        "  # Removing alpha if detected\n",
        "  if \"a\" in channels:\n",
        "    print(\"Alpha detected and will be removed.\")\n",
        "    print(sp.getoutput('find . -name \"*.png\" -exec convert \"{}\" -alpha off PNG24:\"{}\" \\;'))\n",
        "\n",
        "  %cd /content/photo_restoration\n",
        "  input_folder = FRAME_INPUT_DIR\n",
        "  output_folder = FRAME_OUTPUT_DIR\n",
        "\n",
        "  !rm -rf /content/photo_restoration/output_frames/*\n",
        "\n",
        "  print (input_folder)\n",
        "  print (output_folder)\n",
        "\n",
        "  import os\n",
        "  basepath = os.getcwd()\n",
        "  #input_path = os.path.join(basepath, input_folder)\n",
        "  #output_path = os.path.join(basepath, output_folder)\n",
        "  #os.mkdir(output_path)\n",
        "  #!rm -rf output_folder\n",
        "  #os.mkdir(output_folder)\n",
        "\n",
        "  !python run.py --HR --input_folder /content/photo_restoration/input_frames --output_folder /content/photo_restoration/output_frames --GPU 0\n",
        "\n",
        "#create video\n",
        "\n",
        "  %cd /content/photo_restoration/output_frames/final_output\n",
        "  command=\"ffmpeg  -pattern_type glob -i '*.png' -c:v h264_nvenc -pix_fmt yuv420p -framerate \" + str(fps_of_video) + \" /content/beautified_video.mp4\"\n",
        "  #!ffmpeg  -pattern_type glob -i '*.png' -c:v h264_nvenc -pix_fmt yuv420p /content/beautified_video.mp4\n",
        "  subprocess.run(command,shell=True)\n",
        "  !rm -f /content/video.mp4\n",
        "  !cp /content/beautified_video.mp4 /content/video.mp4\n",
        "  #clear_output()\n",
        "\n",
        "  log_message='Finish face restoration with Microsoft Bringing-Old-Photos-Back-to-Life'\n",
        "  logger.info(log_message)\n",
        "\n",
        "  clear_logs(IS_DEBUG)"
      ],
      "execution_count": null,
      "outputs": []
    },
    {
      "cell_type": "code",
      "metadata": {
        "id": "gbNt7wx9lkd1",
        "cellView": "form"
      },
      "source": [
        "#@title **動画のフレームレートを修正する（MS Bring-Old-Photos-Back-to-Lifeがデフォルトで25FPSであるため）**\n",
        "# Microsoft Bringing-Old-Photos-Back-to-Life では動画をデフォルトで25FPSで作ってしまうため、オリジナルのFPSに変換\n",
        "if which_FaceGAN == \"Microsoft\":\n",
        "  decomposit_video(\"/content/datas\",\"/content/beautified_video.mp4\", 25)\n",
        "  \n",
        "  composit_video(\"/content/datas\",\"/content/adjusted_video.mp4\",fps_of_video)\n",
        "\n",
        "  !cp /content/adjusted_video.mp4 /content/video.mp4\n",
        "  clear_logs(IS_DEBUG)"
      ],
      "execution_count": null,
      "outputs": []
    },
    {
      "cell_type": "markdown",
      "metadata": {
        "id": "smSeEdA4Mv5X"
      },
      "source": [
        "#◢ GFPGANによる顔画像の修復"
      ]
    },
    {
      "cell_type": "code",
      "metadata": {
        "id": "ZwH2ifWEYEfJ",
        "cellView": "form"
      },
      "source": [
        "#@title ##**GFPGANのリポジトリをクローンする**\n",
        "if IS_GFPGANLOADED != True and which_FaceGAN == \"GFPGAN\":\n",
        "\n",
        "  log_message='Start cloning GFPGAN repository'\n",
        "  logger.info(log_message)\n",
        "\n",
        "  # Clone GFPGAN and enter the GFPGAN folder\n",
        "  %cd /content\n",
        "  !rm -rf GFPGAN\n",
        "  !git clone https://github.com/TencentARC/GFPGAN.git\n",
        "  %cd GFPGAN\n",
        "\n",
        "  # Set up the environment\n",
        "  # Install basicsr - https://github.com/xinntao/BasicSR\n",
        "  # We use BasicSR for both training and inference\n",
        "  !pip install basicsr\n",
        "  # Install facexlib - https://github.com/xinntao/facexlib\n",
        "  # We use face detection and face restoration helper in the facexlib package\n",
        "  !pip install facexlib\n",
        "  # Install other depencencies\n",
        "  !pip install -r requirements.txt\n",
        "  !python setup.py develop\n",
        "  !pip install realesrgan  # used for enhancing the background (non-face) regions\n",
        "  # Download the pre-trained model\n",
        "  !wget https://github.com/TencentARC/GFPGAN/releases/download/v0.2.0/GFPGANCleanv1-NoCE-C2.pth -P experiments/pretrained_models\n",
        "  \n",
        "  log_message='Stop cloning GFPGAN repository'\n",
        "  logger.info(log_message)\n",
        "\n",
        "  IS_GFPGANLOADED = True\n",
        "  \n",
        "  clear_output()"
      ],
      "execution_count": null,
      "outputs": []
    },
    {
      "cell_type": "code",
      "metadata": {
        "id": "OzlCT4FRGrGt"
      },
      "source": [
        "#@title ##**GFPGANを使って動画ファイル中の顔画像を修復** { display-mode: \"form\" }\n",
        "\n",
        "if which_FaceGAN == \"GFPGAN\":\n",
        "  log_message='Start face restoration with GFPGAN'\n",
        "  logger.info(log_message)\n",
        "\n",
        "  !pip install torch==1.10.0 \n",
        "  !pip install torchvision==0.10.1\n",
        "\n",
        "  import os\n",
        "  p = os.getenv('PATH')\n",
        "  ld = os.getenv('LD_LIBRARY_PATH')\n",
        "  os.environ['PATH'] = f\"/usr/local/cuda-10.1/bin:{p}\"\n",
        "  os.environ['LD_LIBRARY_PATH'] = f\"/usr/local/cuda-10.1/lib64:{ld}\"\n",
        "\n",
        "  upload_folder = \"/content/GFPGAN/inputs/upload\"\n",
        "  if os.path.isdir(upload_folder):\n",
        "    shutil.rmtree(upload_folder)\n",
        "\n",
        "  os.mkdir(upload_folder)\n",
        "\n",
        "  %cd /content/GFPGAN/inputs/upload\n",
        "\n",
        "  !ffmpeg -i /content/video.mp4 %09d.png\n",
        "\n",
        "# Now we use the GFPGAN to restore the above low-quality images\n",
        "# We use [Real-ESRGAN](https://github.com/xinntao/Real-ESRGAN) for enhancing the background (non-face) regions\n",
        "\n",
        "  %cd /content/GFPGAN\n",
        "  !rm -rf results\n",
        "  !python inference_gfpgan.py --upscale 2 --test_path inputs/upload --save_root results --model_path experiments/pretrained_models/GFPGANCleanv1-NoCE-C2.pth --bg_upsampler realesrgan\n",
        "\n",
        "  if os.path.isfile(\"/content/restored_video.mp4\") :\n",
        "    !rm -f /content/restored_video.mp4\n",
        "\n",
        "  command=\"ffmpeg -f image2 -framerate \" + str(fps_of_video) + \" -i /content/GFPGAN/results/restored_imgs/%09d.png -c:v h264_nvenc -preset slow -qp 18 -pix_fmt yuv420p /content/beautified_video.mp4 \"\n",
        "  subprocess.run(command,shell=True)\n",
        "  #!ffmpeg -f image2 -framerate 30 -i /content/GFPGAN/results/restored_imgs/%09d.png -c:v h264_nvenc -preset slow -qp 18 -pix_fmt yuv420p /content/beautified_video.mp4\n",
        "  !rm -f /content/video.mp4\n",
        "  !cp /content/beautified_video.mp4 /content/video.mp4\n",
        "\n",
        "  log_message='Finish face restoration with GFPGAN'\n",
        "  logger.info(log_message)\n",
        " \n",
        "  clear_logs(IS_DEBUG)"
      ],
      "execution_count": null,
      "outputs": []
    },
    {
      "cell_type": "markdown",
      "metadata": {
        "id": "UYIwa40dJgO4"
      },
      "source": [
        "# ◢ DAINによるフレーム補完\n"
      ]
    },
    {
      "cell_type": "code",
      "metadata": {
        "id": "enAdgSPUgf7J"
      },
      "source": [
        "#@title ##**DAINのリポジトリをクローンする** { display-mode: \"form\" }\n",
        "\n",
        "if IS_DAINLOADED != True and is_DAIN == True:\n",
        "\n",
        "  log_message='Start cloning DAIN repository'\n",
        "  logger.info(log_message)\n",
        "\n",
        "  %cd /content\n",
        "  !git clone https://github.com/HeylonNHP/Dain-App.git\n",
        "  !pip install ninja\n",
        " # !wget https://developer.download.nvidia.com/compute/cuda/10.2/Prod/local_installers/cuda-repo-ubuntu1804-10-2-local-10.2.89-440.33.01_1.0-1_amd64.deb\n",
        " # !dpkg -i cuda-repo-ubuntu1804-10-2-local-10.2.89-440.33.01_1.0-1_amd64.deb\n",
        "\n",
        "  import os\n",
        "  p = os.getenv('PATH')\n",
        "  ld = os.getenv('LD_LIBRARY_PATH')\n",
        "  os.environ['PATH'] = f\"/usr/local/cuda-10.1/bin:{p}\"\n",
        "  os.environ['LD_LIBRARY_PATH'] = f\"/usr/local/cuda-10.1/lib64:{ld}\"\n",
        "\n",
        "\n",
        "  %cd /content/Dain-App/my_package\n",
        "  !sh build.sh\n",
        "  %cd /content/Dain-App/PWCNet/correlation_package_pytorch1_0\n",
        "  !sh build.sh\n",
        "\n",
        "  !pip install PyQt5\n",
        "  #!sudo add-apt-repository -y ppa:jonathonf/ffmpeg-4\n",
        "  #!sudo apt update\n",
        "  #!sudo apt -y install ffmpeg\n",
        "\n",
        "  log_message='Stop cloning DAIN repository'\n",
        "  logger.info(log_message)\n",
        "\n",
        "  IS_DAINLOADED = True\n",
        "\n",
        "  clear_output()"
      ],
      "execution_count": null,
      "outputs": []
    },
    {
      "cell_type": "code",
      "metadata": {
        "id": "WmSHHkFXnKUE"
      },
      "source": [
        "#@title ##**DAINによるフレーム補完の実行** { display-mode: \"form\" }\n",
        "%cd /content\n",
        "if is_DAIN == True:\n",
        "\n",
        "  log_message='Start frame interporation with DAIN'\n",
        "  logger.info(log_message)\n",
        "\n",
        "  %cd /content/Dain-App\n",
        "\n",
        "  ##!python  my_design.py -cli -h\n",
        "  !cp /content/video.mp4 /content/Dain-App/video.mp4\n",
        "\n",
        "  !python  my_design.py -cli --input \"/content/Dain-App/video.mp4\" -o \"/content/Dain-App/example_folder/\" -on \"/content/interpolated_video.mp4\" -m \"model_weights/best.pth\" -fh 2 --interpolations 2 --depth_awarenes 0 --loop 0 -p 0 --alpha 0 --check_scene_change 10 --png_compress 0 --crf 1 --pixel_upscale_downscale_before 1 --pixel_downscale_upscale_after 1 --pixel_upscale_after 1 --mute_ffmpeg 0 --split_size_x -1 --split_size_y -1 --split_pad 150 --half 0 --step_extract 1 --step_interpolate 1 --batch_size 1 --use_benchmark 0 --force_flow 1 --smooth_flow 0 --downscale -1 --fast_mode 0 -cif 1 -cof 1 -cc 1 -csc 1\n",
        "  ##!python  my_design.py -cli --input \"/content/Dain-App/video.mp4\" -o \"/content/Dain-App/example_folder/\" -on \"interpolated.mp4\" -m \"model_weights/best.pth\" -fh 2 --interpolations 2 --depth_awarenes 0 --loop 0 -p 0 --alpha 0 --check_scene_change 10 --png_compress 0 --crf 1 --pixel_upscale_downscale_before 1 --pixel_downscale_upscale_after 1 --pixel_upscale_after 1 --mute_ffmpeg 0 --split_size_x -1 --split_size_y -1 --split_pad 150 --half 0 --step_extract 1 --step_interpolate 1 --batch_size 1 --use_benchmark 0 --force_flow 1 --smooth_flow 0 --downscale -1 --fast_mode 0\n",
        "  !cp /content/Dain-App/example_folder/output_videos/*.mp4 /content/interpolated_video.mp4\n",
        "  !cp /content/interpolated_video.mp4 /content/video.mp4\n",
        "\n",
        "  log_message='Finish frame interporation with DAIN'\n",
        "  logger.info(log_message)\n",
        "\n",
        "  clear_logs(IS_DEBUG)"
      ],
      "execution_count": null,
      "outputs": []
    },
    {
      "cell_type": "markdown",
      "metadata": {
        "id": "x1Yy74PQnWUE"
      },
      "source": [
        "#◢ 最終処理"
      ]
    },
    {
      "cell_type": "code",
      "metadata": {
        "id": "051WE5ys5SNy"
      },
      "source": [
        "%cd /content\n",
        "!ffmpeg -i /content/video.mp4 -i /content/output.aac -c:v copy -c:a aac /content/final_output.mp4\n",
        "#!cp /content/final_output.mp4 /content/video.mp4\n",
        "\n",
        "clear_logs(IS_DEBUG)"
      ],
      "execution_count": null,
      "outputs": []
    },
    {
      "cell_type": "code",
      "metadata": {
        "id": "-8VC7h_9NkQ0"
      },
      "source": [
        "if is_DAIN != True:\n",
        "  log_message='Start making comparison video'\n",
        "  logger.info(log_message)\n",
        "\n",
        "  !ffmpeg -i /content/cropped_video.mp4 \\\n",
        "       -i /content/final_output.mp4 \\\n",
        "       -filter_complex \"[0:v]scale=720:-2[v0];[1:v]scale=720:-2[v1];[v0][v1]hstack=inputs=2\" \\\n",
        "       -vcodec libx264 -crf 23 /content/comparison_output.mp4\n",
        "\n",
        "  log_message='Finish making comparison video'\n",
        "  logger.info(log_message)\n",
        "\n",
        "  clear_logs(IS_DEBUG)"
      ],
      "execution_count": null,
      "outputs": []
    },
    {
      "cell_type": "code",
      "metadata": {
        "id": "9Cj0Kxnzi_ah"
      },
      "source": [
        "#@title ##**ファイルのバックアップ** { display-mode: \"form\" }\n",
        "log_message='Start copying results in Google Drive'\n",
        "logger.info(log_message)\n",
        "\n",
        "if os.path.isdir(projectDir):\n",
        "    shutil.rmtree(projectDir)\n",
        "\n",
        "os.mkdir(projectDir)\n",
        "os.chdir(projectDir)\n",
        "!cp /content/*.mp4 .\n",
        "!cp /content/output.aac .\n",
        "\n",
        "!cp /content/restore.log .\n",
        "\n",
        "log_message='Finish copying results in Google Drive'\n",
        "logger.info(log_message)\n",
        "\n",
        "clear_logs(IS_DEBUG)"
      ],
      "execution_count": null,
      "outputs": []
    },
    {
      "cell_type": "markdown",
      "source": [
        "#◢ 修復結果の確認"
      ],
      "metadata": {
        "id": "DqqKGqj8ubgr"
      }
    },
    {
      "cell_type": "code",
      "source": [
        "#@title ##**修復した動画を表示** { display-mode: \"form\" }\n",
        "\n",
        "what_next = 'play' #@param [\"play\", \"download\"]\n",
        "if what_next == \"play\":\n",
        "#  display(mpy.ipython_display(\"/content/video.mp4\", height=400, autoplay=1, maxduration=600))\n",
        "  display(mpy.ipython_display(\"/content/final_output.mp4\", autoplay=1, maxduration=600, width=640))\n",
        "else:\n",
        "  files.download('/content/video.mp4')\n",
        "\n",
        "print (\"FPS of VIDEO: \",fps_of_video)\n",
        "print (\"Frames of VIDEO: \",frames_of_video)\n",
        "print (\"Width of VIDEO: \",width_of_video)\n",
        "print (\"Height of VIDEO: \",height_of_video)"
      ],
      "metadata": {
        "id": "QHV0OfIpuimI"
      },
      "execution_count": null,
      "outputs": []
    }
  ]
}