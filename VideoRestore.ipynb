{
  "nbformat": 4,
  "nbformat_minor": 0,
  "metadata": {
    "colab": {
      "name": "VideoRestore.ipynb",
      "provenance": [],
      "collapsed_sections": [
        "Vkkr1Sq6t2lM"
      ],
      "mount_file_id": "1u5FKUJBq5ooLQP9c49JbPPVlHurwfIei",
      "authorship_tag": "ABX9TyPVC3YlwKvtsg8b3AXuRFEy",
      "include_colab_link": true
    },
    "kernelspec": {
      "display_name": "Python 3",
      "name": "python3"
    },
    "language_info": {
      "name": "python"
    },
    "accelerator": "GPU"
  },
  "cells": [
    {
      "cell_type": "markdown",
      "metadata": {
        "id": "view-in-github",
        "colab_type": "text"
      },
      "source": [
        "<a href=\"https://colab.research.google.com/github/nak650228/ITEC/blob/20211010/VideoRestore.ipynb\" target=\"_parent\"><img src=\"https://colab.research.google.com/assets/colab-badge.svg\" alt=\"Open In Colab\"/></a>"
      ]
    },
    {
      "cell_type": "markdown",
      "metadata": {
        "id": "Vkkr1Sq6t2lM"
      },
      "source": [
        "#◢ Video Restoration Prework\n",
        "\n",
        "プリワークでは、Youtubeまたはファイル指定により動画ファイルをダウンロードし後後、DeepLearningによる補正を行う前処理を行います。\n",
        "\n",
        "その他にも以下の修正を施します。\n",
        "\n",
        "　　・DeOldifyによるモノクロ画像のカラー化\n",
        "\n",
        "　　・Deep Remasterによるノイズ等の除去\n",
        "\n",
        "　　・アンシャープマスクの適用（OpenCVによる）\n",
        "\n",
        "　　・Microsoft Bringing-Old-Photos-Back-to-LifeまたはGFPGANによる顔画像の修復  \n",
        "\n",
        "　　・音声データの抽出し、動画修正時にそれを結合する\n",
        "\n",
        "　　・オリジナル動画と画像処理後の動画を比較した動画ファイルを作成\n",
        "\n",
        "　　・TecoGANを使った超高解像度化\n",
        "\n",
        "　　・シーンの自動分割機能\n",
        "\n",
        "\n",
        "今後の機能追加\n",
        "\n",
        "　　・超解像度化（4Kもしくは2Kに）\n",
        "\n",
        "　　　　指定された動画を1080pに変換し、最後に4Kなどで出力する機能の追加\n",
        "\n",
        "　　　　RealESRGANまたは Waifuを適用する（アニメなど）\n",
        "\n",
        "　　・DAINを使ったフレーム補完\n",
        "         ToDo モノクロ動画の場合シーン分割がうまく動作しないなど不具合が\n",
        "\n",
        "　　　　　あったため、この処理は最終処理の1段階前で実施し、その後DAINを使って\n",
        "         \n",
        "　　　　　フレーム補完を行う。\n",
        "\n",
        "  \n",
        "各処理ごとの出力結果が、ユーザのGoogle Drive上のMovieフォルダに作られます。"
      ]
    },
    {
      "cell_type": "code",
      "metadata": {
        "colab": {
          "base_uri": "https://localhost:8080/"
        },
        "id": "7odvNQ3P0KAt",
        "cellView": "form",
        "outputId": "caef86fc-eea8-4522-e615-53b00558a12c"
      },
      "source": [
        "#@title 割り当てられたGPUの確認\n",
        "# Check your current GPU\n",
        "# If you are lucky, you get 16GB VRAM. If you are not lucky, you get less. VRAM is important. The more VRAM, the higher the maximum resolution will go.\n",
        "\n",
        "# 16GB: Can handle 720p. 1080p will procude an out-of-memory error. \n",
        "# 8GB: Can handle 480p. 720p will produce an out-of-memory error.\n",
        "\n",
        "!nvidia-smi --query-gpu=gpu_name,driver_version,memory.total --format=csv"
      ],
      "execution_count": 1,
      "outputs": [
        {
          "output_type": "stream",
          "name": "stdout",
          "text": [
            "name, driver_version, memory.total [MiB]\n",
            "Tesla P100-PCIE-16GB, 460.32.03, 16280 MiB\n"
          ]
        }
      ]
    },
    {
      "cell_type": "markdown",
      "metadata": {
        "id": "O1RKQX4WfXdg"
      },
      "source": [
        "#◢ 初期設定"
      ]
    },
    {
      "cell_type": "code",
      "metadata": {
        "id": "VJ1FPSlRyxXg",
        "cellView": "form"
      },
      "source": [
        "#@title ライブラリ等のインストール\n",
        "%cd /content\n",
        "!pip install youtube_dl\n",
        "!pip install ffmpeg\n",
        "!pip install ffmpeg-python\n",
        "#!pip install torchvision==0.5\n",
        "!pip install torchvision\n",
        "#!pip install torch==1.4\n",
        "!pip install torch==1.9.0\n",
        "#!pip install scipy==1.2.0\n",
        "!pip install scipy\n",
        "#!pip install imgaug==0.2.5\n",
        "!pip install imgaug\n",
        "#!pip install tensorflow==1.15.5\n",
        "!pip install tensorflow\n",
        "\n",
        "#シーン分割\n",
        "!pip install scenedetect[opencv,progress_bar]\n",
        "\n",
        "!pip install subprocess\n",
        "\n",
        "import subprocess\n",
        "import tensorflow as tf\n",
        "import youtube_dl\n",
        "import ffmpeg\n",
        "import numpy as np\n",
        "import imageio\n",
        "import cv2\n",
        "import torch\n",
        "import glob\n",
        "import shutil\n",
        "import moviepy.editor as mpy\n",
        "import os\n",
        "from IPython.display import clear_output\n",
        "from google.colab import files\n",
        "torch.backends.cudnn.benchmark=True\n",
        "\n",
        "clear_output()\n"
      ],
      "execution_count": 2,
      "outputs": []
    },
    {
      "cell_type": "code",
      "metadata": {
        "id": "tHeEUq563BHe",
        "cellView": "form"
      },
      "source": [
        "#@title Microsoft Bringing-Old-Photos-Back-to-Lifeのリポジトリーをクローンする\n",
        "%cd /content\n",
        "!git clone https://github.com/microsoft/Bringing-Old-Photos-Back-to-Life.git photo_restoration\n",
        "\n",
        "#@markdown Microsoft Bringing Old-Photos-Back-to-Lifeの学習済みモデルをダウンロード\n",
        "# pull the syncBN repo\n",
        "%cd photo_restoration/Face_Enhancement/models/networks\n",
        "!git clone https://github.com/vacancy/Synchronized-BatchNorm-PyTorch\n",
        "!cp -rf Synchronized-BatchNorm-PyTorch/sync_batchnorm .\n",
        "%cd ../../../\n",
        "\n",
        "%cd Global/detection_models\n",
        "!git clone https://github.com/vacancy/Synchronized-BatchNorm-PyTorch\n",
        "!cp -rf Synchronized-BatchNorm-PyTorch/sync_batchnorm .\n",
        "%cd ../../\n",
        "\n",
        "# download the landmark detection model\n",
        "%cd Face_Detection/\n",
        "!wget http://dlib.net/files/shape_predictor_68_face_landmarks.dat.bz2\n",
        "!bzip2 -d shape_predictor_68_face_landmarks.dat.bz2\n",
        "%cd ../\n",
        "\n",
        "# download the pretrained model\n",
        "%cd Face_Enhancement/\n",
        "!wget https://facevc.blob.core.windows.net/zhanbo/old_photo/pretrain/Face_Enhancement/checkpoints.zip\n",
        "!unzip -o checkpoints.zip\n",
        "%cd ../\n",
        "\n",
        "%cd Global/\n",
        "!wget https://facevc.blob.core.windows.net/zhanbo/old_photo/pretrain/Global/checkpoints.zip\n",
        "!unzip -o checkpoints.zip\n",
        "%cd ../\n",
        "\n",
        "! pip install -r requirements.txt\n",
        "\n",
        "clear_output()"
      ],
      "execution_count": 3,
      "outputs": []
    },
    {
      "cell_type": "code",
      "metadata": {
        "id": "4YQLHR6xZleu",
        "cellView": "form"
      },
      "source": [
        "#@title DeOldifyの初期設定\n",
        "%cd /content\n",
        "\n",
        "!git clone https://github.com/jantic/DeOldify.git DeOldify\n",
        "%cd DeOldify\n",
        "\n",
        "#NOTE:  This must be the first call in order to work properly!\n",
        "from deoldify import device\n",
        "from deoldify.device_id import DeviceId\n",
        "#choices:  CPU, GPU0...GPU7\n",
        "device.set(device=DeviceId.GPU0)\n",
        "\n",
        "import torch\n",
        "\n",
        "if not torch.cuda.is_available():\n",
        "    print('GPU not available.')\n",
        "\n",
        "from os import path\n",
        "\n",
        "!pip install -r colab_requirements.txt\n",
        "\n",
        "import fastai\n",
        "from deoldify.visualize import *\n",
        "from pathlib import Path\n",
        "torch.backends.cudnn.benchmark=True\n",
        "import warnings\n",
        "warnings.filterwarnings(\"ignore\", category=UserWarning, message=\".*?Your .*? set is empty.*?\")\n",
        "\n",
        "!mkdir 'models'\n",
        "!wget https://data.deepai.org/deoldify/ColorizeVideo_gen.pth -O ./models/ColorizeVideo_gen.pth\n",
        "\n",
        "colorizer = get_video_colorizer()\n",
        "\n",
        "clear_output()"
      ],
      "execution_count": 4,
      "outputs": []
    },
    {
      "cell_type": "code",
      "metadata": {
        "id": "ZwH2ifWEYEfJ"
      },
      "source": [
        "#@title ##**GFPGANをGithubからクローン**\n",
        "\n",
        "# Clone GFPGAN and enter the GFPGAN folder\n",
        "%cd /content\n",
        "!rm -rf GFPGAN\n",
        "!git clone https://github.com/TencentARC/GFPGAN.git\n",
        "%cd GFPGAN\n",
        "\n",
        "# Set up the environment\n",
        "# Install basicsr - https://github.com/xinntao/BasicSR\n",
        "# We use BasicSR for both training and inference\n",
        "!pip install basicsr\n",
        "# Install facexlib - https://github.com/xinntao/facexlib\n",
        "# We use face detection and face restoration helper in the facexlib package\n",
        "!pip install facexlib\n",
        "# Install other depencencies\n",
        "!pip install -r requirements.txt\n",
        "!python setup.py develop\n",
        "!pip install realesrgan  # used for enhancing the background (non-face) regions\n",
        "# Download the pre-trained model\n",
        "!wget https://github.com/TencentARC/GFPGAN/releases/download/v0.2.0/GFPGANCleanv1-NoCE-C2.pth -P experiments/pretrained_models\n",
        "clear_output()"
      ],
      "execution_count": 5,
      "outputs": []
    },
    {
      "cell_type": "code",
      "metadata": {
        "id": "DqIbGxA_60Oo"
      },
      "source": [
        "#@title ##**Clone the repository of DeepRemaster** { display-mode: \"form\" }\n",
        "%cd /content\n",
        "!git clone https://github.com/satoshiiizuka/siggraphasia2019_remastering.git DeepRemaster\n",
        "!cp -r /content/video.mp4 /content/DeepRemaster/\n",
        "%cd /content/DeepRemaster\n",
        "\n",
        "!wget --continue -O model/remasternet.pth.tar -- http://iizuka.cs.tsukuba.ac.jp/data/remasternet.pth.tar\n",
        "clear_output()"
      ],
      "execution_count": 6,
      "outputs": []
    },
    {
      "cell_type": "markdown",
      "metadata": {
        "id": "vc25QNoZbviM"
      },
      "source": [
        "#◢ 関数定義"
      ]
    },
    {
      "cell_type": "code",
      "metadata": {
        "id": "I2-LWRT7eo42",
        "cellView": "form"
      },
      "source": [
        "#@title 各種関数の定義\n",
        "#@markdown **decomposit_video(展開先フォルダ, ソースビデオファイル)  　　　　ビデオを静止画フレームに分解する**\n",
        "#@markdown **unsharp_mask(ソースイメージ, 先鋭化の強さ)　　　　　　　　　　静止画のエッジなどを強調する**\n",
        "\n",
        "def decomposit_video(video_folder,video_file):\n",
        "  if os.path.isdir(video_folder):\n",
        "    shutil.rmtree(video_folder)\n",
        "\n",
        "  os.mkdir(video_folder)\n",
        "\n",
        "  os.chdir(video_folder)\n",
        "\n",
        "  decompose_command = 'ffmpeg -i ' + video_file + ' %09d.png'\n",
        "  subprocess.run(decompose_command, shell=True)\n",
        "  #!ffmpeg -i /content/video.mp4 %09d.png\n",
        "\n",
        "  clear_output()\n",
        "\n",
        "def composit_video(video_folder, video_file, frame_rate):\n",
        "  if os.path.isfile(video_file):\n",
        "    os.remove(video_file)\n",
        "\n",
        "  compose_command='ffmpeg -f image2 -framerate ' + str(frame_rate) + ' -i ' + video_folder + '/%09d.png -c:v h264_nvenc -preset slow -qp 18 -pix_fmt yuv420p ' + video_file\n",
        "  subprocess.run(compose_command, shell=True)\n",
        "  clear_output()\n",
        "\n",
        "def UnSharpMask(image_file, k):\n",
        "    kernel = np.array([[-k/9.0, -k/9.0, -k/9.0],\n",
        "                    [-k/9.0, 1 + (8 * k)/9.0, -k/9.0],\n",
        "                    [-k/9.0, -k/9.0, -k/9.0]])\n",
        "    dst = cv2.filter2D(image_file, -1, kernel)\n",
        "    return dst\n",
        "\n",
        "def make_sharp_kernel(k: int):\n",
        "  return np.array([\n",
        "    [-k / 9, -k / 9, -k / 9],\n",
        "    [-k / 9, 1 + 8 * k / 9, k / 9],\n",
        "    [-k / 9, -k / 9, -k / 9]\n",
        "  ], np.float32)\n",
        "\n",
        "def unsharp_mask_movie(video_folder, video_file, k, frame_rate):\n",
        "  decomposit_video(video_folder,video_file)\n",
        "\n",
        "  files = glob.glob(video_folder+'/*.png')\n",
        "  for ifile in files:\n",
        "    print(\"Now processing \",ifile)\n",
        "    imageblur = cv2.imread(ifile, 0)\n",
        "#    imagesharp = UnSharpMask(imageblur,k)\n",
        "\n",
        "    kernel=make_sharp_kernel(1.0)\n",
        "    imagesharp=cv2.filter2D(imageblur,-1,kernel).astype(\"uint8\")\n",
        "    cv2.imwrite(ifile, imagesharp)\n",
        "\n",
        "  composit_video(video_folder, video_file, frame_rate)\n",
        "\n",
        "\n",
        "from PIL import Image\n",
        "import numpy as np\n",
        "import torch\n",
        "import torch.nn.functional as F\n",
        "import torchvision\n",
        "\n",
        "def load_tensor(image_file):\n",
        "    with Image.open(image_file) as img:\n",
        "        array = np.asarray(img, np.float32).transpose([2, 0, 1]) / 255.0\n",
        "        tensor = torch.as_tensor(np.expand_dims(array, axis=0))  # rank 4\n",
        "    return tensor\n",
        "\n",
        "\n",
        "def sharpen_filter(image_file):\n",
        "    kernel = np.array([[-2, -2, -2], [-2, 32, -2], [-2, -2, -2]], np.float32) / 16.0  # convolution filter\n",
        "    with torch.no_grad():\n",
        "        # [out_ch, in_ch, .., ..] : channel wiseに計算\n",
        "        sharpen_k = torch.as_tensor(kernel.reshape(1, 1, 3, 3))\n",
        "\n",
        "        color = load_tensor(image_file)  # color image [1, 3, H, W]\n",
        "        # channel-wise conv(大事)　3x3 convなのでPadding=1を入れる\n",
        "        multiband = [F.conv2d(color[:, i:i + 1,:,:], sharpen_k, padding=1) for i in range(3)]\n",
        "        sharpened_image = torch.cat(multiband, dim=1)\n",
        "        torchvision.utils.save_image(sharpened_image, image_file)\n",
        "\n",
        "\n",
        "def sharpen_movie(video_folder, video_file, k, frame_rate):\n",
        "  decomposit_video(video_folder,video_file)\n",
        "\n",
        "  files = glob.glob(video_folder+'/*.png')\n",
        "  for ifile in files:\n",
        "    print(\"Now processing \",ifile)\n",
        "    sharpen_filter(ifile)\n",
        "\n",
        "  composit_video(video_folder, video_file, frame_rate)\n",
        "\n",
        "\n",
        "def colorize_video(source_video, output_video, render_factor):\n",
        "  print(source_video)\n",
        "  print(output_video)\n",
        "\n",
        "  if os.path.isfile(\"/content/DeOldify/video\"):\n",
        "    shutil.rmtree(\"/content/DeOldify/video\")\n",
        "\n",
        "  !mkdir -p '/content/DeOldify/video/source'\n",
        "\n",
        "  command1=\"cp -r \" + source_video + \" /content/DeOldify/video/source/video.mp4\"\n",
        "  subprocess.run(command1,shell=True)\n",
        "  print(command1)\n",
        "#  !cp -r str(source_video) /content/DeOldify/video/source/video.mp4\n",
        "  video_path = colorizer.colorize_from_file_name('/content/DeOldify/video/source/video.mp4', render_factor)\n",
        " \n",
        "  command2=\"cp -r /content/DeOldify/video/result/video.mp4 \" + output_video\n",
        "  subprocess.run(command2,shell=True)\n",
        "#  !cp -r /content/DeOldify/video/result/video.mp4 str(output_video)\n",
        "  print(command2)\n",
        "  if os.path.isfile(\"/content/DeOldify/video/result/video.mp4\"):\n",
        "    os.remove(\"/content/DeOldify/video/result/video.mp4\")"
      ],
      "execution_count": 7,
      "outputs": []
    },
    {
      "cell_type": "markdown",
      "metadata": {
        "id": "pL23bEM24R4l"
      },
      "source": [
        "#◢ 画像のダウンロード"
      ]
    },
    {
      "cell_type": "code",
      "metadata": {
        "colab": {
          "base_uri": "https://localhost:8080/"
        },
        "id": "-pMiFqHO0hpA",
        "cellView": "form",
        "outputId": "e9e72cf3-037a-4f6a-8d94-7b132ca2f727"
      },
      "source": [
        "#@title **Googleドライブの追加**\n",
        "# Connect Google Drive\n",
        "from google.colab import drive\n",
        "drive.mount('/content/drive', force_remount=True)\n",
        "print('Google Drive connected.')"
      ],
      "execution_count": 8,
      "outputs": [
        {
          "output_type": "stream",
          "name": "stdout",
          "text": [
            "Mounted at /content/drive\n",
            "Google Drive connected.\n"
          ]
        }
      ]
    },
    {
      "cell_type": "code",
      "metadata": {
        "colab": {
          "base_uri": "https://localhost:8080/"
        },
        "id": "eaANNxvjMLUZ",
        "outputId": "4de613c4-9029-4bd1-cba0-b3e4b3b15a92"
      },
      "source": [
        "#@title ##**ビデオのダウンロード** { display-mode: \"form\" }\n",
        "#@markdown *ビデオへのリンク（YouTubeやTwitterなど）を入力するか、source_urlフィールドを空白にしてください（空白にした場合、コンピューターからビデオをアップロードするよう求められます）。*\n",
        "#@markdown *プロジェクト名は任意でOKです。一応最後にGoogle Driveにプロジェクト名で指定したディレクトリが作られて、途中経過も含めて全ての動画ファイルがコピーされます*\n",
        "\n",
        "import youtube_dl\n",
        "import cv2\n",
        "from IPython.display import clear_output\n",
        "\n",
        "%cd /content\n",
        "\n",
        "projectname = 'TokyoStory_Setsuko' #@param {type:\"string\"}\n",
        "\n",
        "source_url = 'https://www.youtube.com/watch?v=1fQL-A68W3k' #@param {type:\"string\"}\n",
        "\n",
        "%cd /content\n",
        "! rm -f /content/*.mp4\n",
        "\n",
        "if source_url == '':\n",
        "  uploaded = files.upload()\n",
        "  for fn in uploaded.keys():\n",
        "    print('User uploaded file \"{name}\" with length {length} bytes'.format(\n",
        "        name=fn, length=len(uploaded[fn])))\n",
        "  os.rename(fn, fn.replace(\" \", \"\"))\n",
        "  fn = fn.replace(\" \", \"\")\n",
        "  file_name = \"downloaded_video.\" + fn.split(\".\")[-1]\n",
        "  !mv -f $fn $file_name\n",
        "\n",
        "else:\n",
        "  try:\n",
        "    ydl_opts = {\n",
        "        'format': 'bestvideo[ext=mp4]+bestaudio[ext=m4a]/mp4',\n",
        "        'outtmpl': 'downloaded_video.mp4',\n",
        "        }\n",
        "    with youtube_dl.YoutubeDL(ydl_opts) as ydl:\n",
        "      ydl.download([source_url])\n",
        "    file_name = 'downloaded_video.mp4'\n",
        "  \n",
        "  except BaseException:\n",
        "    !wget $source_url\n",
        "    fn = source_url.split('/')[-1]\n",
        "    os.rename(fn, fn.replace(\" \", \"\"))\n",
        "    fn = fn.replace(\" \", \"\")\n",
        "    file_name = \"downloaded_video.\" + fn.split(\".\")[-1]\n",
        "    !mv -f $fn $file_name\n",
        "\n",
        "!cp -r /content/downloaded_video.mp4 /content/video.mp4\n",
        "\n",
        "clear_output()\n",
        "\n",
        "fps_of_video = int(cv2.VideoCapture(file_name).get(cv2.CAP_PROP_FPS))\n",
        "frames_of_video = int(cv2.VideoCapture(file_name).get(cv2.CAP_PROP_FRAME_COUNT))\n",
        "width_of_video = int(cv2.VideoCapture(file_name).get(cv2.CAP_PROP_FRAME_WIDTH))\n",
        "height_of_video = int(cv2.VideoCapture(file_name).get(cv2.CAP_PROP_FRAME_HEIGHT))\n",
        "print (\"FPS of VIDEO: \",fps_of_video)\n",
        "print (\"Frames of VIDEO: \",frames_of_video)\n",
        "print (\"Width of VIDEO: \",width_of_video)\n",
        "print (\"Height of VIDEO: \",height_of_video)\n",
        "\n"
      ],
      "execution_count": 9,
      "outputs": [
        {
          "output_type": "stream",
          "name": "stdout",
          "text": [
            "FPS of VIDEO:  30\n",
            "Frames of VIDEO:  10379\n",
            "Width of VIDEO:  960\n",
            "Height of VIDEO:  720\n"
          ]
        }
      ]
    },
    {
      "cell_type": "code",
      "metadata": {
        "id": "04nmb31hVZ44"
      },
      "source": [
        "#@title ##**ダウンロードした動画を表示** { display-mode: \"form\" }\n",
        "#@markdown *ビデオは横640ドットに拡大/縮小されて表示されます*\n",
        "import moviepy.editor as mpy\n",
        "\n",
        "what_next = 'play' #@param [\"play\", \"download\"]\n",
        "if what_next == \"play\":\n",
        "  display(mpy.ipython_display(\"/content/downloaded_video.mp4\", autoplay=1, maxduration=6000,width=640))\n",
        "else:\n",
        "  files.download('/content/downloaded_video.mp4')"
      ],
      "execution_count": 10,
      "outputs": []
    },
    {
      "cell_type": "code",
      "metadata": {
        "id": "5ObdmOuzz13m"
      },
      "source": [
        "#@title ##**動画の調整** { display-mode: \"form\" }\n",
        "\n",
        "#@markdown *1分以上の動画をダウンロードすることはお勧めできません。また、タイトルに「スペース」や「ドット」が含まれている動画はアップロードしないでください。*\n",
        "#@markdown *実行中にエラーが発生した場合は、このブロックを再度実行します。*\n",
        "#@markdown *動画の長さを変更することができます。*\n",
        "\n",
        "#@markdown **動画の長さを変更する場合は、その開始時間と終了時間を指定して下さい。**\n",
        "target_start = '00:01:10' #@param {type:\"string\"}\n",
        "target_end = '00:01:40' #@param {type:\"string\"}\n",
        "\n",
        "\n",
        "if os.path.isfile(\"/content/cropped_video.mp4\"):\n",
        "    os.remove(\"/content/cropped_video.mp4\")\n",
        "\n",
        "!ffmpeg -i /content/downloaded_video.mp4  -ss $target_start -to $target_end /content/cropped_video.mp4\n",
        "\n",
        "if os.path.isfile(\"/content/video.mp4\"):\n",
        "    os.remove(\"/content/video.mp4\")\n",
        "\n",
        "!cp /content/cropped_video.mp4 /content/video.mp4\n",
        "\n",
        "#@markdown **モノクロ動画にAIで色を付ける場合は有効にしてください。**\n",
        "is_deoldify = True #@param {type:\"boolean\"}\n",
        "\n",
        "\n",
        "#@markdown **Deoldifyのレンダリングファクターを指定します。(お勧めは10～25）**\n",
        "render_factor = 13  #@param {type: \"slider\", min: 5, max: 44}\n",
        "\n",
        "#@markdown **アンシャープマスクを適用する場合は有効にして下さい。**\n",
        "is_unsharp = True #@param {type:\"boolean\"}\n",
        "unsharp_ratio = '1.0' #@param {type:\"string\"}\n",
        "\n",
        "#@markdown **DeepRemasterを有効にすると、低画質の動画からノイズなどを除去できます。**\n",
        "is_DeepRemaster = True #@param {type:\"boolean\"}\n",
        "\n",
        "#@markdown **GANを使って、動画の顔部分を書き換えます。大体はがっかりしますが、時々きれいに修正されることがあります**\n",
        "\n",
        "#@markdown **Microsoft Bringing-Old-Photos-Back-to-LifeまたはGFPGANを選択して、いずれかの手法で人物の精彩化を試みます。**\n",
        "which_FaceGAN = 'Microsoft' #@param [\"None\", \"GFPGAN\", \"Microsoft\"] {allow-input: true}\n",
        "\n",
        "clear_output()"
      ],
      "execution_count": 15,
      "outputs": []
    },
    {
      "cell_type": "code",
      "metadata": {
        "id": "IqUFrU1vMiXw"
      },
      "source": [
        "#@title ##**サイズ調整後の動画を表示（修復対象）** { display-mode: \"form\" }\n",
        "\n",
        "what_next = 'play' #@param [\"play\", \"download\"]\n",
        "if what_next == \"play\":\n",
        "#  display(mpy.ipython_display(\"/content/video.mp4\", height=400, autoplay=1, maxduration=600))\n",
        "  display(mpy.ipython_display(\"/content/video.mp4\", autoplay=1, maxduration=600, width=640))\n",
        "else:\n",
        "  files.download('/content/video.mp4')"
      ],
      "execution_count": null,
      "outputs": []
    },
    {
      "cell_type": "markdown",
      "metadata": {
        "id": "f8e8z_fE2yLK"
      },
      "source": [
        "# ◢ 音声情報を抽出する"
      ]
    },
    {
      "cell_type": "code",
      "metadata": {
        "id": "jCy-I-yN29Bw",
        "colab": {
          "base_uri": "https://localhost:8080/"
        },
        "outputId": "fce9e5d6-2b02-4691-e2d5-ca4ae03402b5"
      },
      "source": [
        "!ffmpeg -i /content/video.mp4 -vn -y -acodec copy output.aac"
      ],
      "execution_count": 17,
      "outputs": [
        {
          "output_type": "stream",
          "name": "stdout",
          "text": [
            "ffmpeg version 3.4.8-0ubuntu0.2 Copyright (c) 2000-2020 the FFmpeg developers\n",
            "  built with gcc 7 (Ubuntu 7.5.0-3ubuntu1~18.04)\n",
            "  configuration: --prefix=/usr --extra-version=0ubuntu0.2 --toolchain=hardened --libdir=/usr/lib/x86_64-linux-gnu --incdir=/usr/include/x86_64-linux-gnu --enable-gpl --disable-stripping --enable-avresample --enable-avisynth --enable-gnutls --enable-ladspa --enable-libass --enable-libbluray --enable-libbs2b --enable-libcaca --enable-libcdio --enable-libflite --enable-libfontconfig --enable-libfreetype --enable-libfribidi --enable-libgme --enable-libgsm --enable-libmp3lame --enable-libmysofa --enable-libopenjpeg --enable-libopenmpt --enable-libopus --enable-libpulse --enable-librubberband --enable-librsvg --enable-libshine --enable-libsnappy --enable-libsoxr --enable-libspeex --enable-libssh --enable-libtheora --enable-libtwolame --enable-libvorbis --enable-libvpx --enable-libwavpack --enable-libwebp --enable-libx265 --enable-libxml2 --enable-libxvid --enable-libzmq --enable-libzvbi --enable-omx --enable-openal --enable-opengl --enable-sdl2 --enable-libdc1394 --enable-libdrm --enable-libiec61883 --enable-chromaprint --enable-frei0r --enable-libopencv --enable-libx264 --enable-shared\n",
            "  libavutil      55. 78.100 / 55. 78.100\n",
            "  libavcodec     57.107.100 / 57.107.100\n",
            "  libavformat    57. 83.100 / 57. 83.100\n",
            "  libavdevice    57. 10.100 / 57. 10.100\n",
            "  libavfilter     6.107.100 /  6.107.100\n",
            "  libavresample   3.  7.  0 /  3.  7.  0\n",
            "  libswscale      4.  8.100 /  4.  8.100\n",
            "  libswresample   2.  9.100 /  2.  9.100\n",
            "  libpostproc    54.  7.100 / 54.  7.100\n",
            "Input #0, mov,mp4,m4a,3gp,3g2,mj2, from '/content/video.mp4':\n",
            "  Metadata:\n",
            "    major_brand     : isom\n",
            "    minor_version   : 512\n",
            "    compatible_brands: isomiso2avc1mp41\n",
            "    encoder         : Lavf57.83.100\n",
            "  Duration: 00:00:30.02, start: 0.000000, bitrate: 1081 kb/s\n",
            "    Stream #0:0(und): Video: h264 (High) (avc1 / 0x31637661), yuv420p, 960x720 [SAR 1:1 DAR 4:3], 945 kb/s, 30 fps, 30 tbr, 15360 tbn, 60 tbc (default)\n",
            "    Metadata:\n",
            "      handler_name    : VideoHandler\n",
            "    Stream #0:1(und): Audio: aac (LC) (mp4a / 0x6134706D), 44100 Hz, stereo, fltp, 127 kb/s (default)\n",
            "    Metadata:\n",
            "      handler_name    : SoundHandler\n",
            "Output #0, adts, to 'output.aac':\n",
            "  Metadata:\n",
            "    major_brand     : isom\n",
            "    minor_version   : 512\n",
            "    compatible_brands: isomiso2avc1mp41\n",
            "    encoder         : Lavf57.83.100\n",
            "    Stream #0:0(und): Audio: aac (LC) (mp4a / 0x6134706D), 44100 Hz, stereo, fltp, 127 kb/s (default)\n",
            "    Metadata:\n",
            "      handler_name    : SoundHandler\n",
            "Stream mapping:\n",
            "  Stream #0:1 -> #0:0 (copy)\n",
            "Press [q] to stop, [?] for help\n",
            "size=     477kB time=00:00:29.97 bitrate= 130.5kbits/s speed=7.26e+03x    \n",
            "video:0kB audio:469kB subtitle:0kB other streams:0kB global headers:0kB muxing overhead: 1.886435%\n"
          ]
        }
      ]
    },
    {
      "cell_type": "markdown",
      "metadata": {
        "id": "ZMvr2lJHhg1L"
      },
      "source": [
        "# ◢ 動画をアップスケールする"
      ]
    },
    {
      "cell_type": "code",
      "metadata": {
        "id": "Y8jS-DPT3iq1",
        "colab": {
          "base_uri": "https://localhost:8080/"
        },
        "outputId": "ff70650c-699d-4618-91f6-6a0bcdd630f6"
      },
      "source": [
        "#@title ##**TecoGANによる動画のアップスケール（x2）** { display-mode: \"form\" }\n",
        "%cd /content\n",
        "!git clone https://github.com/JoeyBallentine/Video-Inference.git\n",
        "!git clone https://github.com/skycrapers/TecoGAN-PyTorch.git\n",
        "\n",
        "%cd /content/TecoGAN-PyTorch/\n",
        "!bash /content/TecoGAN-PyTorch/scripts/download/download_models.sh BD TecoGAN\n",
        "!bash /content/TecoGAN-PyTorch/scripts/download/download_models.sh BI TecoGAN\n",
        "!cp /content/TecoGAN-PyTorch/pretrained_models/* /content/Video-Inference/models/\n",
        "\n",
        "%cd /content/Video-Inference/\n",
        "!python run.py ./models/TecoGAN_BD_iter500000.pth --input \"/content/video.mp4\" --output \"./output/video.mp4\"\n",
        "command=\"ffmpeg -i ./output/video.mp4 -vf scale=\" + str(int(width_of_video) * 2) + \":-1 /content/upscaled_video.mp4\"\n",
        "subprocess.run(command,shell=True)\n",
        "!cp /content/upscaled_video.mp4 /content/video.mp4"
      ],
      "execution_count": 18,
      "outputs": [
        {
          "output_type": "stream",
          "name": "stdout",
          "text": [
            "/content\n",
            "fatal: destination path 'Video-Inference' already exists and is not an empty directory.\n",
            "fatal: destination path 'TecoGAN-PyTorch' already exists and is not an empty directory.\n",
            "/content/TecoGAN-PyTorch\n",
            "/content/Video-Inference\n",
            "tcmalloc: large alloc 1233903616 bytes == 0x5606d584a000 @  0x7f377fcd5615 0x56065e32e4cc 0x56065e30618c 0x56065e446888 0x56065e3316f2 0x56065e40fc6e 0x56065e331349 0x56065e422e1d 0x56065e3a4e99 0x56065e39f9ee 0x56065e332bda 0x56065e3a0c0d 0x56065e39f9ee 0x56065e332bda 0x56065e3a1737 0x56065e332afa 0x56065e3a0c0d 0x56065e332afa 0x56065e3a0915 0x56065e39f9ee 0x56065e39f6f3 0x56065e4694c2 0x56065e46983d 0x56065e4696e6 0x56065e441163 0x56065e440e0c 0x7f377eabebf7 0x56065e440cea\n",
            "tcmalloc: large alloc 1542381568 bytes == 0x56071f108000 @  0x7f377fcd5615 0x56065e32e4cc 0x56065e30618c 0x56065e446888 0x56065e3316f2 0x56065e40fc6e 0x56065e331349 0x56065e422e1d 0x56065e3a4e99 0x56065e39f9ee 0x56065e332bda 0x56065e3a0c0d 0x56065e39f9ee 0x56065e332bda 0x56065e3a1737 0x56065e332afa 0x56065e3a0c0d 0x56065e332afa 0x56065e3a0915 0x56065e39f9ee 0x56065e39f6f3 0x56065e4694c2 0x56065e46983d 0x56065e4696e6 0x56065e441163 0x56065e440e0c 0x7f377eabebf7 0x56065e440cea\n",
            "tcmalloc: large alloc 1927979008 bytes == 0x5607cb2ac000 @  0x7f377fcd5615 0x56065e32e4cc 0x56065e30618c 0x56065e446888 0x56065e3316f2 0x56065e40fc6e 0x56065e331349 0x56065e422e1d 0x56065e3a4e99 0x56065e39f9ee 0x56065e332bda 0x56065e3a0c0d 0x56065e39f9ee 0x56065e332bda 0x56065e3a1737 0x56065e332afa 0x56065e3a0c0d 0x56065e332afa 0x56065e3a0915 0x56065e39f9ee 0x56065e39f6f3 0x56065e4694c2 0x56065e46983d 0x56065e4696e6 0x56065e441163 0x56065e440e0c 0x7f377eabebf7 0x56065e440cea\n",
            "N/A% (0 of 900) |                         | Elapsed Time: 0:00:00 ETA:  --:--:--/usr/local/lib/python3.7/dist-packages/torch/nn/functional.py:718: UserWarning: Named tensors and all their associated APIs are an experimental feature and subject to change. Please do not use them for anything important until they are released as stable. (Triggered internally at  /pytorch/c10/core/TensorImpl.h:1156.)\n",
            "  return torch.max_pool2d(input, kernel_size, stride, padding, dilation, ceil_mode)\n",
            "100% (900 of 900) |#######################| Elapsed Time: 0:12:51 Time:  0:12:51\n"
          ]
        }
      ]
    },
    {
      "cell_type": "markdown",
      "metadata": {
        "id": "f-HjKY3M_NAt"
      },
      "source": [
        "# ◢ コントラストを調整したり、動画にアンシャープマスクをかける"
      ]
    },
    {
      "cell_type": "code",
      "metadata": {
        "id": "YDpU1e0WCbvM",
        "cellView": "form"
      },
      "source": [
        "#@title  ##**動画にアンシャープマスクをかける**\n",
        "if is_unsharp == True:\n",
        "  sharpen_movie(\"/content/datas\", \"/content/video.mp4\", unsharp_ratio, fps_of_video)"
      ],
      "execution_count": 19,
      "outputs": []
    },
    {
      "cell_type": "markdown",
      "metadata": {
        "id": "-f1MDliBGGGL"
      },
      "source": [
        "# #◢ モノクロ動画に色を付ける"
      ]
    },
    {
      "cell_type": "code",
      "metadata": {
        "id": "37yAH_olbROZ",
        "colab": {
          "base_uri": "https://localhost:8080/",
          "height": 71
        },
        "cellView": "form",
        "outputId": "c915def0-2998-41f0-baec-f7f189250c9e"
      },
      "source": [
        "#@title Deoldifyによるモノクロ動画のカラー化\n",
        "if is_deoldify == True:\n",
        "\n",
        "  %cd /content/DeOldify\n",
        "\n",
        "  if os.path.isfile(\"/content/DeOldify/video\"):\n",
        "    shutil.rmtree(\"/content/DeOldify/video\")\n",
        "\n",
        "  !mkdir -p '/content/DeOldify/video/source'\n",
        "\n",
        "  !cp -r /content/video.mp4 /content/DeOldify/video/source/video.mp4\n",
        "  video_path = colorizer.colorize_from_file_name('/content/DeOldify/video/source/video.mp4', render_factor)\n",
        "  !cp -r /content/DeOldify/video/result/video.mp4 /content/colorized_video.mp4\n",
        "  !cp -r /content/colorized_video.mp4 /content/video.mp4\n",
        "  if os.path.isfile(\"/content/DeOldify/video/result/video.mp4\"):\n",
        "    os.remove(\"/content/DeOldify/video/result/video.mp4\")\n",
        "\n",
        "\n",
        "#colorize_video('/content/video.mp4', '/content/colorized_video.mp4', render_factor)\n",
        "#!cp /content/colorized_video /content/video.mp4"
      ],
      "execution_count": 20,
      "outputs": [
        {
          "output_type": "stream",
          "name": "stdout",
          "text": [
            "/content/DeOldify\n"
          ]
        },
        {
          "output_type": "display_data",
          "data": {
            "text/html": [
              "\n",
              "    <div>\n",
              "        <style>\n",
              "            /* Turns off some styling */\n",
              "            progress {\n",
              "                /* gets rid of default border in Firefox and Opera. */\n",
              "                border: none;\n",
              "                /* Needs to be in here for Safari polyfill so background images work as expected. */\n",
              "                background-size: auto;\n",
              "            }\n",
              "            .progress-bar-interrupted, .progress-bar-interrupted::-webkit-progress-bar {\n",
              "                background: #F44336;\n",
              "            }\n",
              "        </style>\n",
              "      <progress value='562' class='' max='562' style='width:300px; height:20px; vertical-align: middle;'></progress>\n",
              "      100.00% [562/562 02:25<00:00]\n",
              "    </div>\n",
              "    "
            ],
            "text/plain": [
              "<IPython.core.display.HTML object>"
            ]
          },
          "metadata": {}
        },
        {
          "output_type": "stream",
          "name": "stdout",
          "text": [
            "Video created here: video/result/video.mp4\n"
          ]
        }
      ]
    },
    {
      "cell_type": "markdown",
      "metadata": {
        "id": "FakQk0wBE5GS"
      },
      "source": [
        "# ◢ ノイズ除去(Deep Remaster)"
      ]
    },
    {
      "cell_type": "code",
      "metadata": {
        "id": "xzu_lk9DKbTO",
        "colab": {
          "base_uri": "https://localhost:8080/"
        },
        "outputId": "6256f5a1-01ff-4758-c59d-8953f7a33a6e"
      },
      "source": [
        "#@title ##**Remove frame noise** { display-mode: \"form\" }\n",
        "%cd /content/DeepRemaster\n",
        "command = \"python remaster.py --input /content/video.mp4 --disable_colorization --gpu --mindim \" + str(int(height_of_video) * 2)\n",
        "\n",
        "subprocess.run(command,shell=True)\n",
        "#!python remaster.py --input /content/video.mp4 --disable_colorization --gpu --mindim 1080\n",
        "#!python remaster.py --input /content/video.mp4 --disable_colorization --gpu\n",
        "#clear_output()"
      ],
      "execution_count": 21,
      "outputs": [
        {
          "output_type": "stream",
          "name": "stdout",
          "text": [
            "/content/DeepRemaster\n"
          ]
        },
        {
          "output_type": "execute_result",
          "data": {
            "text/plain": [
              "CompletedProcess(args='python remaster.py --input /content/video.mp4 --disable_colorization --gpu --mindim 1440', returncode=0)"
            ]
          },
          "metadata": {},
          "execution_count": 21
        }
      ]
    },
    {
      "cell_type": "markdown",
      "metadata": {
        "id": "3tKlt3_S9DgG"
      },
      "source": [
        "#◢ Microsoft Bringing-Old-Photos-Back-to-Lifeによる画像修正"
      ]
    },
    {
      "cell_type": "code",
      "metadata": {
        "id": "qTmlNEoU-END",
        "cellView": "form"
      },
      "source": [
        "#@title 動画ファイルを画像ファイルに分解\n",
        "# ffmpeg extract - Generating individual frame PNGs from the source file.\n",
        "\n",
        "if which_FaceGAN == \"Microsoft\":\n",
        "\n",
        "  %cd /content/photo_restoration\n",
        "\n",
        "  FRAME_INPUT_DIR = \"/content/photo_restoration/input_frames\"\n",
        "  FRAME_OUTPUT_DIR = \"/content/photo_restoration/output_frames\"\n",
        "  INPUT_FILEPATH = \"/content/video.mp4\"\n",
        "\n",
        "  if os.path.isfile(FRAME_INPUT_DIR):\n",
        "    shutil.retree(FRAME_INPUT_DIR)\n",
        "\n",
        "  %shell mkdir -p '{FRAME_INPUT_DIR}'\n",
        "\n",
        "  %shell ffmpeg -i '{INPUT_FILEPATH}' '{FRAME_INPUT_DIR}/%05d.png'\n",
        "\n",
        "  if os.path.isfile(FRAME_OUTPUT_DIR):\n",
        "    shutil.retree(FRAME_OUTPUT_DIR)\n",
        "  \n",
        "  %shell mkdir -p '{FRAME_OUTPUT_DIR}'\n",
        "\n",
        "\n",
        "  png_generated_count_command_result = %shell ls '{FRAME_INPUT_DIR}' | wc -l\n",
        "  from IPython.display import clear_output\n",
        "\n",
        "  pngs_generated_count = int(png_generated_count_command_result.output.strip())\n",
        "\n",
        "\n",
        "  #print(f\"Input FPS: {fps}\")\n",
        "  print(f\"{pngs_generated_count} frame PNGs generated.\")\n",
        "\n",
        "  # Checking if PNG do have alpha\n",
        "  import subprocess as sp\n",
        "  %cd {FRAME_INPUT_DIR}\n",
        "  channels = sp.getoutput('identify -format %[channels] 00001.png')\n",
        "  print (f\"{channels} detected\")\n",
        "\n",
        "  # Removing alpha if detected\n",
        "  if \"a\" in channels:\n",
        "    print(\"Alpha detected and will be removed.\")\n",
        "    print(sp.getoutput('find . -name \"*.png\" -exec convert \"{}\" -alpha off PNG24:\"{}\" \\;'))\n",
        "\n",
        "  %cd /content/photo_restoration\n",
        "  input_folder = FRAME_INPUT_DIR\n",
        "  output_folder = FRAME_OUTPUT_DIR\n",
        "\n",
        "  !rm -rf /content/photo_restoration/output_frames/*\n",
        "\n",
        "  print (input_folder)\n",
        "  print (output_folder)\n",
        "\n",
        "  import os\n",
        "  basepath = os.getcwd()\n",
        "  #input_path = os.path.join(basepath, input_folder)\n",
        "  #output_path = os.path.join(basepath, output_folder)\n",
        "  #os.mkdir(output_path)\n",
        "  #!rm -rf output_folder\n",
        "  #os.mkdir(output_folder)\n",
        "\n",
        "  !python run.py --input_folder /content/photo_restoration/input_frames --output_folder /content/photo_restoration/output_frames --GPU 0\n",
        "\n",
        "#create video\n",
        "\n",
        "  %cd /content/photo_restoration/output_frames/final_output\n",
        "  !ffmpeg  -pattern_type glob -i '*.png' -c:v h264_nvenc -pix_fmt yuv420p /content/beautified_video.mp4\n",
        "  !rm -f /content/video.mp4\n",
        "  !cp /content/beautified_video.mp4 /content/video.mp4\n",
        "  clear_output()"
      ],
      "execution_count": 22,
      "outputs": []
    },
    {
      "cell_type": "markdown",
      "metadata": {
        "id": "smSeEdA4Mv5X"
      },
      "source": [
        "#◢ GFPGANによる顔画像の修復"
      ]
    },
    {
      "cell_type": "code",
      "metadata": {
        "id": "OzlCT4FRGrGt"
      },
      "source": [
        "#@title ##**GFPGANを使って動画ファイル中の顔画像を修復** { display-mode: \"form\" }\n",
        "\n",
        "if which_FaceGAN == \"GFPGAN\":\n",
        "\n",
        "  upload_folder = \"/content/GFPGAN/inputs/upload\"\n",
        "  if os.path.isdir(upload_folder):\n",
        "    shutil.rmtree(upload_folder)\n",
        "\n",
        "  os.mkdir(upload_folder)\n",
        "\n",
        "  %cd /content/GFPGAN/inputs/upload\n",
        "\n",
        "  !ffmpeg -i /content/video.mp4 %09d.png\n",
        "\n",
        "# Now we use the GFPGAN to restore the above low-quality images\n",
        "# We use [Real-ESRGAN](https://github.com/xinntao/Real-ESRGAN) for enhancing the background (non-face) regions\n",
        "\n",
        "  %cd /content/GFPGAN\n",
        "  !rm -rf results\n",
        "  !python inference_gfpgan.py --upscale 2 --test_path inputs/upload --save_root results --model_path experiments/pretrained_models/GFPGANCleanv1-NoCE-C2.pth --bg_upsampler realesrgan\n",
        "\n",
        "  if os.path.isfile(\"/content/restored_video.mp4\") :\n",
        "    !rm -f /content/restored_video.mp4\n",
        "\n",
        "  !ffmpeg -f image2 -framerate 30 -i /content/GFPGAN/results/restored_imgs/%09d.png -c:v h264_nvenc -preset slow -qp 18 -pix_fmt yuv420p /content/beautified_video.mp4\n",
        "  !rm -f /content/video.mp4\n",
        "  !cp /content/beautified_video.mp4 /content/video.mp4\n",
        "\n",
        "  clear_output()"
      ],
      "execution_count": 23,
      "outputs": []
    },
    {
      "cell_type": "markdown",
      "metadata": {
        "id": "hZt66u2BwrCg"
      },
      "source": [
        "# ◢ 動画をシーンごとに分割する"
      ]
    },
    {
      "cell_type": "code",
      "metadata": {
        "id": "TXnweFAqiLuF",
        "colab": {
          "base_uri": "https://localhost:8080/"
        },
        "outputId": "6c9c6efe-148e-4d6b-b6f9-3ca51ec53739"
      },
      "source": [
        "#@title ##**動画をシーンごとに分割する** { display-mode: \"form\" }\n",
        "\n",
        "splitted_folder=\"/content/movies\"\n",
        "source_video=\"/content/video.mp4\"\n",
        "if os.path.isdir(splitted_folder):\n",
        "    shutil.rmtree(splitted_folder)\n",
        "os.mkdir(splitted_folder)\n",
        "\n",
        "#シーンごとに動画を分割する\n",
        "split_command=\"scenedetect -i \" + source_video + \" -o \" + splitted_folder + \" detect-content -t 27 list-scenes save-images split-video\"\n",
        "subprocess.run(split_command,shell=True)\n"
      ],
      "execution_count": 24,
      "outputs": [
        {
          "output_type": "execute_result",
          "data": {
            "text/plain": [
              "CompletedProcess(args='scenedetect -i /content/video.mp4 -o /content/movies detect-content -t 27 list-scenes save-images split-video', returncode=0)"
            ]
          },
          "metadata": {},
          "execution_count": 24
        }
      ]
    },
    {
      "cell_type": "markdown",
      "metadata": {
        "id": "x1Yy74PQnWUE"
      },
      "source": [
        "#◢ 最終処理"
      ]
    },
    {
      "cell_type": "code",
      "metadata": {
        "id": "3UOK1XnYVwNe",
        "colab": {
          "base_uri": "https://localhost:8080/"
        },
        "outputId": "84dc5310-1876-4aab-f874-916724b22fe1"
      },
      "source": [
        "%cd /content\n",
        "\n",
        "command=\"ffmpeg -i /content/video.mp4 -r \" + str(fps_of_video) + \" /content/adjusted_video.mp4\"\n",
        "subprocess.run(command,shell=True)"
      ],
      "execution_count": 25,
      "outputs": [
        {
          "output_type": "stream",
          "name": "stdout",
          "text": [
            "/content\n"
          ]
        },
        {
          "output_type": "execute_result",
          "data": {
            "text/plain": [
              "CompletedProcess(args='ffmpeg -i /content/video.mp4 -r 30 /content/adjusted_video.mp4', returncode=0)"
            ]
          },
          "metadata": {},
          "execution_count": 25
        }
      ]
    },
    {
      "cell_type": "code",
      "metadata": {
        "id": "051WE5ys5SNy",
        "colab": {
          "base_uri": "https://localhost:8080/"
        },
        "outputId": "11529098-e045-4197-bb6c-2f1768fdd6dc"
      },
      "source": [
        "%cd /content\n",
        "!ffmpeg -i /content/adjusted_video.mp4 -i /content/output.aac -c:v copy -c:a aac /content/final_output.mp4"
      ],
      "execution_count": 26,
      "outputs": [
        {
          "output_type": "stream",
          "name": "stdout",
          "text": [
            "/content\n",
            "ffmpeg version 3.4.8-0ubuntu0.2 Copyright (c) 2000-2020 the FFmpeg developers\n",
            "  built with gcc 7 (Ubuntu 7.5.0-3ubuntu1~18.04)\n",
            "  configuration: --prefix=/usr --extra-version=0ubuntu0.2 --toolchain=hardened --libdir=/usr/lib/x86_64-linux-gnu --incdir=/usr/include/x86_64-linux-gnu --enable-gpl --disable-stripping --enable-avresample --enable-avisynth --enable-gnutls --enable-ladspa --enable-libass --enable-libbluray --enable-libbs2b --enable-libcaca --enable-libcdio --enable-libflite --enable-libfontconfig --enable-libfreetype --enable-libfribidi --enable-libgme --enable-libgsm --enable-libmp3lame --enable-libmysofa --enable-libopenjpeg --enable-libopenmpt --enable-libopus --enable-libpulse --enable-librubberband --enable-librsvg --enable-libshine --enable-libsnappy --enable-libsoxr --enable-libspeex --enable-libssh --enable-libtheora --enable-libtwolame --enable-libvorbis --enable-libvpx --enable-libwavpack --enable-libwebp --enable-libx265 --enable-libxml2 --enable-libxvid --enable-libzmq --enable-libzvbi --enable-omx --enable-openal --enable-opengl --enable-sdl2 --enable-libdc1394 --enable-libdrm --enable-libiec61883 --enable-chromaprint --enable-frei0r --enable-libopencv --enable-libx264 --enable-shared\n",
            "  libavutil      55. 78.100 / 55. 78.100\n",
            "  libavcodec     57.107.100 / 57.107.100\n",
            "  libavformat    57. 83.100 / 57. 83.100\n",
            "  libavdevice    57. 10.100 / 57. 10.100\n",
            "  libavfilter     6.107.100 /  6.107.100\n",
            "  libavresample   3.  7.  0 /  3.  7.  0\n",
            "  libswscale      4.  8.100 /  4.  8.100\n",
            "  libswresample   2.  9.100 /  2.  9.100\n",
            "  libpostproc    54.  7.100 / 54.  7.100\n",
            "Input #0, mov,mp4,m4a,3gp,3g2,mj2, from '/content/adjusted_video.mp4':\n",
            "  Metadata:\n",
            "    major_brand     : isom\n",
            "    minor_version   : 512\n",
            "    compatible_brands: isomiso2avc1mp41\n",
            "    encoder         : Lavf57.83.100\n",
            "  Duration: 00:00:22.47, start: 0.000000, bitrate: 3374 kb/s\n",
            "    Stream #0:0(und): Video: h264 (High) (avc1 / 0x31637661), yuv420p, 1920x1440 [SAR 1:1 DAR 4:3], 3371 kb/s, 30 fps, 30 tbr, 15360 tbn, 60 tbc (default)\n",
            "    Metadata:\n",
            "      handler_name    : VideoHandler\n",
            "\u001b[0;35m[aac @ 0x56100eb18c00] \u001b[0m\u001b[0;33mEstimating duration from bitrate, this may be inaccurate\n",
            "\u001b[0mInput #1, aac, from '/content/output.aac':\n",
            "  Duration: 00:00:30.43, bitrate: 128 kb/s\n",
            "    Stream #1:0: Audio: aac (LC), 44100 Hz, stereo, fltp, 128 kb/s\n",
            "Stream mapping:\n",
            "  Stream #0:0 -> #0:0 (copy)\n",
            "  Stream #1:0 -> #0:1 (aac (native) -> aac (native))\n",
            "Press [q] to stop, [?] for help\n",
            "Output #0, mp4, to '/content/final_output.mp4':\n",
            "  Metadata:\n",
            "    major_brand     : isom\n",
            "    minor_version   : 512\n",
            "    compatible_brands: isomiso2avc1mp41\n",
            "    encoder         : Lavf57.83.100\n",
            "    Stream #0:0(und): Video: h264 (High) (avc1 / 0x31637661), yuv420p, 1920x1440 [SAR 1:1 DAR 4:3], q=2-31, 3371 kb/s, 30 fps, 30 tbr, 15360 tbn, 15360 tbc (default)\n",
            "    Metadata:\n",
            "      handler_name    : VideoHandler\n",
            "    Stream #0:1: Audio: aac (LC) (mp4a / 0x6134706D), 44100 Hz, stereo, fltp, 128 kb/s\n",
            "    Metadata:\n",
            "      encoder         : Lavc57.107.100 aac\n",
            "frame=  674 fps=0.0 q=-1.0 Lsize=    9739kB time=00:00:30.02 bitrate=2657.5kbits/s speed=37.9x    \n",
            "video:9247kB audio:466kB subtitle:0kB other streams:0kB global headers:0kB muxing overhead: 0.271066%\n",
            "\u001b[1;36m[aac @ 0x56100eb3b700] \u001b[0mQavg: 1268.999\n"
          ]
        }
      ]
    },
    {
      "cell_type": "code",
      "metadata": {
        "colab": {
          "base_uri": "https://localhost:8080/"
        },
        "id": "-8VC7h_9NkQ0",
        "outputId": "fa98d9e0-3067-4d64-c13b-02fadb921eb4"
      },
      "source": [
        "!ffmpeg -i /content/cropped_video.mp4 \\\n",
        "       -i /content/final_output.mp4 \\\n",
        "       -filter_complex \"[0:v]scale=720:-2[v0];[1:v]scale=720:-2[v1];[v0][v1]hstack=inputs=2\" \\\n",
        "       -vcodec libx264 -crf 23 /content/comparison_output.mp4"
      ],
      "execution_count": 27,
      "outputs": [
        {
          "output_type": "stream",
          "name": "stdout",
          "text": [
            "ffmpeg version 3.4.8-0ubuntu0.2 Copyright (c) 2000-2020 the FFmpeg developers\n",
            "  built with gcc 7 (Ubuntu 7.5.0-3ubuntu1~18.04)\n",
            "  configuration: --prefix=/usr --extra-version=0ubuntu0.2 --toolchain=hardened --libdir=/usr/lib/x86_64-linux-gnu --incdir=/usr/include/x86_64-linux-gnu --enable-gpl --disable-stripping --enable-avresample --enable-avisynth --enable-gnutls --enable-ladspa --enable-libass --enable-libbluray --enable-libbs2b --enable-libcaca --enable-libcdio --enable-libflite --enable-libfontconfig --enable-libfreetype --enable-libfribidi --enable-libgme --enable-libgsm --enable-libmp3lame --enable-libmysofa --enable-libopenjpeg --enable-libopenmpt --enable-libopus --enable-libpulse --enable-librubberband --enable-librsvg --enable-libshine --enable-libsnappy --enable-libsoxr --enable-libspeex --enable-libssh --enable-libtheora --enable-libtwolame --enable-libvorbis --enable-libvpx --enable-libwavpack --enable-libwebp --enable-libx265 --enable-libxml2 --enable-libxvid --enable-libzmq --enable-libzvbi --enable-omx --enable-openal --enable-opengl --enable-sdl2 --enable-libdc1394 --enable-libdrm --enable-libiec61883 --enable-chromaprint --enable-frei0r --enable-libopencv --enable-libx264 --enable-shared\n",
            "  libavutil      55. 78.100 / 55. 78.100\n",
            "  libavcodec     57.107.100 / 57.107.100\n",
            "  libavformat    57. 83.100 / 57. 83.100\n",
            "  libavdevice    57. 10.100 / 57. 10.100\n",
            "  libavfilter     6.107.100 /  6.107.100\n",
            "  libavresample   3.  7.  0 /  3.  7.  0\n",
            "  libswscale      4.  8.100 /  4.  8.100\n",
            "  libswresample   2.  9.100 /  2.  9.100\n",
            "  libpostproc    54.  7.100 / 54.  7.100\n",
            "Input #0, mov,mp4,m4a,3gp,3g2,mj2, from '/content/cropped_video.mp4':\n",
            "  Metadata:\n",
            "    major_brand     : isom\n",
            "    minor_version   : 512\n",
            "    compatible_brands: isomiso2avc1mp41\n",
            "    encoder         : Lavf57.83.100\n",
            "  Duration: 00:00:30.02, start: 0.000000, bitrate: 1081 kb/s\n",
            "    Stream #0:0(und): Video: h264 (High) (avc1 / 0x31637661), yuv420p, 960x720 [SAR 1:1 DAR 4:3], 945 kb/s, 30 fps, 30 tbr, 15360 tbn, 60 tbc (default)\n",
            "    Metadata:\n",
            "      handler_name    : VideoHandler\n",
            "    Stream #0:1(und): Audio: aac (LC) (mp4a / 0x6134706D), 44100 Hz, stereo, fltp, 127 kb/s (default)\n",
            "    Metadata:\n",
            "      handler_name    : SoundHandler\n",
            "Input #1, mov,mp4,m4a,3gp,3g2,mj2, from '/content/final_output.mp4':\n",
            "  Metadata:\n",
            "    major_brand     : isom\n",
            "    minor_version   : 512\n",
            "    compatible_brands: isomiso2avc1mp41\n",
            "    encoder         : Lavf57.83.100\n",
            "  Duration: 00:00:30.05, start: 0.000000, bitrate: 2655 kb/s\n",
            "    Stream #1:0(und): Video: h264 (High) (avc1 / 0x31637661), yuv420p, 1920x1440 [SAR 1:1 DAR 4:3], 3371 kb/s, 30 fps, 30 tbr, 15360 tbn, 60 tbc (default)\n",
            "    Metadata:\n",
            "      handler_name    : VideoHandler\n",
            "    Stream #1:1(und): Audio: aac (LC) (mp4a / 0x6134706D), 44100 Hz, stereo, fltp, 127 kb/s (default)\n",
            "    Metadata:\n",
            "      handler_name    : SoundHandler\n",
            "Stream mapping:\n",
            "  Stream #0:0 (h264) -> scale (graph 0)\n",
            "  Stream #1:0 (h264) -> scale (graph 0)\n",
            "  hstack (graph 0) -> Stream #0:0 (libx264)\n",
            "  Stream #0:1 -> #0:1 (aac (native) -> aac (native))\n",
            "Press [q] to stop, [?] for help\n",
            "\u001b[1;36m[libx264 @ 0x5570d8ecca00] \u001b[0musing SAR=1/1\n",
            "\u001b[1;36m[libx264 @ 0x5570d8ecca00] \u001b[0musing cpu capabilities: MMX2 SSE2Fast SSSE3 SSE4.2 AVX FMA3 BMI2 AVX2 AVX512\n",
            "\u001b[1;36m[libx264 @ 0x5570d8ecca00] \u001b[0mprofile High, level 3.1\n",
            "\u001b[1;36m[libx264 @ 0x5570d8ecca00] \u001b[0m264 - core 152 r2854 e9a5903 - H.264/MPEG-4 AVC codec - Copyleft 2003-2017 - http://www.videolan.org/x264.html - options: cabac=1 ref=3 deblock=1:0:0 analyse=0x3:0x113 me=hex subme=7 psy=1 psy_rd=1.00:0.00 mixed_ref=1 me_range=16 chroma_me=1 trellis=1 8x8dct=1 cqm=0 deadzone=21,11 fast_pskip=1 chroma_qp_offset=-2 threads=3 lookahead_threads=1 sliced_threads=0 nr=0 decimate=1 interlaced=0 bluray_compat=0 constrained_intra=0 bframes=3 b_pyramid=2 b_adapt=1 b_bias=0 direct=1 weightb=1 open_gop=0 weightp=2 keyint=250 keyint_min=25 scenecut=40 intra_refresh=0 rc_lookahead=40 rc=crf mbtree=1 crf=23.0 qcomp=0.60 qpmin=0 qpmax=69 qpstep=4 ip_ratio=1.40 aq=1:1.00\n",
            "Output #0, mp4, to '/content/comparison_output.mp4':\n",
            "  Metadata:\n",
            "    major_brand     : isom\n",
            "    minor_version   : 512\n",
            "    compatible_brands: isomiso2avc1mp41\n",
            "    encoder         : Lavf57.83.100\n",
            "    Stream #0:0: Video: h264 (libx264) (avc1 / 0x31637661), yuv420p, 1440x540 [SAR 1:1 DAR 8:3], q=-1--1, 30 fps, 15360 tbn, 30 tbc (default)\n",
            "    Metadata:\n",
            "      encoder         : Lavc57.107.100 libx264\n",
            "    Side data:\n",
            "      cpb: bitrate max/min/avg: 0/0/0 buffer size: 0 vbv_delay: -1\n",
            "    Stream #0:1(und): Audio: aac (LC) (mp4a / 0x6134706D), 44100 Hz, stereo, fltp, 128 kb/s (default)\n",
            "    Metadata:\n",
            "      handler_name    : SoundHandler\n",
            "      encoder         : Lavc57.107.100 aac\n",
            "frame=  900 fps= 23 q=-1.0 Lsize=    4196kB time=00:00:30.00 bitrate=1145.8kbits/s speed=0.782x    \n",
            "video:3697kB audio:466kB subtitle:0kB other streams:0kB global headers:0kB muxing overhead: 0.795762%\n",
            "\u001b[1;36m[libx264 @ 0x5570d8ecca00] \u001b[0mframe I:4     Avg QP:20.53  size: 44142\n",
            "\u001b[1;36m[libx264 @ 0x5570d8ecca00] \u001b[0mframe P:228   Avg QP:23.31  size: 11250\n",
            "\u001b[1;36m[libx264 @ 0x5570d8ecca00] \u001b[0mframe B:668   Avg QP:27.51  size:  1562\n",
            "\u001b[1;36m[libx264 @ 0x5570d8ecca00] \u001b[0mconsecutive B-frames:  0.7%  0.7%  1.3% 97.3%\n",
            "\u001b[1;36m[libx264 @ 0x5570d8ecca00] \u001b[0mmb I  I16..4:  8.4% 72.7% 19.0%\n",
            "\u001b[1;36m[libx264 @ 0x5570d8ecca00] \u001b[0mmb P  I16..4:  2.1%  5.9%  0.6%  P16..4: 38.3% 17.1%  6.8%  0.0%  0.0%    skip:29.2%\n",
            "\u001b[1;36m[libx264 @ 0x5570d8ecca00] \u001b[0mmb B  I16..4:  0.1%  0.1%  0.0%  B16..8: 30.2%  1.7%  0.1%  direct: 0.3%  skip:67.5%  L0:44.6% L1:52.7% BI: 2.7%\n",
            "\u001b[1;36m[libx264 @ 0x5570d8ecca00] \u001b[0m8x8 transform intra:68.7% inter:82.6%\n",
            "\u001b[1;36m[libx264 @ 0x5570d8ecca00] \u001b[0mcoded y,uvDC,uvAC intra: 50.6% 22.9% 8.0% inter: 8.9% 3.1% 0.0%\n",
            "\u001b[1;36m[libx264 @ 0x5570d8ecca00] \u001b[0mi16 v,h,dc,p: 41% 35%  6% 18%\n",
            "\u001b[1;36m[libx264 @ 0x5570d8ecca00] \u001b[0mi8 v,h,dc,ddl,ddr,vr,hd,vl,hu: 30% 20% 21%  3%  4%  7%  5%  6%  5%\n",
            "\u001b[1;36m[libx264 @ 0x5570d8ecca00] \u001b[0mi4 v,h,dc,ddl,ddr,vr,hd,vl,hu: 36% 20%  9%  4%  7%  8%  6%  6%  4%\n",
            "\u001b[1;36m[libx264 @ 0x5570d8ecca00] \u001b[0mi8c dc,h,v,p: 82%  7%  8%  3%\n",
            "\u001b[1;36m[libx264 @ 0x5570d8ecca00] \u001b[0mWeighted P-Frames: Y:24.6% UV:2.6%\n",
            "\u001b[1;36m[libx264 @ 0x5570d8ecca00] \u001b[0mref P L0: 48.5% 23.1% 19.1%  7.5%  1.9%\n",
            "\u001b[1;36m[libx264 @ 0x5570d8ecca00] \u001b[0mref B L0: 87.1% 10.4%  2.6%\n",
            "\u001b[1;36m[libx264 @ 0x5570d8ecca00] \u001b[0mref B L1: 94.8%  5.2%\n",
            "\u001b[1;36m[libx264 @ 0x5570d8ecca00] \u001b[0mkb/s:1009.37\n",
            "\u001b[1;36m[aac @ 0x5570d8ecd900] \u001b[0mQavg: 1199.130\n"
          ]
        }
      ]
    },
    {
      "cell_type": "code",
      "metadata": {
        "colab": {
          "base_uri": "https://localhost:8080/"
        },
        "id": "9Cj0Kxnzi_ah",
        "outputId": "6be8d166-f156-4010-b7fe-648893dbb879"
      },
      "source": [
        "#@title ファイルのバックアップ\n",
        "\n",
        "ProjectDir=\"/content/drive/MyDrive/Movie/\"+str(projectname)\n",
        "print(\"ProjectDir\")\n",
        "\n",
        "if os.path.isfile(ProjectDir):\n",
        "    shutil.rmtree(ProjectDir)\n",
        "\n",
        "os.mkdir(ProjectDir)\n",
        "os.chdir(ProjectDir)\n",
        "!mv /content/*.mp4 .\n",
        "!mv /content/output.aac ."
      ],
      "execution_count": 28,
      "outputs": [
        {
          "output_type": "stream",
          "name": "stdout",
          "text": [
            "ProjectDir\n"
          ]
        }
      ]
    }
  ]
}